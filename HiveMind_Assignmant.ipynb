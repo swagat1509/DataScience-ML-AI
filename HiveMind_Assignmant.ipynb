{
  "nbformat": 4,
  "nbformat_minor": 0,
  "metadata": {
    "colab": {
      "name": "HiveMind_Assignmant.ipynb",
      "provenance": [],
      "authorship_tag": "ABX9TyMqcJPVXQOMUnRK7FwPsJeZ",
      "include_colab_link": true
    },
    "kernelspec": {
      "name": "python3",
      "display_name": "Python 3"
    }
  },
  "cells": [
    {
      "cell_type": "markdown",
      "metadata": {
        "id": "view-in-github",
        "colab_type": "text"
      },
      "source": [
        "<a href=\"https://colab.research.google.com/github/swagat1509/DataScience-ML-AI/blob/master/HiveMind_Assignmant.ipynb\" target=\"_parent\"><img src=\"https://colab.research.google.com/assets/colab-badge.svg\" alt=\"Open In Colab\"/></a>"
      ]
    },
    {
      "cell_type": "markdown",
      "metadata": {
        "id": "IXCIqnk6k50D",
        "colab_type": "text"
      },
      "source": [
        "Importing the required libraries"
      ]
    },
    {
      "cell_type": "code",
      "metadata": {
        "id": "DwPQttGG8A6b",
        "colab_type": "code",
        "colab": {}
      },
      "source": [
        "import pandas as pd\n",
        "import numpy as np"
      ],
      "execution_count": 0,
      "outputs": []
    },
    {
      "cell_type": "code",
      "metadata": {
        "id": "SVVlLGpwh85A",
        "colab_type": "code",
        "colab": {}
      },
      "source": [
        "## Creating the happiness index dataframe for the year 2015\n",
        "h_2015=pd.read_csv('2015.csv')"
      ],
      "execution_count": 0,
      "outputs": []
    },
    {
      "cell_type": "code",
      "metadata": {
        "id": "fJUBWNjmiFg8",
        "colab_type": "code",
        "colab": {}
      },
      "source": [
        "## Creating the happiness index dataframe for the year 2016\n",
        "h_2016=pd.read_csv('2016.csv')"
      ],
      "execution_count": 0,
      "outputs": []
    },
    {
      "cell_type": "code",
      "metadata": {
        "id": "jvFw_6G0iczv",
        "colab_type": "code",
        "colab": {}
      },
      "source": [
        "## Creating the happiness index dataframe for the year 2017\n",
        "h_2017=pd.read_csv('2017.csv')"
      ],
      "execution_count": 0,
      "outputs": []
    },
    {
      "cell_type": "code",
      "metadata": {
        "id": "l_yINDBLijMp",
        "colab_type": "code",
        "colab": {}
      },
      "source": [
        ""
      ],
      "execution_count": 0,
      "outputs": []
    },
    {
      "cell_type": "markdown",
      "metadata": {
        "id": "IprEQKbCRbHi",
        "colab_type": "text"
      },
      "source": [
        "#### As we have data for 3 years so we will analyse each of the questions for all the years individually and answer the questions for each year individually."
      ]
    },
    {
      "cell_type": "markdown",
      "metadata": {
        "id": "IP_9XikQRw1t",
        "colab_type": "text"
      },
      "source": [
        "Inspecting and answering the questions for the year 2015"
      ]
    },
    {
      "cell_type": "code",
      "metadata": {
        "id": "AQ1wa52fizxY",
        "colab_type": "code",
        "colab": {
          "base_uri": "https://localhost:8080/",
          "height": 35
        },
        "outputId": "60d4d1fe-9125-47de-a6a7-8c77101d16fa"
      },
      "source": [
        "h_2015.shape"
      ],
      "execution_count": 145,
      "outputs": [
        {
          "output_type": "execute_result",
          "data": {
            "text/plain": [
              "(158, 12)"
            ]
          },
          "metadata": {
            "tags": []
          },
          "execution_count": 145
        }
      ]
    },
    {
      "cell_type": "markdown",
      "metadata": {
        "id": "0PdKNgwhSUWA",
        "colab_type": "text"
      },
      "source": [
        "The data frame has 158 rows and 12 coulms"
      ]
    },
    {
      "cell_type": "code",
      "metadata": {
        "id": "xBcGSvqYj3Do",
        "colab_type": "code",
        "colab": {
          "base_uri": "https://localhost:8080/",
          "height": 362
        },
        "outputId": "c44d07ce-2dc0-4bd2-b86c-46b5ef0f3fb3"
      },
      "source": [
        "h_2015.info()"
      ],
      "execution_count": 146,
      "outputs": [
        {
          "output_type": "stream",
          "text": [
            "<class 'pandas.core.frame.DataFrame'>\n",
            "RangeIndex: 158 entries, 0 to 157\n",
            "Data columns (total 12 columns):\n",
            " #   Column                         Non-Null Count  Dtype  \n",
            "---  ------                         --------------  -----  \n",
            " 0   Country                        158 non-null    object \n",
            " 1   Region                         158 non-null    object \n",
            " 2   Happiness Rank                 158 non-null    int64  \n",
            " 3   Happiness Score                158 non-null    float64\n",
            " 4   Standard Error                 158 non-null    float64\n",
            " 5   Economy (GDP per Capita)       158 non-null    float64\n",
            " 6   Family                         158 non-null    float64\n",
            " 7   Health (Life Expectancy)       158 non-null    float64\n",
            " 8   Freedom                        158 non-null    float64\n",
            " 9   Trust (Government Corruption)  158 non-null    float64\n",
            " 10  Generosity                     158 non-null    float64\n",
            " 11  Dystopia Residual              158 non-null    float64\n",
            "dtypes: float64(9), int64(1), object(2)\n",
            "memory usage: 14.9+ KB\n"
          ],
          "name": "stdout"
        }
      ]
    },
    {
      "cell_type": "markdown",
      "metadata": {
        "id": "d1rymXhqTI7O",
        "colab_type": "text"
      },
      "source": [
        "We can observe that there are no null values and also all the data formats are correct. "
      ]
    },
    {
      "cell_type": "markdown",
      "metadata": {
        "id": "RSkyB5jlTUMM",
        "colab_type": "text"
      },
      "source": [
        "Let us check if there are any duplicte values in the data frame"
      ]
    },
    {
      "cell_type": "code",
      "metadata": {
        "id": "I6wSt6ttSrb3",
        "colab_type": "code",
        "colab": {
          "base_uri": "https://localhost:8080/",
          "height": 84
        },
        "outputId": "c80dc062-26ed-42fb-9d38-235de60f6b1e"
      },
      "source": [
        "h_2015[h_2015.duplicated()]"
      ],
      "execution_count": 147,
      "outputs": [
        {
          "output_type": "execute_result",
          "data": {
            "text/html": [
              "<div>\n",
              "<style scoped>\n",
              "    .dataframe tbody tr th:only-of-type {\n",
              "        vertical-align: middle;\n",
              "    }\n",
              "\n",
              "    .dataframe tbody tr th {\n",
              "        vertical-align: top;\n",
              "    }\n",
              "\n",
              "    .dataframe thead th {\n",
              "        text-align: right;\n",
              "    }\n",
              "</style>\n",
              "<table border=\"1\" class=\"dataframe\">\n",
              "  <thead>\n",
              "    <tr style=\"text-align: right;\">\n",
              "      <th></th>\n",
              "      <th>Country</th>\n",
              "      <th>Region</th>\n",
              "      <th>Happiness Rank</th>\n",
              "      <th>Happiness Score</th>\n",
              "      <th>Standard Error</th>\n",
              "      <th>Economy (GDP per Capita)</th>\n",
              "      <th>Family</th>\n",
              "      <th>Health (Life Expectancy)</th>\n",
              "      <th>Freedom</th>\n",
              "      <th>Trust (Government Corruption)</th>\n",
              "      <th>Generosity</th>\n",
              "      <th>Dystopia Residual</th>\n",
              "    </tr>\n",
              "  </thead>\n",
              "  <tbody>\n",
              "  </tbody>\n",
              "</table>\n",
              "</div>"
            ],
            "text/plain": [
              "Empty DataFrame\n",
              "Columns: [Country, Region, Happiness Rank, Happiness Score, Standard Error, Economy (GDP per Capita), Family, Health (Life Expectancy), Freedom, Trust (Government Corruption), Generosity, Dystopia Residual]\n",
              "Index: []"
            ]
          },
          "metadata": {
            "tags": []
          },
          "execution_count": 147
        }
      ]
    },
    {
      "cell_type": "markdown",
      "metadata": {
        "id": "ObAqzSCHTknH",
        "colab_type": "text"
      },
      "source": [
        "We can see that there are no duplicate values as well"
      ]
    },
    {
      "cell_type": "markdown",
      "metadata": {
        "id": "aJ1pyjjfTrLB",
        "colab_type": "text"
      },
      "source": [
        "Now lets start answering the questions:"
      ]
    },
    {
      "cell_type": "markdown",
      "metadata": {
        "id": "W0jdYwqNS4BM",
        "colab_type": "text"
      },
      "source": [
        "#### Q1: Countries with a hapiness score of <5.0"
      ]
    },
    {
      "cell_type": "markdown",
      "metadata": {
        "id": "EwHNzlneT3nN",
        "colab_type": "text"
      },
      "source": [
        "Let us see how many unique countries are there:"
      ]
    },
    {
      "cell_type": "code",
      "metadata": {
        "id": "8P_HwKVPTBzq",
        "colab_type": "code",
        "colab": {
          "base_uri": "https://localhost:8080/",
          "height": 235
        },
        "outputId": "4c4deef3-b88f-4f64-b25f-c096912aa5e2"
      },
      "source": [
        "h_2015.Country.value_counts()"
      ],
      "execution_count": 148,
      "outputs": [
        {
          "output_type": "execute_result",
          "data": {
            "text/plain": [
              "Zimbabwe            1\n",
              "Lebanon             1\n",
              "Ecuador             1\n",
              "Congo (Kinshasa)    1\n",
              "Armenia             1\n",
              "                   ..\n",
              "Denmark             1\n",
              "Chile               1\n",
              "Uzbekistan          1\n",
              "Hong Kong           1\n",
              "Zambia              1\n",
              "Name: Country, Length: 158, dtype: int64"
            ]
          },
          "metadata": {
            "tags": []
          },
          "execution_count": 148
        }
      ]
    },
    {
      "cell_type": "code",
      "metadata": {
        "id": "c8NWTes4UA_-",
        "colab_type": "code",
        "colab": {
          "base_uri": "https://localhost:8080/",
          "height": 598
        },
        "outputId": "5407b2e4-7c85-4ded-c4c8-5147a21a823f"
      },
      "source": [
        "## All the unique countries in the dataframe \n",
        "h_2015.Country.unique()"
      ],
      "execution_count": 149,
      "outputs": [
        {
          "output_type": "execute_result",
          "data": {
            "text/plain": [
              "array(['Switzerland', 'Iceland', 'Denmark', 'Norway', 'Canada', 'Finland',\n",
              "       'Netherlands', 'Sweden', 'New Zealand', 'Australia', 'Israel',\n",
              "       'Costa Rica', 'Austria', 'Mexico', 'United States', 'Brazil',\n",
              "       'Luxembourg', 'Ireland', 'Belgium', 'United Arab Emirates',\n",
              "       'United Kingdom', 'Oman', 'Venezuela', 'Singapore', 'Panama',\n",
              "       'Germany', 'Chile', 'Qatar', 'France', 'Argentina',\n",
              "       'Czech Republic', 'Uruguay', 'Colombia', 'Thailand',\n",
              "       'Saudi Arabia', 'Spain', 'Malta', 'Taiwan', 'Kuwait', 'Suriname',\n",
              "       'Trinidad and Tobago', 'El Salvador', 'Guatemala', 'Uzbekistan',\n",
              "       'Slovakia', 'Japan', 'South Korea', 'Ecuador', 'Bahrain', 'Italy',\n",
              "       'Bolivia', 'Moldova', 'Paraguay', 'Kazakhstan', 'Slovenia',\n",
              "       'Lithuania', 'Nicaragua', 'Peru', 'Belarus', 'Poland', 'Malaysia',\n",
              "       'Croatia', 'Libya', 'Russia', 'Jamaica', 'North Cyprus', 'Cyprus',\n",
              "       'Algeria', 'Kosovo', 'Turkmenistan', 'Mauritius', 'Hong Kong',\n",
              "       'Estonia', 'Indonesia', 'Vietnam', 'Turkey', 'Kyrgyzstan',\n",
              "       'Nigeria', 'Bhutan', 'Azerbaijan', 'Pakistan', 'Jordan',\n",
              "       'Montenegro', 'China', 'Zambia', 'Romania', 'Serbia', 'Portugal',\n",
              "       'Latvia', 'Philippines', 'Somaliland region', 'Morocco',\n",
              "       'Macedonia', 'Mozambique', 'Albania', 'Bosnia and Herzegovina',\n",
              "       'Lesotho', 'Dominican Republic', 'Laos', 'Mongolia', 'Swaziland',\n",
              "       'Greece', 'Lebanon', 'Hungary', 'Honduras', 'Tajikistan',\n",
              "       'Tunisia', 'Palestinian Territories', 'Bangladesh', 'Iran',\n",
              "       'Ukraine', 'Iraq', 'South Africa', 'Ghana', 'Zimbabwe', 'Liberia',\n",
              "       'India', 'Sudan', 'Haiti', 'Congo (Kinshasa)', 'Nepal', 'Ethiopia',\n",
              "       'Sierra Leone', 'Mauritania', 'Kenya', 'Djibouti', 'Armenia',\n",
              "       'Botswana', 'Myanmar', 'Georgia', 'Malawi', 'Sri Lanka',\n",
              "       'Cameroon', 'Bulgaria', 'Egypt', 'Yemen', 'Angola', 'Mali',\n",
              "       'Congo (Brazzaville)', 'Comoros', 'Uganda', 'Senegal', 'Gabon',\n",
              "       'Niger', 'Cambodia', 'Tanzania', 'Madagascar',\n",
              "       'Central African Republic', 'Chad', 'Guinea', 'Ivory Coast',\n",
              "       'Burkina Faso', 'Afghanistan', 'Rwanda', 'Benin', 'Syria',\n",
              "       'Burundi', 'Togo'], dtype=object)"
            ]
          },
          "metadata": {
            "tags": []
          },
          "execution_count": 149
        }
      ]
    },
    {
      "cell_type": "code",
      "metadata": {
        "id": "bUE2MJrfUOTd",
        "colab_type": "code",
        "colab": {}
      },
      "source": [
        "h_2015_less=h_2015.loc[(h_2015['Happiness Score']<5.0),:]"
      ],
      "execution_count": 0,
      "outputs": []
    },
    {
      "cell_type": "markdown",
      "metadata": {
        "id": "rxtG0OWHVgOJ",
        "colab_type": "text"
      },
      "source": [
        "Below are the countries that have a Happiness Score of < 5.0 for the Year 2015."
      ]
    },
    {
      "cell_type": "code",
      "metadata": {
        "id": "9B0p25NsUoxE",
        "colab_type": "code",
        "colab": {
          "base_uri": "https://localhost:8080/",
          "height": 271
        },
        "outputId": "79b16440-03aa-4914-9e52-80b3a174fcf9"
      },
      "source": [
        "h_2015_less.Country.unique()"
      ],
      "execution_count": 151,
      "outputs": [
        {
          "output_type": "execute_result",
          "data": {
            "text/plain": [
              "array(['Mozambique', 'Albania', 'Bosnia and Herzegovina', 'Lesotho',\n",
              "       'Dominican Republic', 'Laos', 'Mongolia', 'Swaziland', 'Greece',\n",
              "       'Lebanon', 'Hungary', 'Honduras', 'Tajikistan', 'Tunisia',\n",
              "       'Palestinian Territories', 'Bangladesh', 'Iran', 'Ukraine', 'Iraq',\n",
              "       'South Africa', 'Ghana', 'Zimbabwe', 'Liberia', 'India', 'Sudan',\n",
              "       'Haiti', 'Congo (Kinshasa)', 'Nepal', 'Ethiopia', 'Sierra Leone',\n",
              "       'Mauritania', 'Kenya', 'Djibouti', 'Armenia', 'Botswana',\n",
              "       'Myanmar', 'Georgia', 'Malawi', 'Sri Lanka', 'Cameroon',\n",
              "       'Bulgaria', 'Egypt', 'Yemen', 'Angola', 'Mali',\n",
              "       'Congo (Brazzaville)', 'Comoros', 'Uganda', 'Senegal', 'Gabon',\n",
              "       'Niger', 'Cambodia', 'Tanzania', 'Madagascar',\n",
              "       'Central African Republic', 'Chad', 'Guinea', 'Ivory Coast',\n",
              "       'Burkina Faso', 'Afghanistan', 'Rwanda', 'Benin', 'Syria',\n",
              "       'Burundi', 'Togo'], dtype=object)"
            ]
          },
          "metadata": {
            "tags": []
          },
          "execution_count": 151
        }
      ]
    },
    {
      "cell_type": "markdown",
      "metadata": {
        "id": "GTLPPTXP0TRF",
        "colab_type": "text"
      },
      "source": [
        "Below are the countries that have a Happiness Score of < 5.0 for the Year 2016."
      ]
    },
    {
      "cell_type": "code",
      "metadata": {
        "id": "CEfRWaxv0bbc",
        "colab_type": "code",
        "colab": {
          "base_uri": "https://localhost:8080/",
          "height": 217
        },
        "outputId": "e3f864ff-591d-4fe7-e69f-c50fba5334e3"
      },
      "source": [
        "h_2016_less=h_2016.loc[(h_2016['Happiness Score']<5.0),:]\n",
        "h_2016_less.Country.unique()\n"
      ],
      "execution_count": 169,
      "outputs": [
        {
          "output_type": "execute_result",
          "data": {
            "text/plain": [
              "array(['Tajikistan', 'Mongolia', 'Laos', 'Nigeria', 'Honduras', 'Iran',\n",
              "       'Zambia', 'Nepal', 'Palestinian Territories', 'Albania',\n",
              "       'Bangladesh', 'Sierra Leone', 'Iraq', 'Namibia', 'Cameroon',\n",
              "       'Ethiopia', 'South Africa', 'Sri Lanka', 'India', 'Myanmar',\n",
              "       'Egypt', 'Armenia', 'Kenya', 'Ukraine', 'Ghana',\n",
              "       'Congo (Kinshasa)', 'Georgia', 'Congo (Brazzaville)', 'Senegal',\n",
              "       'Bulgaria', 'Mauritania', 'Zimbabwe', 'Malawi', 'Sudan', 'Gabon',\n",
              "       'Mali', 'Haiti', 'Botswana', 'Comoros', 'Ivory Coast', 'Cambodia',\n",
              "       'Angola', 'Niger', 'South Sudan', 'Chad', 'Burkina Faso', 'Uganda',\n",
              "       'Yemen', 'Madagascar', 'Tanzania', 'Liberia', 'Guinea', 'Rwanda',\n",
              "       'Benin', 'Afghanistan', 'Togo', 'Syria', 'Burundi'], dtype=object)"
            ]
          },
          "metadata": {
            "tags": []
          },
          "execution_count": 169
        }
      ]
    },
    {
      "cell_type": "markdown",
      "metadata": {
        "id": "FZZUHEGh0s65",
        "colab_type": "text"
      },
      "source": [
        "Below are the countries that have a Happiness Score of < 5.0 for the Year 2017."
      ]
    },
    {
      "cell_type": "code",
      "metadata": {
        "id": "WSvEA2oo0wad",
        "colab_type": "code",
        "colab": {
          "base_uri": "https://localhost:8080/",
          "height": 235
        },
        "outputId": "e7368437-603e-4712-91da-546d65997e7f"
      },
      "source": [
        "h_2017_less=h_2017.loc[(h_2017['Happiness.Score']<5.0),:]\n",
        "h_2017_less.Country.unique()\n"
      ],
      "execution_count": 170,
      "outputs": [
        {
          "output_type": "execute_result",
          "data": {
            "text/plain": [
              "array(['Nepal', 'Mongolia', 'South Africa', 'Tunisia',\n",
              "       'Palestinian Territories', 'Egypt', 'Bulgaria', 'Sierra Leone',\n",
              "       'Cameroon', 'Iran', 'Albania', 'Bangladesh', 'Namibia', 'Kenya',\n",
              "       'Mozambique', 'Myanmar', 'Senegal', 'Zambia', 'Iraq', 'Gabon',\n",
              "       'Ethiopia', 'Sri Lanka', 'Armenia', 'India', 'Mauritania',\n",
              "       'Congo (Brazzaville)', 'Georgia', 'Congo (Kinshasa)', 'Mali',\n",
              "       'Ivory Coast', 'Cambodia', 'Sudan', 'Ghana', 'Ukraine', 'Uganda',\n",
              "       'Burkina Faso', 'Niger', 'Malawi', 'Chad', 'Zimbabwe', 'Lesotho',\n",
              "       'Angola', 'Afghanistan', 'Botswana', 'Benin', 'Madagascar',\n",
              "       'Haiti', 'Yemen', 'South Sudan', 'Liberia', 'Guinea', 'Togo',\n",
              "       'Rwanda', 'Syria', 'Tanzania', 'Burundi',\n",
              "       'Central African Republic'], dtype=object)"
            ]
          },
          "metadata": {
            "tags": []
          },
          "execution_count": 170
        }
      ]
    },
    {
      "cell_type": "markdown",
      "metadata": {
        "id": "hPZN2uqu07fj",
        "colab_type": "text"
      },
      "source": [
        "#### Q2: Which is the unhappiest country in Sub-Saharan Africa?\n"
      ]
    },
    {
      "cell_type": "markdown",
      "metadata": {
        "id": "EjWKYf1T1Sxf",
        "colab_type": "text"
      },
      "source": [
        "We will first check for the year 2015, which is the Unhappiest country in the Sub-Saharan Region"
      ]
    },
    {
      "cell_type": "code",
      "metadata": {
        "id": "omHNCbYFVRAE",
        "colab_type": "code",
        "colab": {
          "base_uri": "https://localhost:8080/",
          "height": 1000
        },
        "outputId": "d05934ac-2249-491c-af49-08f2f714a586"
      },
      "source": [
        "h_2015.loc[(h_2015['Region']=='Sub-Saharan Africa'),:]"
      ],
      "execution_count": 152,
      "outputs": [
        {
          "output_type": "execute_result",
          "data": {
            "text/html": [
              "<div>\n",
              "<style scoped>\n",
              "    .dataframe tbody tr th:only-of-type {\n",
              "        vertical-align: middle;\n",
              "    }\n",
              "\n",
              "    .dataframe tbody tr th {\n",
              "        vertical-align: top;\n",
              "    }\n",
              "\n",
              "    .dataframe thead th {\n",
              "        text-align: right;\n",
              "    }\n",
              "</style>\n",
              "<table border=\"1\" class=\"dataframe\">\n",
              "  <thead>\n",
              "    <tr style=\"text-align: right;\">\n",
              "      <th></th>\n",
              "      <th>Country</th>\n",
              "      <th>Region</th>\n",
              "      <th>Happiness Rank</th>\n",
              "      <th>Happiness Score</th>\n",
              "      <th>Standard Error</th>\n",
              "      <th>Economy (GDP per Capita)</th>\n",
              "      <th>Family</th>\n",
              "      <th>Health (Life Expectancy)</th>\n",
              "      <th>Freedom</th>\n",
              "      <th>Trust (Government Corruption)</th>\n",
              "      <th>Generosity</th>\n",
              "      <th>Dystopia Residual</th>\n",
              "    </tr>\n",
              "  </thead>\n",
              "  <tbody>\n",
              "    <tr>\n",
              "      <th>70</th>\n",
              "      <td>Mauritius</td>\n",
              "      <td>Sub-Saharan Africa</td>\n",
              "      <td>71</td>\n",
              "      <td>5.477</td>\n",
              "      <td>0.07197</td>\n",
              "      <td>1.00761</td>\n",
              "      <td>0.98521</td>\n",
              "      <td>0.70950</td>\n",
              "      <td>0.56066</td>\n",
              "      <td>0.07521</td>\n",
              "      <td>0.37744</td>\n",
              "      <td>1.76145</td>\n",
              "    </tr>\n",
              "    <tr>\n",
              "      <th>77</th>\n",
              "      <td>Nigeria</td>\n",
              "      <td>Sub-Saharan Africa</td>\n",
              "      <td>78</td>\n",
              "      <td>5.268</td>\n",
              "      <td>0.04192</td>\n",
              "      <td>0.65435</td>\n",
              "      <td>0.90432</td>\n",
              "      <td>0.16007</td>\n",
              "      <td>0.34334</td>\n",
              "      <td>0.04030</td>\n",
              "      <td>0.27233</td>\n",
              "      <td>2.89319</td>\n",
              "    </tr>\n",
              "    <tr>\n",
              "      <th>84</th>\n",
              "      <td>Zambia</td>\n",
              "      <td>Sub-Saharan Africa</td>\n",
              "      <td>85</td>\n",
              "      <td>5.129</td>\n",
              "      <td>0.06988</td>\n",
              "      <td>0.47038</td>\n",
              "      <td>0.91612</td>\n",
              "      <td>0.29924</td>\n",
              "      <td>0.48827</td>\n",
              "      <td>0.12468</td>\n",
              "      <td>0.19591</td>\n",
              "      <td>2.63430</td>\n",
              "    </tr>\n",
              "    <tr>\n",
              "      <th>90</th>\n",
              "      <td>Somaliland region</td>\n",
              "      <td>Sub-Saharan Africa</td>\n",
              "      <td>91</td>\n",
              "      <td>5.057</td>\n",
              "      <td>0.06161</td>\n",
              "      <td>0.18847</td>\n",
              "      <td>0.95152</td>\n",
              "      <td>0.43873</td>\n",
              "      <td>0.46582</td>\n",
              "      <td>0.39928</td>\n",
              "      <td>0.50318</td>\n",
              "      <td>2.11032</td>\n",
              "    </tr>\n",
              "    <tr>\n",
              "      <th>93</th>\n",
              "      <td>Mozambique</td>\n",
              "      <td>Sub-Saharan Africa</td>\n",
              "      <td>94</td>\n",
              "      <td>4.971</td>\n",
              "      <td>0.07896</td>\n",
              "      <td>0.08308</td>\n",
              "      <td>1.02626</td>\n",
              "      <td>0.09131</td>\n",
              "      <td>0.34037</td>\n",
              "      <td>0.15603</td>\n",
              "      <td>0.22269</td>\n",
              "      <td>3.05137</td>\n",
              "    </tr>\n",
              "    <tr>\n",
              "      <th>96</th>\n",
              "      <td>Lesotho</td>\n",
              "      <td>Sub-Saharan Africa</td>\n",
              "      <td>97</td>\n",
              "      <td>4.898</td>\n",
              "      <td>0.09438</td>\n",
              "      <td>0.37545</td>\n",
              "      <td>1.04103</td>\n",
              "      <td>0.07612</td>\n",
              "      <td>0.31767</td>\n",
              "      <td>0.12504</td>\n",
              "      <td>0.16388</td>\n",
              "      <td>2.79832</td>\n",
              "    </tr>\n",
              "    <tr>\n",
              "      <th>100</th>\n",
              "      <td>Swaziland</td>\n",
              "      <td>Sub-Saharan Africa</td>\n",
              "      <td>101</td>\n",
              "      <td>4.867</td>\n",
              "      <td>0.08742</td>\n",
              "      <td>0.71206</td>\n",
              "      <td>1.07284</td>\n",
              "      <td>0.07566</td>\n",
              "      <td>0.30658</td>\n",
              "      <td>0.03060</td>\n",
              "      <td>0.18259</td>\n",
              "      <td>2.48676</td>\n",
              "    </tr>\n",
              "    <tr>\n",
              "      <th>112</th>\n",
              "      <td>South Africa</td>\n",
              "      <td>Sub-Saharan Africa</td>\n",
              "      <td>113</td>\n",
              "      <td>4.642</td>\n",
              "      <td>0.04585</td>\n",
              "      <td>0.92049</td>\n",
              "      <td>1.18468</td>\n",
              "      <td>0.27688</td>\n",
              "      <td>0.33207</td>\n",
              "      <td>0.08884</td>\n",
              "      <td>0.11973</td>\n",
              "      <td>1.71956</td>\n",
              "    </tr>\n",
              "    <tr>\n",
              "      <th>113</th>\n",
              "      <td>Ghana</td>\n",
              "      <td>Sub-Saharan Africa</td>\n",
              "      <td>114</td>\n",
              "      <td>4.633</td>\n",
              "      <td>0.04742</td>\n",
              "      <td>0.54558</td>\n",
              "      <td>0.67954</td>\n",
              "      <td>0.40132</td>\n",
              "      <td>0.42342</td>\n",
              "      <td>0.04355</td>\n",
              "      <td>0.23087</td>\n",
              "      <td>2.30919</td>\n",
              "    </tr>\n",
              "    <tr>\n",
              "      <th>114</th>\n",
              "      <td>Zimbabwe</td>\n",
              "      <td>Sub-Saharan Africa</td>\n",
              "      <td>115</td>\n",
              "      <td>4.610</td>\n",
              "      <td>0.04290</td>\n",
              "      <td>0.27100</td>\n",
              "      <td>1.03276</td>\n",
              "      <td>0.33475</td>\n",
              "      <td>0.25861</td>\n",
              "      <td>0.08079</td>\n",
              "      <td>0.18987</td>\n",
              "      <td>2.44191</td>\n",
              "    </tr>\n",
              "    <tr>\n",
              "      <th>115</th>\n",
              "      <td>Liberia</td>\n",
              "      <td>Sub-Saharan Africa</td>\n",
              "      <td>116</td>\n",
              "      <td>4.571</td>\n",
              "      <td>0.11068</td>\n",
              "      <td>0.07120</td>\n",
              "      <td>0.78968</td>\n",
              "      <td>0.34201</td>\n",
              "      <td>0.28531</td>\n",
              "      <td>0.06232</td>\n",
              "      <td>0.24362</td>\n",
              "      <td>2.77729</td>\n",
              "    </tr>\n",
              "    <tr>\n",
              "      <th>117</th>\n",
              "      <td>Sudan</td>\n",
              "      <td>Sub-Saharan Africa</td>\n",
              "      <td>118</td>\n",
              "      <td>4.550</td>\n",
              "      <td>0.06740</td>\n",
              "      <td>0.52107</td>\n",
              "      <td>1.01404</td>\n",
              "      <td>0.36878</td>\n",
              "      <td>0.10081</td>\n",
              "      <td>0.14660</td>\n",
              "      <td>0.19062</td>\n",
              "      <td>2.20857</td>\n",
              "    </tr>\n",
              "    <tr>\n",
              "      <th>119</th>\n",
              "      <td>Congo (Kinshasa)</td>\n",
              "      <td>Sub-Saharan Africa</td>\n",
              "      <td>120</td>\n",
              "      <td>4.517</td>\n",
              "      <td>0.03680</td>\n",
              "      <td>0.00000</td>\n",
              "      <td>1.00120</td>\n",
              "      <td>0.09806</td>\n",
              "      <td>0.22605</td>\n",
              "      <td>0.07625</td>\n",
              "      <td>0.24834</td>\n",
              "      <td>2.86712</td>\n",
              "    </tr>\n",
              "    <tr>\n",
              "      <th>121</th>\n",
              "      <td>Ethiopia</td>\n",
              "      <td>Sub-Saharan Africa</td>\n",
              "      <td>122</td>\n",
              "      <td>4.512</td>\n",
              "      <td>0.03780</td>\n",
              "      <td>0.19073</td>\n",
              "      <td>0.60406</td>\n",
              "      <td>0.44055</td>\n",
              "      <td>0.43450</td>\n",
              "      <td>0.15048</td>\n",
              "      <td>0.24325</td>\n",
              "      <td>2.44876</td>\n",
              "    </tr>\n",
              "    <tr>\n",
              "      <th>122</th>\n",
              "      <td>Sierra Leone</td>\n",
              "      <td>Sub-Saharan Africa</td>\n",
              "      <td>123</td>\n",
              "      <td>4.507</td>\n",
              "      <td>0.07068</td>\n",
              "      <td>0.33024</td>\n",
              "      <td>0.95571</td>\n",
              "      <td>0.00000</td>\n",
              "      <td>0.40840</td>\n",
              "      <td>0.08786</td>\n",
              "      <td>0.21488</td>\n",
              "      <td>2.51009</td>\n",
              "    </tr>\n",
              "    <tr>\n",
              "      <th>123</th>\n",
              "      <td>Mauritania</td>\n",
              "      <td>Sub-Saharan Africa</td>\n",
              "      <td>124</td>\n",
              "      <td>4.436</td>\n",
              "      <td>0.03947</td>\n",
              "      <td>0.45407</td>\n",
              "      <td>0.86908</td>\n",
              "      <td>0.35874</td>\n",
              "      <td>0.24232</td>\n",
              "      <td>0.17461</td>\n",
              "      <td>0.21900</td>\n",
              "      <td>2.11773</td>\n",
              "    </tr>\n",
              "    <tr>\n",
              "      <th>124</th>\n",
              "      <td>Kenya</td>\n",
              "      <td>Sub-Saharan Africa</td>\n",
              "      <td>125</td>\n",
              "      <td>4.419</td>\n",
              "      <td>0.04734</td>\n",
              "      <td>0.36471</td>\n",
              "      <td>0.99876</td>\n",
              "      <td>0.41435</td>\n",
              "      <td>0.42215</td>\n",
              "      <td>0.05839</td>\n",
              "      <td>0.37542</td>\n",
              "      <td>1.78555</td>\n",
              "    </tr>\n",
              "    <tr>\n",
              "      <th>125</th>\n",
              "      <td>Djibouti</td>\n",
              "      <td>Sub-Saharan Africa</td>\n",
              "      <td>126</td>\n",
              "      <td>4.369</td>\n",
              "      <td>0.08096</td>\n",
              "      <td>0.44025</td>\n",
              "      <td>0.59207</td>\n",
              "      <td>0.36291</td>\n",
              "      <td>0.46074</td>\n",
              "      <td>0.28105</td>\n",
              "      <td>0.18093</td>\n",
              "      <td>2.05125</td>\n",
              "    </tr>\n",
              "    <tr>\n",
              "      <th>127</th>\n",
              "      <td>Botswana</td>\n",
              "      <td>Sub-Saharan Africa</td>\n",
              "      <td>128</td>\n",
              "      <td>4.332</td>\n",
              "      <td>0.04934</td>\n",
              "      <td>0.99355</td>\n",
              "      <td>1.10464</td>\n",
              "      <td>0.04776</td>\n",
              "      <td>0.49495</td>\n",
              "      <td>0.12474</td>\n",
              "      <td>0.10461</td>\n",
              "      <td>1.46181</td>\n",
              "    </tr>\n",
              "    <tr>\n",
              "      <th>130</th>\n",
              "      <td>Malawi</td>\n",
              "      <td>Sub-Saharan Africa</td>\n",
              "      <td>131</td>\n",
              "      <td>4.292</td>\n",
              "      <td>0.06130</td>\n",
              "      <td>0.01604</td>\n",
              "      <td>0.41134</td>\n",
              "      <td>0.22562</td>\n",
              "      <td>0.43054</td>\n",
              "      <td>0.06977</td>\n",
              "      <td>0.33128</td>\n",
              "      <td>2.80791</td>\n",
              "    </tr>\n",
              "    <tr>\n",
              "      <th>132</th>\n",
              "      <td>Cameroon</td>\n",
              "      <td>Sub-Saharan Africa</td>\n",
              "      <td>133</td>\n",
              "      <td>4.252</td>\n",
              "      <td>0.04678</td>\n",
              "      <td>0.42250</td>\n",
              "      <td>0.88767</td>\n",
              "      <td>0.23402</td>\n",
              "      <td>0.49309</td>\n",
              "      <td>0.05786</td>\n",
              "      <td>0.20618</td>\n",
              "      <td>1.95071</td>\n",
              "    </tr>\n",
              "    <tr>\n",
              "      <th>136</th>\n",
              "      <td>Angola</td>\n",
              "      <td>Sub-Saharan Africa</td>\n",
              "      <td>137</td>\n",
              "      <td>4.033</td>\n",
              "      <td>0.04758</td>\n",
              "      <td>0.75778</td>\n",
              "      <td>0.86040</td>\n",
              "      <td>0.16683</td>\n",
              "      <td>0.10384</td>\n",
              "      <td>0.07122</td>\n",
              "      <td>0.12344</td>\n",
              "      <td>1.94939</td>\n",
              "    </tr>\n",
              "    <tr>\n",
              "      <th>137</th>\n",
              "      <td>Mali</td>\n",
              "      <td>Sub-Saharan Africa</td>\n",
              "      <td>138</td>\n",
              "      <td>3.995</td>\n",
              "      <td>0.05602</td>\n",
              "      <td>0.26074</td>\n",
              "      <td>1.03526</td>\n",
              "      <td>0.20583</td>\n",
              "      <td>0.38857</td>\n",
              "      <td>0.12352</td>\n",
              "      <td>0.18798</td>\n",
              "      <td>1.79293</td>\n",
              "    </tr>\n",
              "    <tr>\n",
              "      <th>138</th>\n",
              "      <td>Congo (Brazzaville)</td>\n",
              "      <td>Sub-Saharan Africa</td>\n",
              "      <td>139</td>\n",
              "      <td>3.989</td>\n",
              "      <td>0.06682</td>\n",
              "      <td>0.67866</td>\n",
              "      <td>0.66290</td>\n",
              "      <td>0.31051</td>\n",
              "      <td>0.41466</td>\n",
              "      <td>0.11686</td>\n",
              "      <td>0.12388</td>\n",
              "      <td>1.68135</td>\n",
              "    </tr>\n",
              "    <tr>\n",
              "      <th>139</th>\n",
              "      <td>Comoros</td>\n",
              "      <td>Sub-Saharan Africa</td>\n",
              "      <td>140</td>\n",
              "      <td>3.956</td>\n",
              "      <td>0.04797</td>\n",
              "      <td>0.23906</td>\n",
              "      <td>0.79273</td>\n",
              "      <td>0.36315</td>\n",
              "      <td>0.22917</td>\n",
              "      <td>0.19900</td>\n",
              "      <td>0.17441</td>\n",
              "      <td>1.95812</td>\n",
              "    </tr>\n",
              "    <tr>\n",
              "      <th>140</th>\n",
              "      <td>Uganda</td>\n",
              "      <td>Sub-Saharan Africa</td>\n",
              "      <td>141</td>\n",
              "      <td>3.931</td>\n",
              "      <td>0.04317</td>\n",
              "      <td>0.21102</td>\n",
              "      <td>1.13299</td>\n",
              "      <td>0.33861</td>\n",
              "      <td>0.45727</td>\n",
              "      <td>0.07267</td>\n",
              "      <td>0.29066</td>\n",
              "      <td>1.42766</td>\n",
              "    </tr>\n",
              "    <tr>\n",
              "      <th>141</th>\n",
              "      <td>Senegal</td>\n",
              "      <td>Sub-Saharan Africa</td>\n",
              "      <td>142</td>\n",
              "      <td>3.904</td>\n",
              "      <td>0.03608</td>\n",
              "      <td>0.36498</td>\n",
              "      <td>0.97619</td>\n",
              "      <td>0.43540</td>\n",
              "      <td>0.36772</td>\n",
              "      <td>0.10713</td>\n",
              "      <td>0.20843</td>\n",
              "      <td>1.44395</td>\n",
              "    </tr>\n",
              "    <tr>\n",
              "      <th>142</th>\n",
              "      <td>Gabon</td>\n",
              "      <td>Sub-Saharan Africa</td>\n",
              "      <td>143</td>\n",
              "      <td>3.896</td>\n",
              "      <td>0.04547</td>\n",
              "      <td>1.06024</td>\n",
              "      <td>0.90528</td>\n",
              "      <td>0.43372</td>\n",
              "      <td>0.31914</td>\n",
              "      <td>0.11091</td>\n",
              "      <td>0.06822</td>\n",
              "      <td>0.99895</td>\n",
              "    </tr>\n",
              "    <tr>\n",
              "      <th>143</th>\n",
              "      <td>Niger</td>\n",
              "      <td>Sub-Saharan Africa</td>\n",
              "      <td>144</td>\n",
              "      <td>3.845</td>\n",
              "      <td>0.03602</td>\n",
              "      <td>0.06940</td>\n",
              "      <td>0.77265</td>\n",
              "      <td>0.29707</td>\n",
              "      <td>0.47692</td>\n",
              "      <td>0.15639</td>\n",
              "      <td>0.19387</td>\n",
              "      <td>1.87877</td>\n",
              "    </tr>\n",
              "    <tr>\n",
              "      <th>145</th>\n",
              "      <td>Tanzania</td>\n",
              "      <td>Sub-Saharan Africa</td>\n",
              "      <td>146</td>\n",
              "      <td>3.781</td>\n",
              "      <td>0.05061</td>\n",
              "      <td>0.28520</td>\n",
              "      <td>1.00268</td>\n",
              "      <td>0.38215</td>\n",
              "      <td>0.32878</td>\n",
              "      <td>0.05747</td>\n",
              "      <td>0.34377</td>\n",
              "      <td>1.38079</td>\n",
              "    </tr>\n",
              "    <tr>\n",
              "      <th>146</th>\n",
              "      <td>Madagascar</td>\n",
              "      <td>Sub-Saharan Africa</td>\n",
              "      <td>147</td>\n",
              "      <td>3.681</td>\n",
              "      <td>0.03633</td>\n",
              "      <td>0.20824</td>\n",
              "      <td>0.66801</td>\n",
              "      <td>0.46721</td>\n",
              "      <td>0.19184</td>\n",
              "      <td>0.08124</td>\n",
              "      <td>0.21333</td>\n",
              "      <td>1.85100</td>\n",
              "    </tr>\n",
              "    <tr>\n",
              "      <th>147</th>\n",
              "      <td>Central African Republic</td>\n",
              "      <td>Sub-Saharan Africa</td>\n",
              "      <td>148</td>\n",
              "      <td>3.678</td>\n",
              "      <td>0.06112</td>\n",
              "      <td>0.07850</td>\n",
              "      <td>0.00000</td>\n",
              "      <td>0.06699</td>\n",
              "      <td>0.48879</td>\n",
              "      <td>0.08289</td>\n",
              "      <td>0.23835</td>\n",
              "      <td>2.72230</td>\n",
              "    </tr>\n",
              "    <tr>\n",
              "      <th>148</th>\n",
              "      <td>Chad</td>\n",
              "      <td>Sub-Saharan Africa</td>\n",
              "      <td>149</td>\n",
              "      <td>3.667</td>\n",
              "      <td>0.03830</td>\n",
              "      <td>0.34193</td>\n",
              "      <td>0.76062</td>\n",
              "      <td>0.15010</td>\n",
              "      <td>0.23501</td>\n",
              "      <td>0.05269</td>\n",
              "      <td>0.18386</td>\n",
              "      <td>1.94296</td>\n",
              "    </tr>\n",
              "    <tr>\n",
              "      <th>149</th>\n",
              "      <td>Guinea</td>\n",
              "      <td>Sub-Saharan Africa</td>\n",
              "      <td>150</td>\n",
              "      <td>3.656</td>\n",
              "      <td>0.03590</td>\n",
              "      <td>0.17417</td>\n",
              "      <td>0.46475</td>\n",
              "      <td>0.24009</td>\n",
              "      <td>0.37725</td>\n",
              "      <td>0.12139</td>\n",
              "      <td>0.28657</td>\n",
              "      <td>1.99172</td>\n",
              "    </tr>\n",
              "    <tr>\n",
              "      <th>150</th>\n",
              "      <td>Ivory Coast</td>\n",
              "      <td>Sub-Saharan Africa</td>\n",
              "      <td>151</td>\n",
              "      <td>3.655</td>\n",
              "      <td>0.05141</td>\n",
              "      <td>0.46534</td>\n",
              "      <td>0.77115</td>\n",
              "      <td>0.15185</td>\n",
              "      <td>0.46866</td>\n",
              "      <td>0.17922</td>\n",
              "      <td>0.20165</td>\n",
              "      <td>1.41723</td>\n",
              "    </tr>\n",
              "    <tr>\n",
              "      <th>151</th>\n",
              "      <td>Burkina Faso</td>\n",
              "      <td>Sub-Saharan Africa</td>\n",
              "      <td>152</td>\n",
              "      <td>3.587</td>\n",
              "      <td>0.04324</td>\n",
              "      <td>0.25812</td>\n",
              "      <td>0.85188</td>\n",
              "      <td>0.27125</td>\n",
              "      <td>0.39493</td>\n",
              "      <td>0.12832</td>\n",
              "      <td>0.21747</td>\n",
              "      <td>1.46494</td>\n",
              "    </tr>\n",
              "    <tr>\n",
              "      <th>153</th>\n",
              "      <td>Rwanda</td>\n",
              "      <td>Sub-Saharan Africa</td>\n",
              "      <td>154</td>\n",
              "      <td>3.465</td>\n",
              "      <td>0.03464</td>\n",
              "      <td>0.22208</td>\n",
              "      <td>0.77370</td>\n",
              "      <td>0.42864</td>\n",
              "      <td>0.59201</td>\n",
              "      <td>0.55191</td>\n",
              "      <td>0.22628</td>\n",
              "      <td>0.67042</td>\n",
              "    </tr>\n",
              "    <tr>\n",
              "      <th>154</th>\n",
              "      <td>Benin</td>\n",
              "      <td>Sub-Saharan Africa</td>\n",
              "      <td>155</td>\n",
              "      <td>3.340</td>\n",
              "      <td>0.03656</td>\n",
              "      <td>0.28665</td>\n",
              "      <td>0.35386</td>\n",
              "      <td>0.31910</td>\n",
              "      <td>0.48450</td>\n",
              "      <td>0.08010</td>\n",
              "      <td>0.18260</td>\n",
              "      <td>1.63328</td>\n",
              "    </tr>\n",
              "    <tr>\n",
              "      <th>156</th>\n",
              "      <td>Burundi</td>\n",
              "      <td>Sub-Saharan Africa</td>\n",
              "      <td>157</td>\n",
              "      <td>2.905</td>\n",
              "      <td>0.08658</td>\n",
              "      <td>0.01530</td>\n",
              "      <td>0.41587</td>\n",
              "      <td>0.22396</td>\n",
              "      <td>0.11850</td>\n",
              "      <td>0.10062</td>\n",
              "      <td>0.19727</td>\n",
              "      <td>1.83302</td>\n",
              "    </tr>\n",
              "    <tr>\n",
              "      <th>157</th>\n",
              "      <td>Togo</td>\n",
              "      <td>Sub-Saharan Africa</td>\n",
              "      <td>158</td>\n",
              "      <td>2.839</td>\n",
              "      <td>0.06727</td>\n",
              "      <td>0.20868</td>\n",
              "      <td>0.13995</td>\n",
              "      <td>0.28443</td>\n",
              "      <td>0.36453</td>\n",
              "      <td>0.10731</td>\n",
              "      <td>0.16681</td>\n",
              "      <td>1.56726</td>\n",
              "    </tr>\n",
              "  </tbody>\n",
              "</table>\n",
              "</div>"
            ],
            "text/plain": [
              "                      Country  ... Dystopia Residual\n",
              "70                  Mauritius  ...           1.76145\n",
              "77                    Nigeria  ...           2.89319\n",
              "84                     Zambia  ...           2.63430\n",
              "90          Somaliland region  ...           2.11032\n",
              "93                 Mozambique  ...           3.05137\n",
              "96                    Lesotho  ...           2.79832\n",
              "100                 Swaziland  ...           2.48676\n",
              "112              South Africa  ...           1.71956\n",
              "113                     Ghana  ...           2.30919\n",
              "114                  Zimbabwe  ...           2.44191\n",
              "115                   Liberia  ...           2.77729\n",
              "117                     Sudan  ...           2.20857\n",
              "119          Congo (Kinshasa)  ...           2.86712\n",
              "121                  Ethiopia  ...           2.44876\n",
              "122              Sierra Leone  ...           2.51009\n",
              "123                Mauritania  ...           2.11773\n",
              "124                     Kenya  ...           1.78555\n",
              "125                  Djibouti  ...           2.05125\n",
              "127                  Botswana  ...           1.46181\n",
              "130                    Malawi  ...           2.80791\n",
              "132                  Cameroon  ...           1.95071\n",
              "136                    Angola  ...           1.94939\n",
              "137                      Mali  ...           1.79293\n",
              "138       Congo (Brazzaville)  ...           1.68135\n",
              "139                   Comoros  ...           1.95812\n",
              "140                    Uganda  ...           1.42766\n",
              "141                   Senegal  ...           1.44395\n",
              "142                     Gabon  ...           0.99895\n",
              "143                     Niger  ...           1.87877\n",
              "145                  Tanzania  ...           1.38079\n",
              "146                Madagascar  ...           1.85100\n",
              "147  Central African Republic  ...           2.72230\n",
              "148                      Chad  ...           1.94296\n",
              "149                    Guinea  ...           1.99172\n",
              "150               Ivory Coast  ...           1.41723\n",
              "151              Burkina Faso  ...           1.46494\n",
              "153                    Rwanda  ...           0.67042\n",
              "154                     Benin  ...           1.63328\n",
              "156                   Burundi  ...           1.83302\n",
              "157                      Togo  ...           1.56726\n",
              "\n",
              "[40 rows x 12 columns]"
            ]
          },
          "metadata": {
            "tags": []
          },
          "execution_count": 152
        }
      ]
    },
    {
      "cell_type": "markdown",
      "metadata": {
        "id": "NURn0r1UWvYN",
        "colab_type": "text"
      },
      "source": [
        "#### Answer 1: Year: 2015, <br> Region: Sub- Saharan African <br> Unhappiest Country: Togo\n",
        "               "
      ]
    },
    {
      "cell_type": "markdown",
      "metadata": {
        "id": "rUiqoDor1gIf",
        "colab_type": "text"
      },
      "source": [
        "Now lets check for the year 2016, which is the Unhappiest country in the Sub-Saharan Region"
      ]
    },
    {
      "cell_type": "code",
      "metadata": {
        "id": "hfasA1PB1pAw",
        "colab_type": "code",
        "colab": {
          "base_uri": "https://localhost:8080/",
          "height": 1000
        },
        "outputId": "921b9e48-0a77-457e-9677-1f016d4cf88f"
      },
      "source": [
        "h_2016.loc[(h_2016['Region']=='Sub-Saharan Africa'),:]"
      ],
      "execution_count": 171,
      "outputs": [
        {
          "output_type": "execute_result",
          "data": {
            "text/html": [
              "<div>\n",
              "<style scoped>\n",
              "    .dataframe tbody tr th:only-of-type {\n",
              "        vertical-align: middle;\n",
              "    }\n",
              "\n",
              "    .dataframe tbody tr th {\n",
              "        vertical-align: top;\n",
              "    }\n",
              "\n",
              "    .dataframe thead th {\n",
              "        text-align: right;\n",
              "    }\n",
              "</style>\n",
              "<table border=\"1\" class=\"dataframe\">\n",
              "  <thead>\n",
              "    <tr style=\"text-align: right;\">\n",
              "      <th></th>\n",
              "      <th>Country</th>\n",
              "      <th>Region</th>\n",
              "      <th>Happiness Rank</th>\n",
              "      <th>Happiness Score</th>\n",
              "      <th>Lower Confidence Interval</th>\n",
              "      <th>Upper Confidence Interval</th>\n",
              "      <th>Economy (GDP per Capita)</th>\n",
              "      <th>Family</th>\n",
              "      <th>Health (Life Expectancy)</th>\n",
              "      <th>Freedom</th>\n",
              "      <th>Trust (Government Corruption)</th>\n",
              "      <th>Generosity</th>\n",
              "      <th>Dystopia Residual</th>\n",
              "    </tr>\n",
              "  </thead>\n",
              "  <tbody>\n",
              "    <tr>\n",
              "      <th>65</th>\n",
              "      <td>Mauritius</td>\n",
              "      <td>Sub-Saharan Africa</td>\n",
              "      <td>66</td>\n",
              "      <td>5.648</td>\n",
              "      <td>5.507</td>\n",
              "      <td>5.789</td>\n",
              "      <td>1.14372</td>\n",
              "      <td>0.75695</td>\n",
              "      <td>0.66189</td>\n",
              "      <td>0.46145</td>\n",
              "      <td>0.05203</td>\n",
              "      <td>0.36951</td>\n",
              "      <td>2.20223</td>\n",
              "    </tr>\n",
              "    <tr>\n",
              "      <th>75</th>\n",
              "      <td>Somalia</td>\n",
              "      <td>Sub-Saharan Africa</td>\n",
              "      <td>76</td>\n",
              "      <td>5.440</td>\n",
              "      <td>5.321</td>\n",
              "      <td>5.559</td>\n",
              "      <td>0.00000</td>\n",
              "      <td>0.33613</td>\n",
              "      <td>0.11466</td>\n",
              "      <td>0.56778</td>\n",
              "      <td>0.31180</td>\n",
              "      <td>0.27225</td>\n",
              "      <td>3.83772</td>\n",
              "    </tr>\n",
              "    <tr>\n",
              "      <th>96</th>\n",
              "      <td>Somaliland Region</td>\n",
              "      <td>Sub-Saharan Africa</td>\n",
              "      <td>97</td>\n",
              "      <td>5.057</td>\n",
              "      <td>4.934</td>\n",
              "      <td>5.180</td>\n",
              "      <td>0.25558</td>\n",
              "      <td>0.75862</td>\n",
              "      <td>0.33108</td>\n",
              "      <td>0.39130</td>\n",
              "      <td>0.36794</td>\n",
              "      <td>0.51479</td>\n",
              "      <td>2.43801</td>\n",
              "    </tr>\n",
              "    <tr>\n",
              "      <th>102</th>\n",
              "      <td>Nigeria</td>\n",
              "      <td>Sub-Saharan Africa</td>\n",
              "      <td>103</td>\n",
              "      <td>4.875</td>\n",
              "      <td>4.750</td>\n",
              "      <td>5.000</td>\n",
              "      <td>0.75216</td>\n",
              "      <td>0.64498</td>\n",
              "      <td>0.05108</td>\n",
              "      <td>0.27854</td>\n",
              "      <td>0.03050</td>\n",
              "      <td>0.23219</td>\n",
              "      <td>2.88586</td>\n",
              "    </tr>\n",
              "    <tr>\n",
              "      <th>105</th>\n",
              "      <td>Zambia</td>\n",
              "      <td>Sub-Saharan Africa</td>\n",
              "      <td>106</td>\n",
              "      <td>4.795</td>\n",
              "      <td>4.645</td>\n",
              "      <td>4.945</td>\n",
              "      <td>0.61202</td>\n",
              "      <td>0.63760</td>\n",
              "      <td>0.23573</td>\n",
              "      <td>0.42662</td>\n",
              "      <td>0.11479</td>\n",
              "      <td>0.17866</td>\n",
              "      <td>2.58991</td>\n",
              "    </tr>\n",
              "    <tr>\n",
              "      <th>110</th>\n",
              "      <td>Sierra Leone</td>\n",
              "      <td>Sub-Saharan Africa</td>\n",
              "      <td>111</td>\n",
              "      <td>4.635</td>\n",
              "      <td>4.505</td>\n",
              "      <td>4.765</td>\n",
              "      <td>0.36485</td>\n",
              "      <td>0.62800</td>\n",
              "      <td>0.00000</td>\n",
              "      <td>0.30685</td>\n",
              "      <td>0.08196</td>\n",
              "      <td>0.23897</td>\n",
              "      <td>3.01402</td>\n",
              "    </tr>\n",
              "    <tr>\n",
              "      <th>112</th>\n",
              "      <td>Namibia</td>\n",
              "      <td>Sub-Saharan Africa</td>\n",
              "      <td>113</td>\n",
              "      <td>4.574</td>\n",
              "      <td>4.374</td>\n",
              "      <td>4.774</td>\n",
              "      <td>0.93287</td>\n",
              "      <td>0.70362</td>\n",
              "      <td>0.34745</td>\n",
              "      <td>0.48614</td>\n",
              "      <td>0.10398</td>\n",
              "      <td>0.07795</td>\n",
              "      <td>1.92198</td>\n",
              "    </tr>\n",
              "    <tr>\n",
              "      <th>113</th>\n",
              "      <td>Cameroon</td>\n",
              "      <td>Sub-Saharan Africa</td>\n",
              "      <td>114</td>\n",
              "      <td>4.513</td>\n",
              "      <td>4.417</td>\n",
              "      <td>4.609</td>\n",
              "      <td>0.52497</td>\n",
              "      <td>0.62542</td>\n",
              "      <td>0.12698</td>\n",
              "      <td>0.42736</td>\n",
              "      <td>0.06126</td>\n",
              "      <td>0.22680</td>\n",
              "      <td>2.51980</td>\n",
              "    </tr>\n",
              "    <tr>\n",
              "      <th>114</th>\n",
              "      <td>Ethiopia</td>\n",
              "      <td>Sub-Saharan Africa</td>\n",
              "      <td>115</td>\n",
              "      <td>4.508</td>\n",
              "      <td>4.425</td>\n",
              "      <td>4.591</td>\n",
              "      <td>0.29283</td>\n",
              "      <td>0.37932</td>\n",
              "      <td>0.34578</td>\n",
              "      <td>0.36703</td>\n",
              "      <td>0.17170</td>\n",
              "      <td>0.29522</td>\n",
              "      <td>2.65614</td>\n",
              "    </tr>\n",
              "    <tr>\n",
              "      <th>115</th>\n",
              "      <td>South Africa</td>\n",
              "      <td>Sub-Saharan Africa</td>\n",
              "      <td>116</td>\n",
              "      <td>4.459</td>\n",
              "      <td>4.371</td>\n",
              "      <td>4.547</td>\n",
              "      <td>1.02416</td>\n",
              "      <td>0.96053</td>\n",
              "      <td>0.18611</td>\n",
              "      <td>0.42483</td>\n",
              "      <td>0.08415</td>\n",
              "      <td>0.13656</td>\n",
              "      <td>1.64227</td>\n",
              "    </tr>\n",
              "    <tr>\n",
              "      <th>121</th>\n",
              "      <td>Kenya</td>\n",
              "      <td>Sub-Saharan Africa</td>\n",
              "      <td>122</td>\n",
              "      <td>4.356</td>\n",
              "      <td>4.259</td>\n",
              "      <td>4.453</td>\n",
              "      <td>0.52267</td>\n",
              "      <td>0.76240</td>\n",
              "      <td>0.30147</td>\n",
              "      <td>0.40576</td>\n",
              "      <td>0.06686</td>\n",
              "      <td>0.41328</td>\n",
              "      <td>1.88326</td>\n",
              "    </tr>\n",
              "    <tr>\n",
              "      <th>123</th>\n",
              "      <td>Ghana</td>\n",
              "      <td>Sub-Saharan Africa</td>\n",
              "      <td>124</td>\n",
              "      <td>4.276</td>\n",
              "      <td>4.185</td>\n",
              "      <td>4.367</td>\n",
              "      <td>0.63107</td>\n",
              "      <td>0.49353</td>\n",
              "      <td>0.29681</td>\n",
              "      <td>0.40973</td>\n",
              "      <td>0.03260</td>\n",
              "      <td>0.21203</td>\n",
              "      <td>2.20020</td>\n",
              "    </tr>\n",
              "    <tr>\n",
              "      <th>124</th>\n",
              "      <td>Congo (Kinshasa)</td>\n",
              "      <td>Sub-Saharan Africa</td>\n",
              "      <td>125</td>\n",
              "      <td>4.272</td>\n",
              "      <td>4.191</td>\n",
              "      <td>4.353</td>\n",
              "      <td>0.05661</td>\n",
              "      <td>0.80676</td>\n",
              "      <td>0.18800</td>\n",
              "      <td>0.15602</td>\n",
              "      <td>0.06075</td>\n",
              "      <td>0.25458</td>\n",
              "      <td>2.74924</td>\n",
              "    </tr>\n",
              "    <tr>\n",
              "      <th>126</th>\n",
              "      <td>Congo (Brazzaville)</td>\n",
              "      <td>Sub-Saharan Africa</td>\n",
              "      <td>127</td>\n",
              "      <td>4.236</td>\n",
              "      <td>4.107</td>\n",
              "      <td>4.365</td>\n",
              "      <td>0.77109</td>\n",
              "      <td>0.47799</td>\n",
              "      <td>0.28212</td>\n",
              "      <td>0.37938</td>\n",
              "      <td>0.09753</td>\n",
              "      <td>0.12077</td>\n",
              "      <td>2.10681</td>\n",
              "    </tr>\n",
              "    <tr>\n",
              "      <th>127</th>\n",
              "      <td>Senegal</td>\n",
              "      <td>Sub-Saharan Africa</td>\n",
              "      <td>128</td>\n",
              "      <td>4.219</td>\n",
              "      <td>4.151</td>\n",
              "      <td>4.287</td>\n",
              "      <td>0.44314</td>\n",
              "      <td>0.77416</td>\n",
              "      <td>0.40457</td>\n",
              "      <td>0.31056</td>\n",
              "      <td>0.11681</td>\n",
              "      <td>0.19103</td>\n",
              "      <td>1.97861</td>\n",
              "    </tr>\n",
              "    <tr>\n",
              "      <th>129</th>\n",
              "      <td>Mauritania</td>\n",
              "      <td>Sub-Saharan Africa</td>\n",
              "      <td>130</td>\n",
              "      <td>4.201</td>\n",
              "      <td>4.127</td>\n",
              "      <td>4.275</td>\n",
              "      <td>0.61391</td>\n",
              "      <td>0.84142</td>\n",
              "      <td>0.28639</td>\n",
              "      <td>0.12680</td>\n",
              "      <td>0.17955</td>\n",
              "      <td>0.22686</td>\n",
              "      <td>1.92630</td>\n",
              "    </tr>\n",
              "    <tr>\n",
              "      <th>130</th>\n",
              "      <td>Zimbabwe</td>\n",
              "      <td>Sub-Saharan Africa</td>\n",
              "      <td>131</td>\n",
              "      <td>4.193</td>\n",
              "      <td>4.101</td>\n",
              "      <td>4.285</td>\n",
              "      <td>0.35041</td>\n",
              "      <td>0.71478</td>\n",
              "      <td>0.15950</td>\n",
              "      <td>0.25429</td>\n",
              "      <td>0.08582</td>\n",
              "      <td>0.18503</td>\n",
              "      <td>2.44270</td>\n",
              "    </tr>\n",
              "    <tr>\n",
              "      <th>131</th>\n",
              "      <td>Malawi</td>\n",
              "      <td>Sub-Saharan Africa</td>\n",
              "      <td>132</td>\n",
              "      <td>4.156</td>\n",
              "      <td>4.041</td>\n",
              "      <td>4.271</td>\n",
              "      <td>0.08709</td>\n",
              "      <td>0.14700</td>\n",
              "      <td>0.29364</td>\n",
              "      <td>0.41430</td>\n",
              "      <td>0.07564</td>\n",
              "      <td>0.30968</td>\n",
              "      <td>2.82859</td>\n",
              "    </tr>\n",
              "    <tr>\n",
              "      <th>132</th>\n",
              "      <td>Sudan</td>\n",
              "      <td>Sub-Saharan Africa</td>\n",
              "      <td>133</td>\n",
              "      <td>4.139</td>\n",
              "      <td>3.928</td>\n",
              "      <td>4.350</td>\n",
              "      <td>0.63069</td>\n",
              "      <td>0.81928</td>\n",
              "      <td>0.29759</td>\n",
              "      <td>0.00000</td>\n",
              "      <td>0.10039</td>\n",
              "      <td>0.18077</td>\n",
              "      <td>2.10995</td>\n",
              "    </tr>\n",
              "    <tr>\n",
              "      <th>133</th>\n",
              "      <td>Gabon</td>\n",
              "      <td>Sub-Saharan Africa</td>\n",
              "      <td>134</td>\n",
              "      <td>4.121</td>\n",
              "      <td>4.030</td>\n",
              "      <td>4.212</td>\n",
              "      <td>1.15851</td>\n",
              "      <td>0.72368</td>\n",
              "      <td>0.34940</td>\n",
              "      <td>0.28098</td>\n",
              "      <td>0.09314</td>\n",
              "      <td>0.06244</td>\n",
              "      <td>1.45332</td>\n",
              "    </tr>\n",
              "    <tr>\n",
              "      <th>134</th>\n",
              "      <td>Mali</td>\n",
              "      <td>Sub-Saharan Africa</td>\n",
              "      <td>135</td>\n",
              "      <td>4.073</td>\n",
              "      <td>3.988</td>\n",
              "      <td>4.158</td>\n",
              "      <td>0.31292</td>\n",
              "      <td>0.86333</td>\n",
              "      <td>0.16347</td>\n",
              "      <td>0.27544</td>\n",
              "      <td>0.13647</td>\n",
              "      <td>0.21064</td>\n",
              "      <td>2.11087</td>\n",
              "    </tr>\n",
              "    <tr>\n",
              "      <th>136</th>\n",
              "      <td>Botswana</td>\n",
              "      <td>Sub-Saharan Africa</td>\n",
              "      <td>137</td>\n",
              "      <td>3.974</td>\n",
              "      <td>3.875</td>\n",
              "      <td>4.073</td>\n",
              "      <td>1.09426</td>\n",
              "      <td>0.89186</td>\n",
              "      <td>0.34752</td>\n",
              "      <td>0.44089</td>\n",
              "      <td>0.10769</td>\n",
              "      <td>0.12425</td>\n",
              "      <td>0.96741</td>\n",
              "    </tr>\n",
              "    <tr>\n",
              "      <th>137</th>\n",
              "      <td>Comoros</td>\n",
              "      <td>Sub-Saharan Africa</td>\n",
              "      <td>138</td>\n",
              "      <td>3.956</td>\n",
              "      <td>3.860</td>\n",
              "      <td>4.052</td>\n",
              "      <td>0.27509</td>\n",
              "      <td>0.60323</td>\n",
              "      <td>0.29981</td>\n",
              "      <td>0.15412</td>\n",
              "      <td>0.18437</td>\n",
              "      <td>0.18270</td>\n",
              "      <td>2.25632</td>\n",
              "    </tr>\n",
              "    <tr>\n",
              "      <th>138</th>\n",
              "      <td>Ivory Coast</td>\n",
              "      <td>Sub-Saharan Africa</td>\n",
              "      <td>139</td>\n",
              "      <td>3.916</td>\n",
              "      <td>3.826</td>\n",
              "      <td>4.006</td>\n",
              "      <td>0.55507</td>\n",
              "      <td>0.57576</td>\n",
              "      <td>0.04476</td>\n",
              "      <td>0.40663</td>\n",
              "      <td>0.15530</td>\n",
              "      <td>0.20338</td>\n",
              "      <td>1.97478</td>\n",
              "    </tr>\n",
              "    <tr>\n",
              "      <th>140</th>\n",
              "      <td>Angola</td>\n",
              "      <td>Sub-Saharan Africa</td>\n",
              "      <td>141</td>\n",
              "      <td>3.866</td>\n",
              "      <td>3.753</td>\n",
              "      <td>3.979</td>\n",
              "      <td>0.84731</td>\n",
              "      <td>0.66366</td>\n",
              "      <td>0.04991</td>\n",
              "      <td>0.00589</td>\n",
              "      <td>0.08434</td>\n",
              "      <td>0.12071</td>\n",
              "      <td>2.09459</td>\n",
              "    </tr>\n",
              "    <tr>\n",
              "      <th>141</th>\n",
              "      <td>Niger</td>\n",
              "      <td>Sub-Saharan Africa</td>\n",
              "      <td>142</td>\n",
              "      <td>3.856</td>\n",
              "      <td>3.781</td>\n",
              "      <td>3.931</td>\n",
              "      <td>0.13270</td>\n",
              "      <td>0.60530</td>\n",
              "      <td>0.26162</td>\n",
              "      <td>0.38041</td>\n",
              "      <td>0.17176</td>\n",
              "      <td>0.20970</td>\n",
              "      <td>2.09469</td>\n",
              "    </tr>\n",
              "    <tr>\n",
              "      <th>142</th>\n",
              "      <td>South Sudan</td>\n",
              "      <td>Sub-Saharan Africa</td>\n",
              "      <td>143</td>\n",
              "      <td>3.832</td>\n",
              "      <td>3.596</td>\n",
              "      <td>4.068</td>\n",
              "      <td>0.39394</td>\n",
              "      <td>0.18519</td>\n",
              "      <td>0.15781</td>\n",
              "      <td>0.19662</td>\n",
              "      <td>0.13015</td>\n",
              "      <td>0.25899</td>\n",
              "      <td>2.50929</td>\n",
              "    </tr>\n",
              "    <tr>\n",
              "      <th>143</th>\n",
              "      <td>Chad</td>\n",
              "      <td>Sub-Saharan Africa</td>\n",
              "      <td>144</td>\n",
              "      <td>3.763</td>\n",
              "      <td>3.672</td>\n",
              "      <td>3.854</td>\n",
              "      <td>0.42214</td>\n",
              "      <td>0.63178</td>\n",
              "      <td>0.03824</td>\n",
              "      <td>0.12807</td>\n",
              "      <td>0.04952</td>\n",
              "      <td>0.18667</td>\n",
              "      <td>2.30637</td>\n",
              "    </tr>\n",
              "    <tr>\n",
              "      <th>144</th>\n",
              "      <td>Burkina Faso</td>\n",
              "      <td>Sub-Saharan Africa</td>\n",
              "      <td>145</td>\n",
              "      <td>3.739</td>\n",
              "      <td>3.647</td>\n",
              "      <td>3.831</td>\n",
              "      <td>0.31995</td>\n",
              "      <td>0.63054</td>\n",
              "      <td>0.21297</td>\n",
              "      <td>0.33370</td>\n",
              "      <td>0.12533</td>\n",
              "      <td>0.24353</td>\n",
              "      <td>1.87319</td>\n",
              "    </tr>\n",
              "    <tr>\n",
              "      <th>145</th>\n",
              "      <td>Uganda</td>\n",
              "      <td>Sub-Saharan Africa</td>\n",
              "      <td>145</td>\n",
              "      <td>3.739</td>\n",
              "      <td>3.629</td>\n",
              "      <td>3.849</td>\n",
              "      <td>0.34719</td>\n",
              "      <td>0.90981</td>\n",
              "      <td>0.19625</td>\n",
              "      <td>0.43653</td>\n",
              "      <td>0.06442</td>\n",
              "      <td>0.27102</td>\n",
              "      <td>1.51416</td>\n",
              "    </tr>\n",
              "    <tr>\n",
              "      <th>147</th>\n",
              "      <td>Madagascar</td>\n",
              "      <td>Sub-Saharan Africa</td>\n",
              "      <td>148</td>\n",
              "      <td>3.695</td>\n",
              "      <td>3.621</td>\n",
              "      <td>3.769</td>\n",
              "      <td>0.27954</td>\n",
              "      <td>0.46115</td>\n",
              "      <td>0.37109</td>\n",
              "      <td>0.13684</td>\n",
              "      <td>0.07506</td>\n",
              "      <td>0.22040</td>\n",
              "      <td>2.15075</td>\n",
              "    </tr>\n",
              "    <tr>\n",
              "      <th>148</th>\n",
              "      <td>Tanzania</td>\n",
              "      <td>Sub-Saharan Africa</td>\n",
              "      <td>149</td>\n",
              "      <td>3.666</td>\n",
              "      <td>3.561</td>\n",
              "      <td>3.771</td>\n",
              "      <td>0.47155</td>\n",
              "      <td>0.77623</td>\n",
              "      <td>0.35700</td>\n",
              "      <td>0.31760</td>\n",
              "      <td>0.05099</td>\n",
              "      <td>0.31472</td>\n",
              "      <td>1.37769</td>\n",
              "    </tr>\n",
              "    <tr>\n",
              "      <th>149</th>\n",
              "      <td>Liberia</td>\n",
              "      <td>Sub-Saharan Africa</td>\n",
              "      <td>150</td>\n",
              "      <td>3.622</td>\n",
              "      <td>3.463</td>\n",
              "      <td>3.781</td>\n",
              "      <td>0.10706</td>\n",
              "      <td>0.50353</td>\n",
              "      <td>0.23165</td>\n",
              "      <td>0.25748</td>\n",
              "      <td>0.04852</td>\n",
              "      <td>0.24063</td>\n",
              "      <td>2.23284</td>\n",
              "    </tr>\n",
              "    <tr>\n",
              "      <th>150</th>\n",
              "      <td>Guinea</td>\n",
              "      <td>Sub-Saharan Africa</td>\n",
              "      <td>151</td>\n",
              "      <td>3.607</td>\n",
              "      <td>3.533</td>\n",
              "      <td>3.681</td>\n",
              "      <td>0.22415</td>\n",
              "      <td>0.31090</td>\n",
              "      <td>0.18829</td>\n",
              "      <td>0.30953</td>\n",
              "      <td>0.11920</td>\n",
              "      <td>0.29914</td>\n",
              "      <td>2.15604</td>\n",
              "    </tr>\n",
              "    <tr>\n",
              "      <th>151</th>\n",
              "      <td>Rwanda</td>\n",
              "      <td>Sub-Saharan Africa</td>\n",
              "      <td>152</td>\n",
              "      <td>3.515</td>\n",
              "      <td>3.444</td>\n",
              "      <td>3.586</td>\n",
              "      <td>0.32846</td>\n",
              "      <td>0.61586</td>\n",
              "      <td>0.31865</td>\n",
              "      <td>0.54320</td>\n",
              "      <td>0.50521</td>\n",
              "      <td>0.23552</td>\n",
              "      <td>0.96819</td>\n",
              "    </tr>\n",
              "    <tr>\n",
              "      <th>152</th>\n",
              "      <td>Benin</td>\n",
              "      <td>Sub-Saharan Africa</td>\n",
              "      <td>153</td>\n",
              "      <td>3.484</td>\n",
              "      <td>3.404</td>\n",
              "      <td>3.564</td>\n",
              "      <td>0.39499</td>\n",
              "      <td>0.10419</td>\n",
              "      <td>0.21028</td>\n",
              "      <td>0.39747</td>\n",
              "      <td>0.06681</td>\n",
              "      <td>0.20180</td>\n",
              "      <td>2.10812</td>\n",
              "    </tr>\n",
              "    <tr>\n",
              "      <th>154</th>\n",
              "      <td>Togo</td>\n",
              "      <td>Sub-Saharan Africa</td>\n",
              "      <td>155</td>\n",
              "      <td>3.303</td>\n",
              "      <td>3.192</td>\n",
              "      <td>3.414</td>\n",
              "      <td>0.28123</td>\n",
              "      <td>0.00000</td>\n",
              "      <td>0.24811</td>\n",
              "      <td>0.34678</td>\n",
              "      <td>0.11587</td>\n",
              "      <td>0.17517</td>\n",
              "      <td>2.13540</td>\n",
              "    </tr>\n",
              "    <tr>\n",
              "      <th>156</th>\n",
              "      <td>Burundi</td>\n",
              "      <td>Sub-Saharan Africa</td>\n",
              "      <td>157</td>\n",
              "      <td>2.905</td>\n",
              "      <td>2.732</td>\n",
              "      <td>3.078</td>\n",
              "      <td>0.06831</td>\n",
              "      <td>0.23442</td>\n",
              "      <td>0.15747</td>\n",
              "      <td>0.04320</td>\n",
              "      <td>0.09419</td>\n",
              "      <td>0.20290</td>\n",
              "      <td>2.10404</td>\n",
              "    </tr>\n",
              "  </tbody>\n",
              "</table>\n",
              "</div>"
            ],
            "text/plain": [
              "                 Country              Region  ...  Generosity  Dystopia Residual\n",
              "65             Mauritius  Sub-Saharan Africa  ...     0.36951            2.20223\n",
              "75               Somalia  Sub-Saharan Africa  ...     0.27225            3.83772\n",
              "96     Somaliland Region  Sub-Saharan Africa  ...     0.51479            2.43801\n",
              "102              Nigeria  Sub-Saharan Africa  ...     0.23219            2.88586\n",
              "105               Zambia  Sub-Saharan Africa  ...     0.17866            2.58991\n",
              "110         Sierra Leone  Sub-Saharan Africa  ...     0.23897            3.01402\n",
              "112              Namibia  Sub-Saharan Africa  ...     0.07795            1.92198\n",
              "113             Cameroon  Sub-Saharan Africa  ...     0.22680            2.51980\n",
              "114             Ethiopia  Sub-Saharan Africa  ...     0.29522            2.65614\n",
              "115         South Africa  Sub-Saharan Africa  ...     0.13656            1.64227\n",
              "121                Kenya  Sub-Saharan Africa  ...     0.41328            1.88326\n",
              "123                Ghana  Sub-Saharan Africa  ...     0.21203            2.20020\n",
              "124     Congo (Kinshasa)  Sub-Saharan Africa  ...     0.25458            2.74924\n",
              "126  Congo (Brazzaville)  Sub-Saharan Africa  ...     0.12077            2.10681\n",
              "127              Senegal  Sub-Saharan Africa  ...     0.19103            1.97861\n",
              "129           Mauritania  Sub-Saharan Africa  ...     0.22686            1.92630\n",
              "130             Zimbabwe  Sub-Saharan Africa  ...     0.18503            2.44270\n",
              "131               Malawi  Sub-Saharan Africa  ...     0.30968            2.82859\n",
              "132                Sudan  Sub-Saharan Africa  ...     0.18077            2.10995\n",
              "133                Gabon  Sub-Saharan Africa  ...     0.06244            1.45332\n",
              "134                 Mali  Sub-Saharan Africa  ...     0.21064            2.11087\n",
              "136             Botswana  Sub-Saharan Africa  ...     0.12425            0.96741\n",
              "137              Comoros  Sub-Saharan Africa  ...     0.18270            2.25632\n",
              "138          Ivory Coast  Sub-Saharan Africa  ...     0.20338            1.97478\n",
              "140               Angola  Sub-Saharan Africa  ...     0.12071            2.09459\n",
              "141                Niger  Sub-Saharan Africa  ...     0.20970            2.09469\n",
              "142          South Sudan  Sub-Saharan Africa  ...     0.25899            2.50929\n",
              "143                 Chad  Sub-Saharan Africa  ...     0.18667            2.30637\n",
              "144         Burkina Faso  Sub-Saharan Africa  ...     0.24353            1.87319\n",
              "145               Uganda  Sub-Saharan Africa  ...     0.27102            1.51416\n",
              "147           Madagascar  Sub-Saharan Africa  ...     0.22040            2.15075\n",
              "148             Tanzania  Sub-Saharan Africa  ...     0.31472            1.37769\n",
              "149              Liberia  Sub-Saharan Africa  ...     0.24063            2.23284\n",
              "150               Guinea  Sub-Saharan Africa  ...     0.29914            2.15604\n",
              "151               Rwanda  Sub-Saharan Africa  ...     0.23552            0.96819\n",
              "152                Benin  Sub-Saharan Africa  ...     0.20180            2.10812\n",
              "154                 Togo  Sub-Saharan Africa  ...     0.17517            2.13540\n",
              "156              Burundi  Sub-Saharan Africa  ...     0.20290            2.10404\n",
              "\n",
              "[38 rows x 13 columns]"
            ]
          },
          "metadata": {
            "tags": []
          },
          "execution_count": 171
        }
      ]
    },
    {
      "cell_type": "markdown",
      "metadata": {
        "id": "iXaMLT5618h3",
        "colab_type": "text"
      },
      "source": [
        "#### Answer : Year: 2016, <br> Region: Sub- Saharan African <br> Unhappiest Country: Burundi"
      ]
    },
    {
      "cell_type": "code",
      "metadata": {
        "id": "VHiVIXS0eIFq",
        "colab_type": "code",
        "colab": {}
      },
      "source": [
        ""
      ],
      "execution_count": 0,
      "outputs": []
    },
    {
      "cell_type": "markdown",
      "metadata": {
        "id": "f2b8pf-q_2lA",
        "colab_type": "text"
      },
      "source": [
        "#### Q3: Compare the Unhappiest and Happiest countries in each region"
      ]
    },
    {
      "cell_type": "code",
      "metadata": {
        "id": "pZGtxiqQiEZk",
        "colab_type": "code",
        "colab": {}
      },
      "source": [
        "def Unhappiest_Happiest(x):\n",
        "  region=x['Region'].unique()\n",
        "  \n",
        "  for reg in region:\n",
        "    \n",
        "    h_score=x.loc[(x['Region']==reg),('Happiness Score')].max()\n",
        "    l_score=x.loc[(x['Region']==reg),('Happiness Score')].min()\n",
        "    \n",
        "\n",
        "    a_high=x.loc[(x['Region']==reg)&(x['Happiness Score']==h_score),['Region','Country','Happiness Score']]\n",
        "    b_high=x.loc[(x['Region']==reg)&(x['Happiness Score']==l_score),['Region','Country','Happiness Score']]\n",
        "\n",
        "    print(\"For '{}' region:\".format(a_high['Region'].to_string(index=False)))\n",
        "    print(\"The Happiest Country is '{}' with a Happiness Score of '{}'\".format(a_high['Country'].to_string(index=False),a_high['Happiness Score'].to_string(index=False)))\n",
        "    print(\"The Unhappiest Country is '{}' with a Happiness Score of '{}'\".format(b_high['Country'].to_string(index=False),b_high['Happiness Score'].to_string(index=False)))\n",
        "    \n",
        "    "
      ],
      "execution_count": 0,
      "outputs": []
    },
    {
      "cell_type": "markdown",
      "metadata": {
        "id": "APrzq6y9AAFs",
        "colab_type": "text"
      },
      "source": [
        "#### For the Year 2015 following are the countries region wise which are the Happiest and Unhappiest."
      ]
    },
    {
      "cell_type": "code",
      "metadata": {
        "id": "RWhR2K9ijK88",
        "colab_type": "code",
        "colab": {
          "base_uri": "https://localhost:8080/",
          "height": 562
        },
        "outputId": "12f26b5f-5aca-4ba3-d213-8dd67a0f7173"
      },
      "source": [
        "Unhappiest_Happiest(h_2015)"
      ],
      "execution_count": 163,
      "outputs": [
        {
          "output_type": "stream",
          "text": [
            "For ' Western Europe' region:\n",
            "The Happiest Country is ' Switzerland' with a Happiness Score of ' 7.587'\n",
            "The Unhappiest Country is ' Greece' with a Happiness Score of ' 4.857'\n",
            "For ' North America' region:\n",
            "The Happiest Country is ' Canada' with a Happiness Score of ' 7.427'\n",
            "The Unhappiest Country is ' United States' with a Happiness Score of ' 7.119'\n",
            "For ' Australia and New Zealand' region:\n",
            "The Happiest Country is ' New Zealand' with a Happiness Score of ' 7.286'\n",
            "The Unhappiest Country is ' Australia' with a Happiness Score of ' 7.284'\n",
            "For ' Middle East and Northern Africa' region:\n",
            "The Happiest Country is ' Israel' with a Happiness Score of ' 7.278'\n",
            "The Unhappiest Country is ' Syria' with a Happiness Score of ' 3.006'\n",
            "For ' Latin America and Caribbean' region:\n",
            "The Happiest Country is ' Costa Rica' with a Happiness Score of ' 7.226'\n",
            "The Unhappiest Country is ' Haiti' with a Happiness Score of ' 4.518'\n",
            "For ' Southeastern Asia' region:\n",
            "The Happiest Country is ' Singapore' with a Happiness Score of ' 6.798'\n",
            "The Unhappiest Country is ' Cambodia' with a Happiness Score of ' 3.819'\n",
            "For ' Central and Eastern Europe' region:\n",
            "The Happiest Country is ' Czech Republic' with a Happiness Score of ' 6.505'\n",
            "The Unhappiest Country is ' Bulgaria' with a Happiness Score of ' 4.218'\n",
            "For ' Eastern Asia' region:\n",
            "The Happiest Country is ' Taiwan' with a Happiness Score of ' 6.298'\n",
            "The Unhappiest Country is ' Mongolia' with a Happiness Score of ' 4.874'\n",
            "For ' Sub-Saharan Africa' region:\n",
            "The Happiest Country is ' Mauritius' with a Happiness Score of ' 5.477'\n",
            "The Unhappiest Country is ' Togo' with a Happiness Score of ' 2.839'\n",
            "For ' Southern Asia' region:\n",
            "The Happiest Country is ' Bhutan' with a Happiness Score of ' 5.253'\n",
            "The Unhappiest Country is ' Afghanistan' with a Happiness Score of ' 3.575'\n"
          ],
          "name": "stdout"
        }
      ]
    },
    {
      "cell_type": "markdown",
      "metadata": {
        "id": "YH7yyj8DAIWP",
        "colab_type": "text"
      },
      "source": [
        "#### For the Year 2016"
      ]
    },
    {
      "cell_type": "code",
      "metadata": {
        "id": "q0xeAqbFAFxZ",
        "colab_type": "code",
        "colab": {
          "base_uri": "https://localhost:8080/",
          "height": 562
        },
        "outputId": "ea57a208-08f7-4d2d-b03c-1a54c2362746"
      },
      "source": [
        "Unhappiest_Happiest(h_2016)"
      ],
      "execution_count": 180,
      "outputs": [
        {
          "output_type": "stream",
          "text": [
            "For ' Western Europe' region:\n",
            "The Happiest Country is ' Denmark' with a Happiness Score of ' 7.526'\n",
            "The Unhappiest Country is ' Greece' with a Happiness Score of ' 5.033'\n",
            "For ' North America' region:\n",
            "The Happiest Country is ' Canada' with a Happiness Score of ' 7.404'\n",
            "The Unhappiest Country is ' United States' with a Happiness Score of ' 7.104'\n",
            "For ' Australia and New Zealand' region:\n",
            "The Happiest Country is ' New Zealand' with a Happiness Score of ' 7.334'\n",
            "The Unhappiest Country is ' Australia' with a Happiness Score of ' 7.313'\n",
            "For ' Middle East and Northern Africa' region:\n",
            "The Happiest Country is ' Israel' with a Happiness Score of ' 7.267'\n",
            "The Unhappiest Country is ' Syria' with a Happiness Score of ' 3.069'\n",
            "For ' Latin America and Caribbean' region:\n",
            "The Happiest Country is ' Costa Rica' with a Happiness Score of ' 7.087'\n",
            "The Unhappiest Country is ' Haiti' with a Happiness Score of ' 4.028'\n",
            "For ' Southeastern Asia' region:\n",
            "The Happiest Country is ' Singapore' with a Happiness Score of ' 6.739'\n",
            "The Unhappiest Country is ' Cambodia' with a Happiness Score of ' 3.907'\n",
            "For ' Central and Eastern Europe' region:\n",
            "The Happiest Country is ' Czech Republic' with a Happiness Score of ' 6.596'\n",
            "The Unhappiest Country is ' Bulgaria' with a Happiness Score of ' 4.217'\n",
            "For ' Eastern Asia' region:\n",
            "The Happiest Country is ' Taiwan' with a Happiness Score of ' 6.379'\n",
            "The Unhappiest Country is ' Mongolia' with a Happiness Score of ' 4.907'\n",
            "For ' Sub-Saharan Africa' region:\n",
            "The Happiest Country is ' Mauritius' with a Happiness Score of ' 5.648'\n",
            "The Unhappiest Country is ' Burundi' with a Happiness Score of ' 2.905'\n",
            "For ' Southern Asia' region:\n",
            "The Happiest Country is ' Bhutan' with a Happiness Score of ' 5.196'\n",
            "The Unhappiest Country is ' Afghanistan' with a Happiness Score of ' 3.36'\n"
          ],
          "name": "stdout"
        }
      ]
    },
    {
      "cell_type": "markdown",
      "metadata": {
        "id": "BDd_iu4JAluX",
        "colab_type": "text"
      },
      "source": [
        "#### For 2017:\n",
        "As the countries are not segregated by Region we will not be able to find the Happiest and Unhappiest countries region wise."
      ]
    },
    {
      "cell_type": "markdown",
      "metadata": {
        "id": "ZmGG6PkXEYOe",
        "colab_type": "text"
      },
      "source": [
        "#### Q4: . Countries that became unhappy between 2015 to 2017"
      ]
    },
    {
      "cell_type": "markdown",
      "metadata": {
        "id": "PopKQM7MEcoq",
        "colab_type": "text"
      },
      "source": [
        "Here we will consider 7.0 as the threshold value. <br>The countries with Happiness Score of > 7.0 are considered to be Happy and < 7.0 are considered to be sad. "
      ]
    },
    {
      "cell_type": "markdown",
      "metadata": {
        "id": "4cTgWzNVE2xY",
        "colab_type": "text"
      },
      "source": [
        "So we have to find the countries that were Happy in 2015 but became Unhappy in either 2016 or 2017.<br>\n",
        "Which means we have to find the countries whose Happiness Scores were more than 7.0 in 2015 but became less than 7.0 in 2016 or 2017"
      ]
    },
    {
      "cell_type": "markdown",
      "metadata": {
        "id": "xeD8Wh7WFXMr",
        "colab_type": "text"
      },
      "source": [
        "Countries which were happy in 2015"
      ]
    },
    {
      "cell_type": "code",
      "metadata": {
        "id": "ky9WfP_3jYJe",
        "colab_type": "code",
        "colab": {}
      },
      "source": [
        "Happy_2015=h_2015.loc[(h_2015['Happiness Score']>=7.0),'Country']"
      ],
      "execution_count": 0,
      "outputs": []
    },
    {
      "cell_type": "code",
      "metadata": {
        "id": "rw_p3RSvqxBF",
        "colab_type": "code",
        "colab": {}
      },
      "source": [
        "Happy_2015=list(Happy_2015)"
      ],
      "execution_count": 0,
      "outputs": []
    },
    {
      "cell_type": "markdown",
      "metadata": {
        "id": "haanCv-3Gag7",
        "colab_type": "text"
      },
      "source": [
        "Countries which were happy in 2016"
      ]
    },
    {
      "cell_type": "code",
      "metadata": {
        "id": "bOLXYkWbrEHO",
        "colab_type": "code",
        "colab": {}
      },
      "source": [
        "Happy_2016=h_2016.loc[(h_2016['Happiness Score']>=7.0),'Country']\n",
        "Happy_2016=list(Happy_2016)"
      ],
      "execution_count": 0,
      "outputs": []
    },
    {
      "cell_type": "markdown",
      "metadata": {
        "id": "k65C8DvOHrYk",
        "colab_type": "text"
      },
      "source": [
        "Countries which were happy in 2017"
      ]
    },
    {
      "cell_type": "code",
      "metadata": {
        "id": "uaPBHKgMHwKu",
        "colab_type": "code",
        "colab": {}
      },
      "source": [
        "Happy_2017=h_2017.loc[(h_2017['Happiness.Score']>=7.0),'Country']\n",
        "Happy_2017=list(Happy_2017)"
      ],
      "execution_count": 0,
      "outputs": []
    },
    {
      "cell_type": "code",
      "metadata": {
        "id": "mSvdy4l3t1Ry",
        "colab_type": "code",
        "colab": {}
      },
      "source": [
        "def became_unhappy_2016():\n",
        "  for x in Happy_2015:\n",
        "    if x not in Happy_2016:\n",
        "      happiness_prev=h_2015.loc[h_2015['Country']==x,'Happiness Score']\n",
        "      \n",
        "      happiness_current=h_2016.loc[h_2016['Country']==x,'Happiness Score']\n",
        "      #Value=happiness_current['Happiness Score']-happiness_prev['Happiness Score']\n",
        "      #print(Value)\n",
        "      #print(happiness_current)\n",
        "      #happiness_current=happiness_current.reset_index()\n",
        "      print('{} became Unhappy in 2016'.format(x))\n",
        "      print('Te Hapiness scohre decreasesd from {} in 2015 to {} in 2016'.format(happiness_prev.to_string(index=False),happiness_current.to_string(index=False)))\n",
        "\n",
        "  "
      ],
      "execution_count": 0,
      "outputs": []
    },
    {
      "cell_type": "markdown",
      "metadata": {
        "id": "QHno6xAiH_D9",
        "colab_type": "text"
      },
      "source": [
        "Countries which were happy in 2015 but became unhappy in 2016 "
      ]
    },
    {
      "cell_type": "code",
      "metadata": {
        "id": "FRMxrSBYHYG7",
        "colab_type": "code",
        "colab": {
          "base_uri": "https://localhost:8080/",
          "height": 53
        },
        "outputId": "b20dea56-e96c-4a28-8a6c-457d71d57dde"
      },
      "source": [
        "became_unhappy_2016()"
      ],
      "execution_count": 321,
      "outputs": [
        {
          "output_type": "stream",
          "text": [
            "Mexico became Unhappy in 2016\n",
            "Te Hapiness scohre decreasesd from  7.187 in 2015 to  6.778 in 2016\n"
          ],
          "name": "stdout"
        }
      ]
    },
    {
      "cell_type": "code",
      "metadata": {
        "id": "7iyHLgX9gbu0",
        "colab_type": "code",
        "colab": {}
      },
      "source": [
        ""
      ],
      "execution_count": 0,
      "outputs": []
    },
    {
      "cell_type": "markdown",
      "metadata": {
        "id": "oHYZvkO8IJz_",
        "colab_type": "text"
      },
      "source": [
        "Countries which were happy in 2016 but became unhappy in 2017"
      ]
    },
    {
      "cell_type": "code",
      "metadata": {
        "id": "9paQu7XaHd1V",
        "colab_type": "code",
        "colab": {}
      },
      "source": [
        "def became_unhappy_2017():\n",
        "  for x in Happy_2016:\n",
        "    if x not in Happy_2017:\n",
        "      happiness_prev=h_2016.loc[h_2016['Country']==x,'Happiness Score']\n",
        "      \n",
        "      happiness_current=h_2017.loc[h_2017['Country']==x,'Happiness.Score']\n",
        "      #Value=happiness_current['Happiness Score']-happiness_prev['Happiness Score']\n",
        "      #print(Value)\n",
        "      #print(happiness_current)\n",
        "      #happiness_current=happiness_current.reset_index()\n",
        "      print('{} became Unhappy in 2017'.format(x))\n",
        "      print('The Hapiness scohre decreasesd from {} in 2016 to {} in 2017'.format(happiness_prev.to_string(index=False),happiness_current.to_string(index=False)))\n",
        "\n"
      ],
      "execution_count": 0,
      "outputs": []
    },
    {
      "cell_type": "markdown",
      "metadata": {
        "id": "9b4cJ87XIeTf",
        "colab_type": "text"
      },
      "source": [
        "Countries which were happy in 2016 but became unhappy in 2017"
      ]
    },
    {
      "cell_type": "code",
      "metadata": {
        "id": "22zTtEM9IVxN",
        "colab_type": "code",
        "colab": {
          "base_uri": "https://localhost:8080/",
          "height": 90
        },
        "outputId": "255a42a5-fe68-4958-e329-04728b4ee307"
      },
      "source": [
        "became_unhappy_2017()"
      ],
      "execution_count": 327,
      "outputs": [
        {
          "output_type": "stream",
          "text": [
            "United States became Unhappy in 2017\n",
            "The Hapiness scohre decreasesd from  7.104 in 2016 to  6.993 in 2017\n",
            "Puerto Rico became Unhappy in 2017\n",
            "The Hapiness scohre decreasesd from  7.039 in 2016 to Series([], ) in 2017\n"
          ],
          "name": "stdout"
        }
      ]
    },
    {
      "cell_type": "code",
      "metadata": {
        "id": "G61Dx0GUkB-h",
        "colab_type": "code",
        "colab": {}
      },
      "source": [
        ""
      ],
      "execution_count": 0,
      "outputs": []
    },
    {
      "cell_type": "markdown",
      "metadata": {
        "id": "BzBEyzpKI7rt",
        "colab_type": "text"
      },
      "source": [
        "Countries which were happy in 2015 but became Unhappy in 2017"
      ]
    },
    {
      "cell_type": "code",
      "metadata": {
        "id": "3iLlI8dvIpIj",
        "colab_type": "code",
        "colab": {}
      },
      "source": [
        "def became_unhappy_2017_2015():\n",
        "  for x in Happy_2015:\n",
        "    if x not in Happy_2017:\n",
        "      happiness_prev=h_2015.loc[h_2015['Country']==x,'Happiness Score']\n",
        "      \n",
        "      happiness_current=h_2017.loc[h_2017['Country']==x,'Happiness.Score']\n",
        "      #Value=happiness_current['Happiness Score']-happiness_prev['Happiness Score']\n",
        "      #print(Value)\n",
        "      #print(happiness_current)\n",
        "      #happiness_current=happiness_current.reset_index()\n",
        "      print('{} became Unhappy in 2017 but was happy in 2015'.format(x))\n",
        "      print('Te Hapiness scohre decreasesd from {} in 2015 to {} in 2017'.format(happiness_prev.to_string(index=False),happiness_current.to_string(index=False)))\n",
        "\n",
        "\n"
      ],
      "execution_count": 0,
      "outputs": []
    },
    {
      "cell_type": "code",
      "metadata": {
        "id": "F9sdb9nGJcfU",
        "colab_type": "code",
        "colab": {
          "base_uri": "https://localhost:8080/",
          "height": 90
        },
        "outputId": "8280f878-7508-4c66-f446-0611956e73bc"
      },
      "source": [
        "became_unhappy_2017_2015()"
      ],
      "execution_count": 329,
      "outputs": [
        {
          "output_type": "stream",
          "text": [
            "Mexico became Unhappy in 2017 but was happy in 2015\n",
            "Te Hapiness scohre decreasesd from  7.187 in 2015 to  6.578 in 2017\n",
            "United States became Unhappy in 2017 but was happy in 2015\n",
            "Te Hapiness scohre decreasesd from  7.119 in 2015 to  6.993 in 2017\n"
          ],
          "name": "stdout"
        }
      ]
    },
    {
      "cell_type": "code",
      "metadata": {
        "id": "iEvXybe5JfLZ",
        "colab_type": "code",
        "colab": {}
      },
      "source": [
        ""
      ],
      "execution_count": 0,
      "outputs": []
    },
    {
      "cell_type": "markdown",
      "metadata": {
        "id": "AldQEf12kEsG",
        "colab_type": "text"
      },
      "source": [
        "#### So we can observe that the Happiness score of Maxico decreased the most by 0.4 from 2015 to 2016.<br>\n",
        "#### Also the Happiness Score for the United States decreased by 0.114"
      ]
    },
    {
      "cell_type": "markdown",
      "metadata": {
        "id": "C_n8kvAekdSk",
        "colab_type": "text"
      },
      "source": [
        "#### So the countries that became unhappy the most having a cutoff of Happiness Score as 7.0 is Maxico in the year 2016"
      ]
    },
    {
      "cell_type": "code",
      "metadata": {
        "id": "BsqZtQtykY8z",
        "colab_type": "code",
        "colab": {}
      },
      "source": [
        ""
      ],
      "execution_count": 0,
      "outputs": []
    }
  ]
}