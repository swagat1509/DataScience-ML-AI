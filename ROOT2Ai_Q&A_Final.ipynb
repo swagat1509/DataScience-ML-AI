{
  "nbformat": 4,
  "nbformat_minor": 0,
  "metadata": {
    "colab": {
      "name": "ROOT2Ai_Q&A_Final.ipynb",
      "provenance": []
    },
    "kernelspec": {
      "name": "python3",
      "display_name": "Python 3"
    },
    "language_info": {
      "name": "python"
    },
    "accelerator": "GPU"
  },
  "cells": [
    {
      "cell_type": "markdown",
      "metadata": {
        "id": "ALpHV5lGwcuc"
      },
      "source": [
        "**Problem Statement**: We will be designing the Question Answer System on the twitter dataset that is extracted for the Uttarakhand flash lood related topic.    \n",
        "\n",
        "**Approach**: We will be using teh cdqa(Closed Domain question answering system) package which is built on top of Hugging face transformers library.\n"
      ]
    },
    {
      "cell_type": "code",
      "metadata": {
        "colab": {
          "base_uri": "https://localhost:8080/"
        },
        "id": "XmcBY8iD4UBQ",
        "outputId": "3281da30-817b-4c02-b619-b0be1c6f967c"
      },
      "source": [
        "## Installing the spacy for preprocessing and data cleaning.\n",
        "!pip install -U spacy\n",
        "!pip install -U spacy-lookups-data\n",
        "# python -m spacy download en_core_web_sm\n",
        "# python -m spacy download en_core_web_md\n",
        "!python -m spacy download en_core_web_lg"
      ],
      "execution_count": 1,
      "outputs": [
        {
          "output_type": "stream",
          "text": [
            "Collecting spacy\n",
            "\u001b[?25l  Downloading https://files.pythonhosted.org/packages/3a/70/a0b8bd0cb54d8739ba4d6fb3458785c3b9b812b7fbe93b0f10beb1a53ada/spacy-3.0.5-cp37-cp37m-manylinux2014_x86_64.whl (12.8MB)\n",
            "\u001b[K     |████████████████████████████████| 12.8MB 244kB/s \n",
            "\u001b[?25hCollecting typer<0.4.0,>=0.3.0\n",
            "  Downloading https://files.pythonhosted.org/packages/90/34/d138832f6945432c638f32137e6c79a3b682f06a63c488dcfaca6b166c64/typer-0.3.2-py3-none-any.whl\n",
            "Requirement already satisfied, skipping upgrade: numpy>=1.15.0 in /usr/local/lib/python3.7/dist-packages (from spacy) (1.19.5)\n",
            "Collecting pathy>=0.3.5\n",
            "  Downloading https://files.pythonhosted.org/packages/a2/53/97dc0197cca9357369b3b71bf300896cf2d3604fa60ffaaf5cbc277de7de/pathy-0.4.0-py3-none-any.whl\n",
            "Requirement already satisfied, skipping upgrade: preshed<3.1.0,>=3.0.2 in /usr/local/lib/python3.7/dist-packages (from spacy) (3.0.5)\n",
            "Collecting spacy-legacy<3.1.0,>=3.0.0\n",
            "  Downloading https://files.pythonhosted.org/packages/65/d5/6c58fc97f3098775e46d8202bf248752e626a8096a0ae9d76aa7c485a09c/spacy_legacy-3.0.1-py2.py3-none-any.whl\n",
            "Requirement already satisfied, skipping upgrade: importlib-metadata>=0.20; python_version < \"3.8\" in /usr/local/lib/python3.7/dist-packages (from spacy) (3.7.2)\n",
            "Requirement already satisfied, skipping upgrade: wasabi<1.1.0,>=0.8.1 in /usr/local/lib/python3.7/dist-packages (from spacy) (0.8.2)\n",
            "Collecting tqdm<5.0.0,>=4.38.0\n",
            "\u001b[?25l  Downloading https://files.pythonhosted.org/packages/f8/3e/2730d0effc282960dbff3cf91599ad0d8f3faedc8e75720fdf224b31ab24/tqdm-4.59.0-py2.py3-none-any.whl (74kB)\n",
            "\u001b[K     |████████████████████████████████| 81kB 10.7MB/s \n",
            "\u001b[?25hRequirement already satisfied, skipping upgrade: murmurhash<1.1.0,>=0.28.0 in /usr/local/lib/python3.7/dist-packages (from spacy) (1.0.5)\n",
            "Collecting srsly<3.0.0,>=2.4.0\n",
            "\u001b[?25l  Downloading https://files.pythonhosted.org/packages/19/54/76982427ceb495dd19ff982c966708c624b85e03c45bf1912feaf60c7b2d/srsly-2.4.0-cp37-cp37m-manylinux2014_x86_64.whl (456kB)\n",
            "\u001b[K     |████████████████████████████████| 460kB 50.9MB/s \n",
            "\u001b[?25hRequirement already satisfied, skipping upgrade: requests<3.0.0,>=2.13.0 in /usr/local/lib/python3.7/dist-packages (from spacy) (2.23.0)\n",
            "Requirement already satisfied, skipping upgrade: cymem<2.1.0,>=2.0.2 in /usr/local/lib/python3.7/dist-packages (from spacy) (2.0.5)\n",
            "Requirement already satisfied, skipping upgrade: setuptools in /usr/local/lib/python3.7/dist-packages (from spacy) (54.1.2)\n",
            "Requirement already satisfied, skipping upgrade: jinja2 in /usr/local/lib/python3.7/dist-packages (from spacy) (2.11.3)\n",
            "Requirement already satisfied, skipping upgrade: packaging>=20.0 in /usr/local/lib/python3.7/dist-packages (from spacy) (20.9)\n",
            "Collecting pydantic<1.8.0,>=1.7.1\n",
            "\u001b[?25l  Downloading https://files.pythonhosted.org/packages/b3/0a/52ae1c659fc08f13dd7c0ae07b88e4f807ad83fb9954a59b0b0a3d1a8ab6/pydantic-1.7.3-cp37-cp37m-manylinux2014_x86_64.whl (9.1MB)\n",
            "\u001b[K     |████████████████████████████████| 9.1MB 47.3MB/s \n",
            "\u001b[?25hRequirement already satisfied, skipping upgrade: blis<0.8.0,>=0.4.0 in /usr/local/lib/python3.7/dist-packages (from spacy) (0.4.1)\n",
            "Requirement already satisfied, skipping upgrade: typing-extensions<4.0.0.0,>=3.7.4; python_version < \"3.8\" in /usr/local/lib/python3.7/dist-packages (from spacy) (3.7.4.3)\n",
            "Collecting thinc<8.1.0,>=8.0.2\n",
            "\u001b[?25l  Downloading https://files.pythonhosted.org/packages/e3/08/20e707519bcded1a0caa6fd024b767ac79e4e5d0fb92266bb7dcf735e338/thinc-8.0.2-cp37-cp37m-manylinux2014_x86_64.whl (1.1MB)\n",
            "\u001b[K     |████████████████████████████████| 1.1MB 50.1MB/s \n",
            "\u001b[?25hCollecting catalogue<2.1.0,>=2.0.1\n",
            "  Downloading https://files.pythonhosted.org/packages/48/5c/493a2f3bb0eac17b1d48129ecfd251f0520b6c89493e9fd0522f534a9e4a/catalogue-2.0.1-py3-none-any.whl\n",
            "Requirement already satisfied, skipping upgrade: click<7.2.0,>=7.1.1 in /usr/local/lib/python3.7/dist-packages (from typer<0.4.0,>=0.3.0->spacy) (7.1.2)\n",
            "Collecting smart-open<4.0.0,>=2.2.0\n",
            "\u001b[?25l  Downloading https://files.pythonhosted.org/packages/11/9a/ba2d5f67f25e8d5bbf2fcec7a99b1e38428e83cb715f64dd179ca43a11bb/smart_open-3.0.0.tar.gz (113kB)\n",
            "\u001b[K     |████████████████████████████████| 122kB 55.2MB/s \n",
            "\u001b[?25hRequirement already satisfied, skipping upgrade: zipp>=0.5 in /usr/local/lib/python3.7/dist-packages (from importlib-metadata>=0.20; python_version < \"3.8\"->spacy) (3.4.1)\n",
            "Requirement already satisfied, skipping upgrade: urllib3!=1.25.0,!=1.25.1,<1.26,>=1.21.1 in /usr/local/lib/python3.7/dist-packages (from requests<3.0.0,>=2.13.0->spacy) (1.24.3)\n",
            "Requirement already satisfied, skipping upgrade: chardet<4,>=3.0.2 in /usr/local/lib/python3.7/dist-packages (from requests<3.0.0,>=2.13.0->spacy) (3.0.4)\n",
            "Requirement already satisfied, skipping upgrade: idna<3,>=2.5 in /usr/local/lib/python3.7/dist-packages (from requests<3.0.0,>=2.13.0->spacy) (2.10)\n",
            "Requirement already satisfied, skipping upgrade: certifi>=2017.4.17 in /usr/local/lib/python3.7/dist-packages (from requests<3.0.0,>=2.13.0->spacy) (2020.12.5)\n",
            "Requirement already satisfied, skipping upgrade: MarkupSafe>=0.23 in /usr/local/lib/python3.7/dist-packages (from jinja2->spacy) (1.1.1)\n",
            "Requirement already satisfied, skipping upgrade: pyparsing>=2.0.2 in /usr/local/lib/python3.7/dist-packages (from packaging>=20.0->spacy) (2.4.7)\n",
            "Building wheels for collected packages: smart-open\n",
            "  Building wheel for smart-open (setup.py) ... \u001b[?25l\u001b[?25hdone\n",
            "  Created wheel for smart-open: filename=smart_open-3.0.0-cp37-none-any.whl size=107098 sha256=dcf579f358235bebd7011af94f6c150c3a961bc2d3e454016cc5b61675f2e9a4\n",
            "  Stored in directory: /root/.cache/pip/wheels/18/88/7c/f06dabd5e9cabe02d2269167bcacbbf9b47d0c0ff7d6ebcb78\n",
            "Successfully built smart-open\n",
            "\u001b[31mERROR: torchtext 0.9.0 has requirement torch==1.8.0, but you'll have torch 1.2.0 which is incompatible.\u001b[0m\n",
            "\u001b[31mERROR: fbprophet 0.7.1 has requirement pandas>=1.0.4, but you'll have pandas 0.25.0 which is incompatible.\u001b[0m\n",
            "\u001b[31mERROR: cdqa 1.3.9 has requirement tqdm==4.32.2, but you'll have tqdm 4.59.0 which is incompatible.\u001b[0m\n",
            "Installing collected packages: typer, smart-open, pathy, spacy-legacy, tqdm, catalogue, srsly, pydantic, thinc, spacy\n",
            "  Found existing installation: smart-open 4.2.0\n",
            "    Uninstalling smart-open-4.2.0:\n",
            "      Successfully uninstalled smart-open-4.2.0\n",
            "  Found existing installation: tqdm 4.32.2\n",
            "    Uninstalling tqdm-4.32.2:\n",
            "      Successfully uninstalled tqdm-4.32.2\n",
            "  Found existing installation: catalogue 1.0.0\n",
            "    Uninstalling catalogue-1.0.0:\n",
            "      Successfully uninstalled catalogue-1.0.0\n",
            "  Found existing installation: srsly 1.0.5\n",
            "    Uninstalling srsly-1.0.5:\n",
            "      Successfully uninstalled srsly-1.0.5\n",
            "  Found existing installation: thinc 7.4.0\n",
            "    Uninstalling thinc-7.4.0:\n",
            "      Successfully uninstalled thinc-7.4.0\n",
            "  Found existing installation: spacy 2.2.4\n",
            "    Uninstalling spacy-2.2.4:\n",
            "      Successfully uninstalled spacy-2.2.4\n",
            "Successfully installed catalogue-2.0.1 pathy-0.4.0 pydantic-1.7.3 smart-open-3.0.0 spacy-3.0.5 spacy-legacy-3.0.1 srsly-2.4.0 thinc-8.0.2 tqdm-4.59.0 typer-0.3.2\n",
            "Collecting spacy-lookups-data\n",
            "\u001b[?25l  Downloading https://files.pythonhosted.org/packages/76/e9/aa3dfb79d42dae89e85c2baeaa13b4635f545795f29a868771876fb38b89/spacy_lookups_data-1.0.0-py2.py3-none-any.whl (93.4MB)\n",
            "\u001b[K     |████████████████████████████████| 93.4MB 44kB/s \n",
            "\u001b[?25hRequirement already satisfied, skipping upgrade: setuptools in /usr/local/lib/python3.7/dist-packages (from spacy-lookups-data) (54.1.2)\n",
            "Installing collected packages: spacy-lookups-data\n",
            "Successfully installed spacy-lookups-data-1.0.0\n",
            "2021-03-23 11:38:50.383311: I tensorflow/stream_executor/platform/default/dso_loader.cc:49] Successfully opened dynamic library libcudart.so.11.0\n",
            "Collecting en-core-web-lg==3.0.0\n",
            "\u001b[?25l  Downloading https://github.com/explosion/spacy-models/releases/download/en_core_web_lg-3.0.0/en_core_web_lg-3.0.0-py3-none-any.whl (778.8MB)\n",
            "\u001b[K     |████████████████████████████████| 778.8MB 24kB/s \n",
            "\u001b[?25hRequirement already satisfied: spacy<3.1.0,>=3.0.0 in /usr/local/lib/python3.7/dist-packages (from en-core-web-lg==3.0.0) (3.0.5)\n",
            "Requirement already satisfied: typer<0.4.0,>=0.3.0 in /usr/local/lib/python3.7/dist-packages (from spacy<3.1.0,>=3.0.0->en-core-web-lg==3.0.0) (0.3.2)\n",
            "Requirement already satisfied: preshed<3.1.0,>=3.0.2 in /usr/local/lib/python3.7/dist-packages (from spacy<3.1.0,>=3.0.0->en-core-web-lg==3.0.0) (3.0.5)\n",
            "Requirement already satisfied: cymem<2.1.0,>=2.0.2 in /usr/local/lib/python3.7/dist-packages (from spacy<3.1.0,>=3.0.0->en-core-web-lg==3.0.0) (2.0.5)\n",
            "Requirement already satisfied: tqdm<5.0.0,>=4.38.0 in /usr/local/lib/python3.7/dist-packages (from spacy<3.1.0,>=3.0.0->en-core-web-lg==3.0.0) (4.59.0)\n",
            "Requirement already satisfied: catalogue<2.1.0,>=2.0.1 in /usr/local/lib/python3.7/dist-packages (from spacy<3.1.0,>=3.0.0->en-core-web-lg==3.0.0) (2.0.1)\n",
            "Requirement already satisfied: spacy-legacy<3.1.0,>=3.0.0 in /usr/local/lib/python3.7/dist-packages (from spacy<3.1.0,>=3.0.0->en-core-web-lg==3.0.0) (3.0.1)\n",
            "Requirement already satisfied: setuptools in /usr/local/lib/python3.7/dist-packages (from spacy<3.1.0,>=3.0.0->en-core-web-lg==3.0.0) (54.1.2)\n",
            "Requirement already satisfied: srsly<3.0.0,>=2.4.0 in /usr/local/lib/python3.7/dist-packages (from spacy<3.1.0,>=3.0.0->en-core-web-lg==3.0.0) (2.4.0)\n",
            "Requirement already satisfied: pydantic<1.8.0,>=1.7.1 in /usr/local/lib/python3.7/dist-packages (from spacy<3.1.0,>=3.0.0->en-core-web-lg==3.0.0) (1.7.3)\n",
            "Requirement already satisfied: wasabi<1.1.0,>=0.8.1 in /usr/local/lib/python3.7/dist-packages (from spacy<3.1.0,>=3.0.0->en-core-web-lg==3.0.0) (0.8.2)\n",
            "Requirement already satisfied: murmurhash<1.1.0,>=0.28.0 in /usr/local/lib/python3.7/dist-packages (from spacy<3.1.0,>=3.0.0->en-core-web-lg==3.0.0) (1.0.5)\n",
            "Requirement already satisfied: blis<0.8.0,>=0.4.0 in /usr/local/lib/python3.7/dist-packages (from spacy<3.1.0,>=3.0.0->en-core-web-lg==3.0.0) (0.4.1)\n",
            "Requirement already satisfied: pathy>=0.3.5 in /usr/local/lib/python3.7/dist-packages (from spacy<3.1.0,>=3.0.0->en-core-web-lg==3.0.0) (0.4.0)\n",
            "Requirement already satisfied: numpy>=1.15.0 in /usr/local/lib/python3.7/dist-packages (from spacy<3.1.0,>=3.0.0->en-core-web-lg==3.0.0) (1.19.5)\n",
            "Requirement already satisfied: importlib-metadata>=0.20; python_version < \"3.8\" in /usr/local/lib/python3.7/dist-packages (from spacy<3.1.0,>=3.0.0->en-core-web-lg==3.0.0) (3.7.2)\n",
            "Requirement already satisfied: requests<3.0.0,>=2.13.0 in /usr/local/lib/python3.7/dist-packages (from spacy<3.1.0,>=3.0.0->en-core-web-lg==3.0.0) (2.23.0)\n",
            "Requirement already satisfied: packaging>=20.0 in /usr/local/lib/python3.7/dist-packages (from spacy<3.1.0,>=3.0.0->en-core-web-lg==3.0.0) (20.9)\n",
            "Requirement already satisfied: typing-extensions<4.0.0.0,>=3.7.4; python_version < \"3.8\" in /usr/local/lib/python3.7/dist-packages (from spacy<3.1.0,>=3.0.0->en-core-web-lg==3.0.0) (3.7.4.3)\n",
            "Requirement already satisfied: thinc<8.1.0,>=8.0.2 in /usr/local/lib/python3.7/dist-packages (from spacy<3.1.0,>=3.0.0->en-core-web-lg==3.0.0) (8.0.2)\n",
            "Requirement already satisfied: jinja2 in /usr/local/lib/python3.7/dist-packages (from spacy<3.1.0,>=3.0.0->en-core-web-lg==3.0.0) (2.11.3)\n",
            "Requirement already satisfied: click<7.2.0,>=7.1.1 in /usr/local/lib/python3.7/dist-packages (from typer<0.4.0,>=0.3.0->spacy<3.1.0,>=3.0.0->en-core-web-lg==3.0.0) (7.1.2)\n",
            "Requirement already satisfied: smart-open<4.0.0,>=2.2.0 in /usr/local/lib/python3.7/dist-packages (from pathy>=0.3.5->spacy<3.1.0,>=3.0.0->en-core-web-lg==3.0.0) (3.0.0)\n",
            "Requirement already satisfied: zipp>=0.5 in /usr/local/lib/python3.7/dist-packages (from importlib-metadata>=0.20; python_version < \"3.8\"->spacy<3.1.0,>=3.0.0->en-core-web-lg==3.0.0) (3.4.1)\n",
            "Requirement already satisfied: urllib3!=1.25.0,!=1.25.1,<1.26,>=1.21.1 in /usr/local/lib/python3.7/dist-packages (from requests<3.0.0,>=2.13.0->spacy<3.1.0,>=3.0.0->en-core-web-lg==3.0.0) (1.24.3)\n",
            "Requirement already satisfied: chardet<4,>=3.0.2 in /usr/local/lib/python3.7/dist-packages (from requests<3.0.0,>=2.13.0->spacy<3.1.0,>=3.0.0->en-core-web-lg==3.0.0) (3.0.4)\n",
            "Requirement already satisfied: certifi>=2017.4.17 in /usr/local/lib/python3.7/dist-packages (from requests<3.0.0,>=2.13.0->spacy<3.1.0,>=3.0.0->en-core-web-lg==3.0.0) (2020.12.5)\n",
            "Requirement already satisfied: idna<3,>=2.5 in /usr/local/lib/python3.7/dist-packages (from requests<3.0.0,>=2.13.0->spacy<3.1.0,>=3.0.0->en-core-web-lg==3.0.0) (2.10)\n",
            "Requirement already satisfied: pyparsing>=2.0.2 in /usr/local/lib/python3.7/dist-packages (from packaging>=20.0->spacy<3.1.0,>=3.0.0->en-core-web-lg==3.0.0) (2.4.7)\n",
            "Requirement already satisfied: MarkupSafe>=0.23 in /usr/local/lib/python3.7/dist-packages (from jinja2->spacy<3.1.0,>=3.0.0->en-core-web-lg==3.0.0) (1.1.1)\n",
            "Installing collected packages: en-core-web-lg\n",
            "Successfully installed en-core-web-lg-3.0.0\n",
            "\u001b[38;5;2m✔ Download and installation successful\u001b[0m\n",
            "You can now load the package via spacy.load('en_core_web_lg')\n"
          ],
          "name": "stdout"
        }
      ]
    },
    {
      "cell_type": "code",
      "metadata": {
        "colab": {
          "base_uri": "https://localhost:8080/"
        },
        "id": "xeDmwlRH4mAy",
        "outputId": "7dce2428-230c-41bd-c1a2-1ac5e7518af3"
      },
      "source": [
        "## Installing the cdqa package \n",
        "!pip install cdqa"
      ],
      "execution_count": 2,
      "outputs": [
        {
          "output_type": "stream",
          "text": [
            "Requirement already satisfied: cdqa in /usr/local/lib/python3.7/dist-packages (1.3.9)\n",
            "Requirement already satisfied: tika==1.19 in /usr/local/lib/python3.7/dist-packages (from cdqa) (1.19)\n",
            "Requirement already satisfied: flask-cors==3.0.8 in /usr/local/lib/python3.7/dist-packages (from cdqa) (3.0.8)\n",
            "Requirement already satisfied: transformers==2.1.1 in /usr/local/lib/python3.7/dist-packages (from cdqa) (2.1.1)\n",
            "Requirement already satisfied: torch==1.2.0 in /usr/local/lib/python3.7/dist-packages (from cdqa) (1.2.0)\n",
            "Requirement already satisfied: Flask==1.1.1 in /usr/local/lib/python3.7/dist-packages (from cdqa) (1.1.1)\n",
            "Requirement already satisfied: scikit-learn==0.21.2 in /usr/local/lib/python3.7/dist-packages (from cdqa) (0.21.2)\n",
            "Requirement already satisfied: joblib==0.13.2 in /usr/local/lib/python3.7/dist-packages (from cdqa) (0.13.2)\n",
            "Requirement already satisfied: markdown==3.1.1 in /usr/local/lib/python3.7/dist-packages (from cdqa) (3.1.1)\n",
            "Requirement already satisfied: pandas==0.25.0 in /usr/local/lib/python3.7/dist-packages (from cdqa) (0.25.0)\n",
            "Collecting tqdm==4.32.2\n",
            "  Using cached https://files.pythonhosted.org/packages/9f/3d/7a6b68b631d2ab54975f3a4863f3c4e9b26445353264ef01f465dc9b0208/tqdm-4.32.2-py2.py3-none-any.whl\n",
            "Requirement already satisfied: prettytable==0.7.2 in /usr/local/lib/python3.7/dist-packages (from cdqa) (0.7.2)\n",
            "Requirement already satisfied: wget==3.2 in /usr/local/lib/python3.7/dist-packages (from cdqa) (3.2)\n",
            "Requirement already satisfied: requests in /usr/local/lib/python3.7/dist-packages (from tika==1.19->cdqa) (2.23.0)\n",
            "Requirement already satisfied: setuptools in /usr/local/lib/python3.7/dist-packages (from tika==1.19->cdqa) (54.1.2)\n",
            "Requirement already satisfied: Six in /usr/local/lib/python3.7/dist-packages (from flask-cors==3.0.8->cdqa) (1.15.0)\n",
            "Requirement already satisfied: boto3 in /usr/local/lib/python3.7/dist-packages (from transformers==2.1.1->cdqa) (1.17.34)\n",
            "Requirement already satisfied: numpy in /usr/local/lib/python3.7/dist-packages (from transformers==2.1.1->cdqa) (1.19.5)\n",
            "Requirement already satisfied: sacremoses in /usr/local/lib/python3.7/dist-packages (from transformers==2.1.1->cdqa) (0.0.43)\n",
            "Requirement already satisfied: regex in /usr/local/lib/python3.7/dist-packages (from transformers==2.1.1->cdqa) (2019.12.20)\n",
            "Requirement already satisfied: sentencepiece in /usr/local/lib/python3.7/dist-packages (from transformers==2.1.1->cdqa) (0.1.95)\n",
            "Requirement already satisfied: itsdangerous>=0.24 in /usr/local/lib/python3.7/dist-packages (from Flask==1.1.1->cdqa) (1.1.0)\n",
            "Requirement already satisfied: click>=5.1 in /usr/local/lib/python3.7/dist-packages (from Flask==1.1.1->cdqa) (7.1.2)\n",
            "Requirement already satisfied: Jinja2>=2.10.1 in /usr/local/lib/python3.7/dist-packages (from Flask==1.1.1->cdqa) (2.11.3)\n",
            "Requirement already satisfied: Werkzeug>=0.15 in /usr/local/lib/python3.7/dist-packages (from Flask==1.1.1->cdqa) (1.0.1)\n",
            "Requirement already satisfied: scipy>=0.17.0 in /usr/local/lib/python3.7/dist-packages (from scikit-learn==0.21.2->cdqa) (1.4.1)\n",
            "Requirement already satisfied: pytz>=2017.2 in /usr/local/lib/python3.7/dist-packages (from pandas==0.25.0->cdqa) (2018.9)\n",
            "Requirement already satisfied: python-dateutil>=2.6.1 in /usr/local/lib/python3.7/dist-packages (from pandas==0.25.0->cdqa) (2.8.1)\n",
            "Requirement already satisfied: urllib3!=1.25.0,!=1.25.1,<1.26,>=1.21.1 in /usr/local/lib/python3.7/dist-packages (from requests->tika==1.19->cdqa) (1.24.3)\n",
            "Requirement already satisfied: certifi>=2017.4.17 in /usr/local/lib/python3.7/dist-packages (from requests->tika==1.19->cdqa) (2020.12.5)\n",
            "Requirement already satisfied: chardet<4,>=3.0.2 in /usr/local/lib/python3.7/dist-packages (from requests->tika==1.19->cdqa) (3.0.4)\n",
            "Requirement already satisfied: idna<3,>=2.5 in /usr/local/lib/python3.7/dist-packages (from requests->tika==1.19->cdqa) (2.10)\n",
            "Requirement already satisfied: s3transfer<0.4.0,>=0.3.0 in /usr/local/lib/python3.7/dist-packages (from boto3->transformers==2.1.1->cdqa) (0.3.6)\n",
            "Requirement already satisfied: jmespath<1.0.0,>=0.7.1 in /usr/local/lib/python3.7/dist-packages (from boto3->transformers==2.1.1->cdqa) (0.10.0)\n",
            "Requirement already satisfied: botocore<1.21.0,>=1.20.34 in /usr/local/lib/python3.7/dist-packages (from boto3->transformers==2.1.1->cdqa) (1.20.34)\n",
            "Requirement already satisfied: MarkupSafe>=0.23 in /usr/local/lib/python3.7/dist-packages (from Jinja2>=2.10.1->Flask==1.1.1->cdqa) (1.1.1)\n",
            "\u001b[31mERROR: torchtext 0.9.0 has requirement torch==1.8.0, but you'll have torch 1.2.0 which is incompatible.\u001b[0m\n",
            "\u001b[31mERROR: spacy 3.0.5 has requirement tqdm<5.0.0,>=4.38.0, but you'll have tqdm 4.32.2 which is incompatible.\u001b[0m\n",
            "\u001b[31mERROR: fbprophet 0.7.1 has requirement pandas>=1.0.4, but you'll have pandas 0.25.0 which is incompatible.\u001b[0m\n",
            "\u001b[31mERROR: fbprophet 0.7.1 has requirement tqdm>=4.36.1, but you'll have tqdm 4.32.2 which is incompatible.\u001b[0m\n",
            "Installing collected packages: tqdm\n",
            "  Found existing installation: tqdm 4.59.0\n",
            "    Uninstalling tqdm-4.59.0:\n",
            "      Successfully uninstalled tqdm-4.59.0\n",
            "Successfully installed tqdm-4.32.2\n"
          ],
          "name": "stdout"
        }
      ]
    },
    {
      "cell_type": "code",
      "metadata": {
        "colab": {
          "base_uri": "https://localhost:8080/"
        },
        "id": "8xd7APlG4hZy",
        "outputId": "3302b1d4-c487-4ad6-869f-601b92f41c69"
      },
      "source": [
        "## Importing all the required libraries\n",
        "import pandas as pd\n",
        "import numpy as np\n",
        "import spacy\n",
        "from spacy.lang.en.stop_words import STOP_WORDS\n",
        "import os\n",
        "import pandas as pd\n",
        "from ast import literal_eval\n",
        "from cdqa.pipeline import QAPipeline\n",
        "from cdqa.utils.download import download_model"
      ],
      "execution_count": 3,
      "outputs": [
        {
          "output_type": "stream",
          "text": [
            "/usr/local/lib/python3.7/dist-packages/tqdm/autonotebook/__init__.py:18: TqdmExperimentalWarning: Using `tqdm.autonotebook.tqdm` in notebook mode. Use `tqdm.tqdm` instead to force console mode (e.g. in jupyter console)\n",
            "  \" (e.g. in jupyter console)\", TqdmExperimentalWarning)\n"
          ],
          "name": "stderr"
        }
      ]
    },
    {
      "cell_type": "code",
      "metadata": {
        "id": "AaFsKZlv4woz",
        "colab": {
          "base_uri": "https://localhost:8080/",
          "height": 204
        },
        "outputId": "b22fdeb7-e65f-4910-ebdf-fef2275cd7e1"
      },
      "source": [
        "## Creating a dataframe which has all the tweets from the csv file.\n",
        "header_list = [\"paragraph\"]\n",
        "df = pd.read_csv('/content/drive/MyDrive/Internship_Assignments/ROOT2AI/Uttarakhand.csv', names=header_list, converters={'paragraphs': literal_eval})\n",
        "df = df[1:]\n",
        "df.head()"
      ],
      "execution_count": 4,
      "outputs": [
        {
          "output_type": "execute_result",
          "data": {
            "text/html": [
              "<div>\n",
              "<style scoped>\n",
              "    .dataframe tbody tr th:only-of-type {\n",
              "        vertical-align: middle;\n",
              "    }\n",
              "\n",
              "    .dataframe tbody tr th {\n",
              "        vertical-align: top;\n",
              "    }\n",
              "\n",
              "    .dataframe thead th {\n",
              "        text-align: right;\n",
              "    }\n",
              "</style>\n",
              "<table border=\"1\" class=\"dataframe\">\n",
              "  <thead>\n",
              "    <tr style=\"text-align: right;\">\n",
              "      <th></th>\n",
              "      <th>paragraph</th>\n",
              "    </tr>\n",
              "  </thead>\n",
              "  <tbody>\n",
              "    <tr>\n",
              "      <th>1</th>\n",
              "      <td>Horrible news out of #Uttarakhand</td>\n",
              "    </tr>\n",
              "    <tr>\n",
              "      <th>2</th>\n",
              "      <td>Prayer for #Uttarakhand 🙏🙏</td>\n",
              "    </tr>\n",
              "    <tr>\n",
              "      <th>3</th>\n",
              "      <td>Ohhh God Please Save #Uttarakhand</td>\n",
              "    </tr>\n",
              "    <tr>\n",
              "      <th>4</th>\n",
              "      <td>Extremely Sad To Hear About The #Uttarakhand G...</td>\n",
              "    </tr>\n",
              "    <tr>\n",
              "      <th>5</th>\n",
              "      <td>Prayers for #Uttarakhand 🙏🙏</td>\n",
              "    </tr>\n",
              "  </tbody>\n",
              "</table>\n",
              "</div>"
            ],
            "text/plain": [
              "                                           paragraph\n",
              "1                  Horrible news out of #Uttarakhand\n",
              "2                         Prayer for #Uttarakhand 🙏🙏\n",
              "3                  Ohhh God Please Save #Uttarakhand\n",
              "4  Extremely Sad To Hear About The #Uttarakhand G...\n",
              "5                        Prayers for #Uttarakhand 🙏🙏"
            ]
          },
          "metadata": {
            "tags": []
          },
          "execution_count": 4
        }
      ]
    },
    {
      "cell_type": "markdown",
      "metadata": {
        "id": "mz3YUaSGy9hG"
      },
      "source": [
        "Now we will do the data cleaning task. This involves the following:\n",
        "\n",
        "1. Removing un necessary emails.\n",
        "2. Removing un necessary links.\n",
        "3. Removing all the special characters like: signs and emojis etc."
      ]
    },
    {
      "cell_type": "code",
      "metadata": {
        "id": "mQSuj9bVpgSA"
      },
      "source": [
        "## Removing emails\n",
        "import re\n",
        "df['paragraph'] = df['paragraph'].apply(lambda x: re.sub(r'([a-zA-Z0-9+._-]+@[a-zA-Z0-9._-]+\\.[a-zA-Z0-9_-]+)', ' ', x))"
      ],
      "execution_count": 5,
      "outputs": []
    },
    {
      "cell_type": "code",
      "metadata": {
        "colab": {
          "base_uri": "https://localhost:8080/",
          "height": 1000
        },
        "id": "0_TZlHhgqaEu",
        "outputId": "0416c434-5e0c-4deb-ea8f-e66399327eda"
      },
      "source": [
        "pd.set_option('display.max_colwidth',-1)\n",
        "df"
      ],
      "execution_count": 6,
      "outputs": [
        {
          "output_type": "execute_result",
          "data": {
            "text/html": [
              "<div>\n",
              "<style scoped>\n",
              "    .dataframe tbody tr th:only-of-type {\n",
              "        vertical-align: middle;\n",
              "    }\n",
              "\n",
              "    .dataframe tbody tr th {\n",
              "        vertical-align: top;\n",
              "    }\n",
              "\n",
              "    .dataframe thead th {\n",
              "        text-align: right;\n",
              "    }\n",
              "</style>\n",
              "<table border=\"1\" class=\"dataframe\">\n",
              "  <thead>\n",
              "    <tr style=\"text-align: right;\">\n",
              "      <th></th>\n",
              "      <th>paragraph</th>\n",
              "    </tr>\n",
              "  </thead>\n",
              "  <tbody>\n",
              "    <tr>\n",
              "      <th>1</th>\n",
              "      <td>Horrible news out of #Uttarakhand</td>\n",
              "    </tr>\n",
              "    <tr>\n",
              "      <th>2</th>\n",
              "      <td>Prayer for #Uttarakhand 🙏🙏</td>\n",
              "    </tr>\n",
              "    <tr>\n",
              "      <th>3</th>\n",
              "      <td>Ohhh God Please Save #Uttarakhand</td>\n",
              "    </tr>\n",
              "    <tr>\n",
              "      <th>4</th>\n",
              "      <td>Extremely Sad To Hear About The #Uttarakhand Glacier Break, Praying For The Safety Of Missing People... 🙏\\n\\nHelpline… https://t.co/a8HXQ6Y3Hb</td>\n",
              "    </tr>\n",
              "    <tr>\n",
              "      <th>5</th>\n",
              "      <td>Prayers for #Uttarakhand 🙏🙏</td>\n",
              "    </tr>\n",
              "    <tr>\n",
              "      <th>6</th>\n",
              "      <td>Prayer for #Uttarakhand.\\n🙏🙏</td>\n",
              "    </tr>\n",
              "    <tr>\n",
              "      <th>7</th>\n",
              "      <td>ALERT 🚨 #Uttarakhand \\n\\nEmergency 🆘 numbers 1070  9557444486 \\n\\nPlease follow all official advisories.\\n\\n#Uttarakhand #Chamoli</td>\n",
              "    </tr>\n",
              "    <tr>\n",
              "      <th>8</th>\n",
              "      <td>Heavy Devastation Due To Glacier breakage in Chamoli, Uttrakhand.Very sad news...Geographical issues of our country… https://t.co/hFmkb6D9bX</td>\n",
              "    </tr>\n",
              "    <tr>\n",
              "      <th>9</th>\n",
              "      <td>I wish everyone stay safe in  Uttarakhand during this tragedy.\\n\\n#Uttarakhand</td>\n",
              "    </tr>\n",
              "    <tr>\n",
              "      <th>10</th>\n",
              "      <td>O Lord Shiva please save #Uttarakhand !</td>\n",
              "    </tr>\n",
              "    <tr>\n",
              "      <th>11</th>\n",
              "      <td>Distressing to hear about the glacier breaking off in #Uttarakhand Praying everyone’s safety there 🙏</td>\n",
              "    </tr>\n",
              "    <tr>\n",
              "      <th>12</th>\n",
              "      <td>#Uttarakhand tragic events unfolding .. https://t.co/bqiO6lFSWg</td>\n",
              "    </tr>\n",
              "    <tr>\n",
              "      <th>13</th>\n",
              "      <td>Praying for safety of all #Uttarakhand 🙏</td>\n",
              "    </tr>\n",
              "    <tr>\n",
              "      <th>14</th>\n",
              "      <td>What's happening ? This is so scary.. My prayers for Uttarakhand people.. \\nHope everyone stays safe .. May God prot… https://t.co/vKsBHTeeAP</td>\n",
              "    </tr>\n",
              "    <tr>\n",
              "      <th>15</th>\n",
              "      <td>Pray for #Uttarakhand 🙏</td>\n",
              "    </tr>\n",
              "    <tr>\n",
              "      <th>16</th>\n",
              "      <td>Pray for the Uttarakhand \\n#Uttarakhand</td>\n",
              "    </tr>\n",
              "    <tr>\n",
              "      <th>17</th>\n",
              "      <td>This is so sad news pray for labors\\n\\n#Uttarakhand</td>\n",
              "    </tr>\n",
              "    <tr>\n",
              "      <th>18</th>\n",
              "      <td>@kktotlani Prayers for #Uttarakhand 🙏🏻</td>\n",
              "    </tr>\n",
              "    <tr>\n",
              "      <th>19</th>\n",
              "      <td>Pray for #Uttarakhand people that have mahadev</td>\n",
              "    </tr>\n",
              "    <tr>\n",
              "      <th>20</th>\n",
              "      <td>Prayering for lives there at devbhumi #Uttarakhand.🙏</td>\n",
              "    </tr>\n",
              "    <tr>\n",
              "      <th>21</th>\n",
              "      <td>Scary news coming from #Uttarakhand \\n\\nPraying for safety of all 🙏🙏</td>\n",
              "    </tr>\n",
              "    <tr>\n",
              "      <th>22</th>\n",
              "      <td>Scary visuals\\n#Uttarakhand \\n#Haridwar\\nhttps://t.co/YZqvkCQAk7</td>\n",
              "    </tr>\n",
              "    <tr>\n",
              "      <th>23</th>\n",
              "      <td>@ANI Such a horrific tragedy in #Uttarakhand and this shameless Minister is busy in propaganda.</td>\n",
              "    </tr>\n",
              "    <tr>\n",
              "      <th>24</th>\n",
              "      <td>We pray for the people who are affected in this devastating breakdown of glacier.\\nThis scene is not bearable.\\nWhat… https://t.co/k4UUhn5h4n</td>\n",
              "    </tr>\n",
              "    <tr>\n",
              "      <th>25</th>\n",
              "      <td>God bless #Uttarakhand</td>\n",
              "    </tr>\n",
              "    <tr>\n",
              "      <th>26</th>\n",
              "      <td>🙏Pray for #Uttarakhand</td>\n",
              "    </tr>\n",
              "    <tr>\n",
              "      <th>27</th>\n",
              "      <td>Floods in Uttarakhand due to Glacial burst is so scary. I hope all are safe.\\nI pray for speedy return to normalcy a… https://t.co/1t01RaAYFL</td>\n",
              "    </tr>\n",
              "    <tr>\n",
              "      <th>28</th>\n",
              "      <td>Prayers for #Uttarakhand 🙏\\nMy State #Uttarakhand</td>\n",
              "    </tr>\n",
              "    <tr>\n",
              "      <th>29</th>\n",
              "      <td>Respected indians \\nLet pray for the  people and provide all the support we can let's help the people around. #Uttarakhand</td>\n",
              "    </tr>\n",
              "    <tr>\n",
              "      <th>30</th>\n",
              "      <td>Let's pray for Uttarakhand. 🙏🙏 Eventually it will reach the people in #Chamoli #Uttarakhand</td>\n",
              "    </tr>\n",
              "    <tr>\n",
              "      <th>...</th>\n",
              "      <td>...</td>\n",
              "    </tr>\n",
              "    <tr>\n",
              "      <th>8117</th>\n",
              "      <td>Terrible news . \\nPrayers with people of #Uttarakhand 🙏🙏</td>\n",
              "    </tr>\n",
              "    <tr>\n",
              "      <th>8118</th>\n",
              "      <td>Prayers for \\n#Uttarakhand. \\nHare Krishna 🙏</td>\n",
              "    </tr>\n",
              "    <tr>\n",
              "      <th>8119</th>\n",
              "      <td>If you thought #ClimateCrisis is only for foreign countries, this is a rude awakening for you.\\nI'm really sorry for… https://t.co/weLP7zECXi</td>\n",
              "    </tr>\n",
              "    <tr>\n",
              "      <th>8120</th>\n",
              "      <td>.@ITBP_official personnel rescuing labourers who were trapped inside a tunnel in #Uttarakhand’s #Chamoli. https://t.co/6YzeTRqbTC</td>\n",
              "    </tr>\n",
              "    <tr>\n",
              "      <th>8121</th>\n",
              "      <td>Prayers for #Uttarakhand \\n🙏🙏</td>\n",
              "    </tr>\n",
              "    <tr>\n",
              "      <th>8122</th>\n",
              "      <td>Prayers for #Uttarakhand People\\n\\nGod Please Protect them from this Natural Calamity\\n\\nStay Safe 🙏\\n🙏😭😭😭😭😭😭</td>\n",
              "    </tr>\n",
              "    <tr>\n",
              "      <th>8123</th>\n",
              "      <td>In my view , \\n\\nAn Eye for Eye or Hand for Hand should be implemented and accepted Globally  if we want some peace &amp;amp;… https://t.co/8ir39zRBQS</td>\n",
              "    </tr>\n",
              "    <tr>\n",
              "      <th>8124</th>\n",
              "      <td>@vijaita @ITBP_official Praying for the well being and safety of the people of #Uttarakhand 🙏 #Uttarakhand_Disaster #Uttrakhand</td>\n",
              "    </tr>\n",
              "    <tr>\n",
              "      <th>8125</th>\n",
              "      <td>Such a big disaster has come in #Uttarakhand and our Narendra Damodar Das Modi is engaged in campaigning in Bengal. https://t.co/iumA30j5Cx</td>\n",
              "    </tr>\n",
              "    <tr>\n",
              "      <th>8126</th>\n",
              "      <td>#Chamoli News is so sad. Lets pray for All and provide  need support\\n#Uttarakhand</td>\n",
              "    </tr>\n",
              "    <tr>\n",
              "      <th>8127</th>\n",
              "      <td>Every calamity sends a wave of pain that is felt by everyone across the globe. Prayers 🙏 for everyone in #Uttarakhand</td>\n",
              "    </tr>\n",
              "    <tr>\n",
              "      <th>8128</th>\n",
              "      <td>Tapovan hydro project damaged by Uttarakhand glacier burst  https://t.co/uxyPHmvK7A #Uttarakhand</td>\n",
              "    </tr>\n",
              "    <tr>\n",
              "      <th>8129</th>\n",
              "      <td>🔸#Uttarakhand #GlacierBurst Update\\n🔸@NDRFHQ teams airlifted for incident site\\n🔸#Monitoring24x7\\n🔸… https://t.co/u0cs0Pg5AC</td>\n",
              "    </tr>\n",
              "    <tr>\n",
              "      <th>8130</th>\n",
              "      <td>My prayers are with the people of #Uttarakhand. Deeply saddened to know about the flash flood caused by glacier bur… https://t.co/RtlMafK1nz</td>\n",
              "    </tr>\n",
              "    <tr>\n",
              "      <th>8131</th>\n",
              "      <td>ITBP the real Himveer or India proud of you #himveer #ITBP #Uttarakhand @ITBP_official</td>\n",
              "    </tr>\n",
              "    <tr>\n",
              "      <th>8132</th>\n",
              "      <td>The Happiness of being alive 😍😍👏🏼👏🏼..\\n\\n#Uttarakhand #Chamoli\\nhttps://t.co/IeAjjii6G3</td>\n",
              "    </tr>\n",
              "    <tr>\n",
              "      <th>8133</th>\n",
              "      <td>Prayers for #Uttarakhand. \\nStay strong Stay safe\\n      \\n  Hare Krishna 🙏 https://t.co/olJ296Xq9v</td>\n",
              "    </tr>\n",
              "    <tr>\n",
              "      <th>8134</th>\n",
              "      <td>May all be safe #Uttarakhand #Chamoli</td>\n",
              "    </tr>\n",
              "    <tr>\n",
              "      <th>8135</th>\n",
              "      <td>My prayers for the people of  #Uttarakhand 🙏 https://t.co/feL5ZA36ZC</td>\n",
              "    </tr>\n",
              "    <tr>\n",
              "      <th>8136</th>\n",
              "      <td>#Uttarakhand #UttarakhandDisaster #Uttarakhand_Disaster \\nA life saved is a precious joy #NDRF indeed. \\n\\n\"Jise Allah… https://t.co/mwBapdXwwt</td>\n",
              "    </tr>\n",
              "    <tr>\n",
              "      <th>8137</th>\n",
              "      <td>Rescue operations are on full swing in Chamoli district, #Uttarakhand. But what’s worrisome is that Representatives… https://t.co/NeKLcHhM3m</td>\n",
              "    </tr>\n",
              "    <tr>\n",
              "      <th>8138</th>\n",
              "      <td>We bow to our brave Jawans of ITBP and NDRF for rescuing our citizens who were trapped during the disaster.… https://t.co/DOfNfXYlhb</td>\n",
              "    </tr>\n",
              "    <tr>\n",
              "      <th>8139</th>\n",
              "      <td>Prayers for Devbhoomi \\n\\n#Chamoli  #Uttarakhand</td>\n",
              "    </tr>\n",
              "    <tr>\n",
              "      <th>8140</th>\n",
              "      <td>#GodMorningSunday\\nSupreme Saint Rampal Ji Maharaj is the only Complete Guru in the whole of this universe at this p… https://t.co/eFPHozL3UQ</td>\n",
              "    </tr>\n",
              "    <tr>\n",
              "      <th>8141</th>\n",
              "      <td>May the God force be with you #Uttarakhand</td>\n",
              "    </tr>\n",
              "    <tr>\n",
              "      <th>8142</th>\n",
              "      <td>😊\\n\\nHope everyone is fine, Prayers 🙏\\n#Uttarakhand https://t.co/mTGzqycSrF</td>\n",
              "    </tr>\n",
              "    <tr>\n",
              "      <th>8143</th>\n",
              "      <td>What a responsible PM would do in this Situation? Stops rallying in election campaigns and reach conference room im… https://t.co/ReCf0pJ2Zl</td>\n",
              "    </tr>\n",
              "    <tr>\n",
              "      <th>8144</th>\n",
              "      <td>Scary scenes coming from #Uttarakhand \\n\\nPraying for safety of all 🙏🏻</td>\n",
              "    </tr>\n",
              "    <tr>\n",
              "      <th>8145</th>\n",
              "      <td>ITBP jawans in search and rescue operation in Tapovan, Chamoli on the banks of Dhauli Ganga. #Uttarakhand https://t.co/tVH5x8NxQF</td>\n",
              "    </tr>\n",
              "    <tr>\n",
              "      <th>8146</th>\n",
              "      <td>Sorry guys, I will not be able to tweet today, saddened by the bursting of the glacier in #Uttarakhand.\\nभगवान बद्री… https://t.co/osVaStOfuG</td>\n",
              "    </tr>\n",
              "  </tbody>\n",
              "</table>\n",
              "<p>8146 rows × 1 columns</p>\n",
              "</div>"
            ],
            "text/plain": [
              "                                                                                                                                           paragraph\n",
              "1     Horrible news out of #Uttarakhand                                                                                                             \n",
              "2     Prayer for #Uttarakhand 🙏🙏                                                                                                                    \n",
              "3     Ohhh God Please Save #Uttarakhand                                                                                                             \n",
              "4     Extremely Sad To Hear About The #Uttarakhand Glacier Break, Praying For The Safety Of Missing People... 🙏\\n\\nHelpline… https://t.co/a8HXQ6Y3Hb\n",
              "5     Prayers for #Uttarakhand 🙏🙏                                                                                                                   \n",
              "...                           ...                                                                                                                   \n",
              "8142  😊\\n\\nHope everyone is fine, Prayers 🙏\\n#Uttarakhand https://t.co/mTGzqycSrF                                                                   \n",
              "8143  What a responsible PM would do in this Situation? Stops rallying in election campaigns and reach conference room im… https://t.co/ReCf0pJ2Zl  \n",
              "8144  Scary scenes coming from #Uttarakhand \\n\\nPraying for safety of all 🙏🏻                                                                        \n",
              "8145  ITBP jawans in search and rescue operation in Tapovan, Chamoli on the banks of Dhauli Ganga. #Uttarakhand https://t.co/tVH5x8NxQF             \n",
              "8146  Sorry guys, I will not be able to tweet today, saddened by the bursting of the glacier in #Uttarakhand.\\nभगवान बद्री… https://t.co/osVaStOfuG \n",
              "\n",
              "[8146 rows x 1 columns]"
            ]
          },
          "metadata": {
            "tags": []
          },
          "execution_count": 6
        }
      ]
    },
    {
      "cell_type": "code",
      "metadata": {
        "id": "kMLJqT9qtBgb"
      },
      "source": [
        "## removing all the un necessary links \n",
        "df['paragraph'] = df['paragraph'].apply(lambda x: re.sub(r'(http|ftp|https)://([\\w_-]+(?:(?:\\.[\\w_-]+)+))([\\w.,@?^=%&:/~+#-]*[\\w@?^=%&/~+#-])?', '', x))"
      ],
      "execution_count": 7,
      "outputs": []
    },
    {
      "cell_type": "code",
      "metadata": {
        "colab": {
          "base_uri": "https://localhost:8080/",
          "height": 1000
        },
        "id": "KYUxxupftBiw",
        "outputId": "c0883374-e39e-490c-eab2-3c6b6c93160e"
      },
      "source": [
        "df"
      ],
      "execution_count": 8,
      "outputs": [
        {
          "output_type": "execute_result",
          "data": {
            "text/html": [
              "<div>\n",
              "<style scoped>\n",
              "    .dataframe tbody tr th:only-of-type {\n",
              "        vertical-align: middle;\n",
              "    }\n",
              "\n",
              "    .dataframe tbody tr th {\n",
              "        vertical-align: top;\n",
              "    }\n",
              "\n",
              "    .dataframe thead th {\n",
              "        text-align: right;\n",
              "    }\n",
              "</style>\n",
              "<table border=\"1\" class=\"dataframe\">\n",
              "  <thead>\n",
              "    <tr style=\"text-align: right;\">\n",
              "      <th></th>\n",
              "      <th>paragraph</th>\n",
              "    </tr>\n",
              "  </thead>\n",
              "  <tbody>\n",
              "    <tr>\n",
              "      <th>1</th>\n",
              "      <td>Horrible news out of #Uttarakhand</td>\n",
              "    </tr>\n",
              "    <tr>\n",
              "      <th>2</th>\n",
              "      <td>Prayer for #Uttarakhand 🙏🙏</td>\n",
              "    </tr>\n",
              "    <tr>\n",
              "      <th>3</th>\n",
              "      <td>Ohhh God Please Save #Uttarakhand</td>\n",
              "    </tr>\n",
              "    <tr>\n",
              "      <th>4</th>\n",
              "      <td>Extremely Sad To Hear About The #Uttarakhand Glacier Break, Praying For The Safety Of Missing People... 🙏\\n\\nHelpline…</td>\n",
              "    </tr>\n",
              "    <tr>\n",
              "      <th>5</th>\n",
              "      <td>Prayers for #Uttarakhand 🙏🙏</td>\n",
              "    </tr>\n",
              "    <tr>\n",
              "      <th>6</th>\n",
              "      <td>Prayer for #Uttarakhand.\\n🙏🙏</td>\n",
              "    </tr>\n",
              "    <tr>\n",
              "      <th>7</th>\n",
              "      <td>ALERT 🚨 #Uttarakhand \\n\\nEmergency 🆘 numbers 1070  9557444486 \\n\\nPlease follow all official advisories.\\n\\n#Uttarakhand #Chamoli</td>\n",
              "    </tr>\n",
              "    <tr>\n",
              "      <th>8</th>\n",
              "      <td>Heavy Devastation Due To Glacier breakage in Chamoli, Uttrakhand.Very sad news...Geographical issues of our country…</td>\n",
              "    </tr>\n",
              "    <tr>\n",
              "      <th>9</th>\n",
              "      <td>I wish everyone stay safe in  Uttarakhand during this tragedy.\\n\\n#Uttarakhand</td>\n",
              "    </tr>\n",
              "    <tr>\n",
              "      <th>10</th>\n",
              "      <td>O Lord Shiva please save #Uttarakhand !</td>\n",
              "    </tr>\n",
              "    <tr>\n",
              "      <th>11</th>\n",
              "      <td>Distressing to hear about the glacier breaking off in #Uttarakhand Praying everyone’s safety there 🙏</td>\n",
              "    </tr>\n",
              "    <tr>\n",
              "      <th>12</th>\n",
              "      <td>#Uttarakhand tragic events unfolding ..</td>\n",
              "    </tr>\n",
              "    <tr>\n",
              "      <th>13</th>\n",
              "      <td>Praying for safety of all #Uttarakhand 🙏</td>\n",
              "    </tr>\n",
              "    <tr>\n",
              "      <th>14</th>\n",
              "      <td>What's happening ? This is so scary.. My prayers for Uttarakhand people.. \\nHope everyone stays safe .. May God prot…</td>\n",
              "    </tr>\n",
              "    <tr>\n",
              "      <th>15</th>\n",
              "      <td>Pray for #Uttarakhand 🙏</td>\n",
              "    </tr>\n",
              "    <tr>\n",
              "      <th>16</th>\n",
              "      <td>Pray for the Uttarakhand \\n#Uttarakhand</td>\n",
              "    </tr>\n",
              "    <tr>\n",
              "      <th>17</th>\n",
              "      <td>This is so sad news pray for labors\\n\\n#Uttarakhand</td>\n",
              "    </tr>\n",
              "    <tr>\n",
              "      <th>18</th>\n",
              "      <td>@kktotlani Prayers for #Uttarakhand 🙏🏻</td>\n",
              "    </tr>\n",
              "    <tr>\n",
              "      <th>19</th>\n",
              "      <td>Pray for #Uttarakhand people that have mahadev</td>\n",
              "    </tr>\n",
              "    <tr>\n",
              "      <th>20</th>\n",
              "      <td>Prayering for lives there at devbhumi #Uttarakhand.🙏</td>\n",
              "    </tr>\n",
              "    <tr>\n",
              "      <th>21</th>\n",
              "      <td>Scary news coming from #Uttarakhand \\n\\nPraying for safety of all 🙏🙏</td>\n",
              "    </tr>\n",
              "    <tr>\n",
              "      <th>22</th>\n",
              "      <td>Scary visuals\\n#Uttarakhand \\n#Haridwar\\n</td>\n",
              "    </tr>\n",
              "    <tr>\n",
              "      <th>23</th>\n",
              "      <td>@ANI Such a horrific tragedy in #Uttarakhand and this shameless Minister is busy in propaganda.</td>\n",
              "    </tr>\n",
              "    <tr>\n",
              "      <th>24</th>\n",
              "      <td>We pray for the people who are affected in this devastating breakdown of glacier.\\nThis scene is not bearable.\\nWhat…</td>\n",
              "    </tr>\n",
              "    <tr>\n",
              "      <th>25</th>\n",
              "      <td>God bless #Uttarakhand</td>\n",
              "    </tr>\n",
              "    <tr>\n",
              "      <th>26</th>\n",
              "      <td>🙏Pray for #Uttarakhand</td>\n",
              "    </tr>\n",
              "    <tr>\n",
              "      <th>27</th>\n",
              "      <td>Floods in Uttarakhand due to Glacial burst is so scary. I hope all are safe.\\nI pray for speedy return to normalcy a…</td>\n",
              "    </tr>\n",
              "    <tr>\n",
              "      <th>28</th>\n",
              "      <td>Prayers for #Uttarakhand 🙏\\nMy State #Uttarakhand</td>\n",
              "    </tr>\n",
              "    <tr>\n",
              "      <th>29</th>\n",
              "      <td>Respected indians \\nLet pray for the  people and provide all the support we can let's help the people around. #Uttarakhand</td>\n",
              "    </tr>\n",
              "    <tr>\n",
              "      <th>30</th>\n",
              "      <td>Let's pray for Uttarakhand. 🙏🙏 Eventually it will reach the people in #Chamoli #Uttarakhand</td>\n",
              "    </tr>\n",
              "    <tr>\n",
              "      <th>...</th>\n",
              "      <td>...</td>\n",
              "    </tr>\n",
              "    <tr>\n",
              "      <th>8117</th>\n",
              "      <td>Terrible news . \\nPrayers with people of #Uttarakhand 🙏🙏</td>\n",
              "    </tr>\n",
              "    <tr>\n",
              "      <th>8118</th>\n",
              "      <td>Prayers for \\n#Uttarakhand. \\nHare Krishna 🙏</td>\n",
              "    </tr>\n",
              "    <tr>\n",
              "      <th>8119</th>\n",
              "      <td>If you thought #ClimateCrisis is only for foreign countries, this is a rude awakening for you.\\nI'm really sorry for…</td>\n",
              "    </tr>\n",
              "    <tr>\n",
              "      <th>8120</th>\n",
              "      <td>.@ITBP_official personnel rescuing labourers who were trapped inside a tunnel in #Uttarakhand’s #Chamoli.</td>\n",
              "    </tr>\n",
              "    <tr>\n",
              "      <th>8121</th>\n",
              "      <td>Prayers for #Uttarakhand \\n🙏🙏</td>\n",
              "    </tr>\n",
              "    <tr>\n",
              "      <th>8122</th>\n",
              "      <td>Prayers for #Uttarakhand People\\n\\nGod Please Protect them from this Natural Calamity\\n\\nStay Safe 🙏\\n🙏😭😭😭😭😭😭</td>\n",
              "    </tr>\n",
              "    <tr>\n",
              "      <th>8123</th>\n",
              "      <td>In my view , \\n\\nAn Eye for Eye or Hand for Hand should be implemented and accepted Globally  if we want some peace &amp;amp;…</td>\n",
              "    </tr>\n",
              "    <tr>\n",
              "      <th>8124</th>\n",
              "      <td>@vijaita @ITBP_official Praying for the well being and safety of the people of #Uttarakhand 🙏 #Uttarakhand_Disaster #Uttrakhand</td>\n",
              "    </tr>\n",
              "    <tr>\n",
              "      <th>8125</th>\n",
              "      <td>Such a big disaster has come in #Uttarakhand and our Narendra Damodar Das Modi is engaged in campaigning in Bengal.</td>\n",
              "    </tr>\n",
              "    <tr>\n",
              "      <th>8126</th>\n",
              "      <td>#Chamoli News is so sad. Lets pray for All and provide  need support\\n#Uttarakhand</td>\n",
              "    </tr>\n",
              "    <tr>\n",
              "      <th>8127</th>\n",
              "      <td>Every calamity sends a wave of pain that is felt by everyone across the globe. Prayers 🙏 for everyone in #Uttarakhand</td>\n",
              "    </tr>\n",
              "    <tr>\n",
              "      <th>8128</th>\n",
              "      <td>Tapovan hydro project damaged by Uttarakhand glacier burst   #Uttarakhand</td>\n",
              "    </tr>\n",
              "    <tr>\n",
              "      <th>8129</th>\n",
              "      <td>🔸#Uttarakhand #GlacierBurst Update\\n🔸@NDRFHQ teams airlifted for incident site\\n🔸#Monitoring24x7\\n🔸…</td>\n",
              "    </tr>\n",
              "    <tr>\n",
              "      <th>8130</th>\n",
              "      <td>My prayers are with the people of #Uttarakhand. Deeply saddened to know about the flash flood caused by glacier bur…</td>\n",
              "    </tr>\n",
              "    <tr>\n",
              "      <th>8131</th>\n",
              "      <td>ITBP the real Himveer or India proud of you #himveer #ITBP #Uttarakhand @ITBP_official</td>\n",
              "    </tr>\n",
              "    <tr>\n",
              "      <th>8132</th>\n",
              "      <td>The Happiness of being alive 😍😍👏🏼👏🏼..\\n\\n#Uttarakhand #Chamoli\\n</td>\n",
              "    </tr>\n",
              "    <tr>\n",
              "      <th>8133</th>\n",
              "      <td>Prayers for #Uttarakhand. \\nStay strong Stay safe\\n      \\n  Hare Krishna 🙏</td>\n",
              "    </tr>\n",
              "    <tr>\n",
              "      <th>8134</th>\n",
              "      <td>May all be safe #Uttarakhand #Chamoli</td>\n",
              "    </tr>\n",
              "    <tr>\n",
              "      <th>8135</th>\n",
              "      <td>My prayers for the people of  #Uttarakhand 🙏</td>\n",
              "    </tr>\n",
              "    <tr>\n",
              "      <th>8136</th>\n",
              "      <td>#Uttarakhand #UttarakhandDisaster #Uttarakhand_Disaster \\nA life saved is a precious joy #NDRF indeed. \\n\\n\"Jise Allah…</td>\n",
              "    </tr>\n",
              "    <tr>\n",
              "      <th>8137</th>\n",
              "      <td>Rescue operations are on full swing in Chamoli district, #Uttarakhand. But what’s worrisome is that Representatives…</td>\n",
              "    </tr>\n",
              "    <tr>\n",
              "      <th>8138</th>\n",
              "      <td>We bow to our brave Jawans of ITBP and NDRF for rescuing our citizens who were trapped during the disaster.…</td>\n",
              "    </tr>\n",
              "    <tr>\n",
              "      <th>8139</th>\n",
              "      <td>Prayers for Devbhoomi \\n\\n#Chamoli  #Uttarakhand</td>\n",
              "    </tr>\n",
              "    <tr>\n",
              "      <th>8140</th>\n",
              "      <td>#GodMorningSunday\\nSupreme Saint Rampal Ji Maharaj is the only Complete Guru in the whole of this universe at this p…</td>\n",
              "    </tr>\n",
              "    <tr>\n",
              "      <th>8141</th>\n",
              "      <td>May the God force be with you #Uttarakhand</td>\n",
              "    </tr>\n",
              "    <tr>\n",
              "      <th>8142</th>\n",
              "      <td>😊\\n\\nHope everyone is fine, Prayers 🙏\\n#Uttarakhand</td>\n",
              "    </tr>\n",
              "    <tr>\n",
              "      <th>8143</th>\n",
              "      <td>What a responsible PM would do in this Situation? Stops rallying in election campaigns and reach conference room im…</td>\n",
              "    </tr>\n",
              "    <tr>\n",
              "      <th>8144</th>\n",
              "      <td>Scary scenes coming from #Uttarakhand \\n\\nPraying for safety of all 🙏🏻</td>\n",
              "    </tr>\n",
              "    <tr>\n",
              "      <th>8145</th>\n",
              "      <td>ITBP jawans in search and rescue operation in Tapovan, Chamoli on the banks of Dhauli Ganga. #Uttarakhand</td>\n",
              "    </tr>\n",
              "    <tr>\n",
              "      <th>8146</th>\n",
              "      <td>Sorry guys, I will not be able to tweet today, saddened by the bursting of the glacier in #Uttarakhand.\\nभगवान बद्री…</td>\n",
              "    </tr>\n",
              "  </tbody>\n",
              "</table>\n",
              "<p>8146 rows × 1 columns</p>\n",
              "</div>"
            ],
            "text/plain": [
              "                                                                                                                    paragraph\n",
              "1     Horrible news out of #Uttarakhand                                                                                      \n",
              "2     Prayer for #Uttarakhand 🙏🙏                                                                                             \n",
              "3     Ohhh God Please Save #Uttarakhand                                                                                      \n",
              "4     Extremely Sad To Hear About The #Uttarakhand Glacier Break, Praying For The Safety Of Missing People... 🙏\\n\\nHelpline… \n",
              "5     Prayers for #Uttarakhand 🙏🙏                                                                                            \n",
              "...                           ...                                                                                            \n",
              "8142  😊\\n\\nHope everyone is fine, Prayers 🙏\\n#Uttarakhand                                                                    \n",
              "8143  What a responsible PM would do in this Situation? Stops rallying in election campaigns and reach conference room im…   \n",
              "8144  Scary scenes coming from #Uttarakhand \\n\\nPraying for safety of all 🙏🏻                                                 \n",
              "8145  ITBP jawans in search and rescue operation in Tapovan, Chamoli on the banks of Dhauli Ganga. #Uttarakhand              \n",
              "8146  Sorry guys, I will not be able to tweet today, saddened by the bursting of the glacier in #Uttarakhand.\\nभगवान बद्री…  \n",
              "\n",
              "[8146 rows x 1 columns]"
            ]
          },
          "metadata": {
            "tags": []
          },
          "execution_count": 8
        }
      ]
    },
    {
      "cell_type": "code",
      "metadata": {
        "id": "z07orqHlqb89"
      },
      "source": [
        "## Removing all the un necessary signs and emojis\n",
        "df['paragraph'] = df['paragraph'].apply(lambda x: re.sub('[^A-Z a-z 0-9-]+', '', x))"
      ],
      "execution_count": 9,
      "outputs": []
    },
    {
      "cell_type": "code",
      "metadata": {
        "colab": {
          "base_uri": "https://localhost:8080/",
          "height": 1000
        },
        "id": "eQQyYrxFsqC7",
        "outputId": "498a0e3e-15ef-4275-a17e-074f11268838"
      },
      "source": [
        "df"
      ],
      "execution_count": 10,
      "outputs": [
        {
          "output_type": "execute_result",
          "data": {
            "text/html": [
              "<div>\n",
              "<style scoped>\n",
              "    .dataframe tbody tr th:only-of-type {\n",
              "        vertical-align: middle;\n",
              "    }\n",
              "\n",
              "    .dataframe tbody tr th {\n",
              "        vertical-align: top;\n",
              "    }\n",
              "\n",
              "    .dataframe thead th {\n",
              "        text-align: right;\n",
              "    }\n",
              "</style>\n",
              "<table border=\"1\" class=\"dataframe\">\n",
              "  <thead>\n",
              "    <tr style=\"text-align: right;\">\n",
              "      <th></th>\n",
              "      <th>paragraph</th>\n",
              "    </tr>\n",
              "  </thead>\n",
              "  <tbody>\n",
              "    <tr>\n",
              "      <th>1</th>\n",
              "      <td>Horrible news out of Uttarakhand</td>\n",
              "    </tr>\n",
              "    <tr>\n",
              "      <th>2</th>\n",
              "      <td>Prayer for Uttarakhand</td>\n",
              "    </tr>\n",
              "    <tr>\n",
              "      <th>3</th>\n",
              "      <td>Ohhh God Please Save Uttarakhand</td>\n",
              "    </tr>\n",
              "    <tr>\n",
              "      <th>4</th>\n",
              "      <td>Extremely Sad To Hear About The Uttarakhand Glacier Break Praying For The Safety Of Missing People Helpline</td>\n",
              "    </tr>\n",
              "    <tr>\n",
              "      <th>5</th>\n",
              "      <td>Prayers for Uttarakhand</td>\n",
              "    </tr>\n",
              "    <tr>\n",
              "      <th>6</th>\n",
              "      <td>Prayer for Uttarakhand</td>\n",
              "    </tr>\n",
              "    <tr>\n",
              "      <th>7</th>\n",
              "      <td>ALERT  Uttarakhand Emergency  numbers 1070  9557444486 Please follow all official advisoriesUttarakhand Chamoli</td>\n",
              "    </tr>\n",
              "    <tr>\n",
              "      <th>8</th>\n",
              "      <td>Heavy Devastation Due To Glacier breakage in Chamoli UttrakhandVery sad newsGeographical issues of our country</td>\n",
              "    </tr>\n",
              "    <tr>\n",
              "      <th>9</th>\n",
              "      <td>I wish everyone stay safe in  Uttarakhand during this tragedyUttarakhand</td>\n",
              "    </tr>\n",
              "    <tr>\n",
              "      <th>10</th>\n",
              "      <td>O Lord Shiva please save Uttarakhand</td>\n",
              "    </tr>\n",
              "    <tr>\n",
              "      <th>11</th>\n",
              "      <td>Distressing to hear about the glacier breaking off in Uttarakhand Praying everyones safety there</td>\n",
              "    </tr>\n",
              "    <tr>\n",
              "      <th>12</th>\n",
              "      <td>Uttarakhand tragic events unfolding</td>\n",
              "    </tr>\n",
              "    <tr>\n",
              "      <th>13</th>\n",
              "      <td>Praying for safety of all Uttarakhand</td>\n",
              "    </tr>\n",
              "    <tr>\n",
              "      <th>14</th>\n",
              "      <td>Whats happening  This is so scary My prayers for Uttarakhand people Hope everyone stays safe  May God prot</td>\n",
              "    </tr>\n",
              "    <tr>\n",
              "      <th>15</th>\n",
              "      <td>Pray for Uttarakhand</td>\n",
              "    </tr>\n",
              "    <tr>\n",
              "      <th>16</th>\n",
              "      <td>Pray for the Uttarakhand Uttarakhand</td>\n",
              "    </tr>\n",
              "    <tr>\n",
              "      <th>17</th>\n",
              "      <td>This is so sad news pray for laborsUttarakhand</td>\n",
              "    </tr>\n",
              "    <tr>\n",
              "      <th>18</th>\n",
              "      <td>kktotlani Prayers for Uttarakhand</td>\n",
              "    </tr>\n",
              "    <tr>\n",
              "      <th>19</th>\n",
              "      <td>Pray for Uttarakhand people that have mahadev</td>\n",
              "    </tr>\n",
              "    <tr>\n",
              "      <th>20</th>\n",
              "      <td>Prayering for lives there at devbhumi Uttarakhand</td>\n",
              "    </tr>\n",
              "    <tr>\n",
              "      <th>21</th>\n",
              "      <td>Scary news coming from Uttarakhand Praying for safety of all</td>\n",
              "    </tr>\n",
              "    <tr>\n",
              "      <th>22</th>\n",
              "      <td>Scary visualsUttarakhand Haridwar</td>\n",
              "    </tr>\n",
              "    <tr>\n",
              "      <th>23</th>\n",
              "      <td>ANI Such a horrific tragedy in Uttarakhand and this shameless Minister is busy in propaganda</td>\n",
              "    </tr>\n",
              "    <tr>\n",
              "      <th>24</th>\n",
              "      <td>We pray for the people who are affected in this devastating breakdown of glacierThis scene is not bearableWhat</td>\n",
              "    </tr>\n",
              "    <tr>\n",
              "      <th>25</th>\n",
              "      <td>God bless Uttarakhand</td>\n",
              "    </tr>\n",
              "    <tr>\n",
              "      <th>26</th>\n",
              "      <td>Pray for Uttarakhand</td>\n",
              "    </tr>\n",
              "    <tr>\n",
              "      <th>27</th>\n",
              "      <td>Floods in Uttarakhand due to Glacial burst is so scary I hope all are safeI pray for speedy return to normalcy a</td>\n",
              "    </tr>\n",
              "    <tr>\n",
              "      <th>28</th>\n",
              "      <td>Prayers for Uttarakhand My State Uttarakhand</td>\n",
              "    </tr>\n",
              "    <tr>\n",
              "      <th>29</th>\n",
              "      <td>Respected indians Let pray for the  people and provide all the support we can lets help the people around Uttarakhand</td>\n",
              "    </tr>\n",
              "    <tr>\n",
              "      <th>30</th>\n",
              "      <td>Lets pray for Uttarakhand  Eventually it will reach the people in Chamoli Uttarakhand</td>\n",
              "    </tr>\n",
              "    <tr>\n",
              "      <th>...</th>\n",
              "      <td>...</td>\n",
              "    </tr>\n",
              "    <tr>\n",
              "      <th>8117</th>\n",
              "      <td>Terrible news  Prayers with people of Uttarakhand</td>\n",
              "    </tr>\n",
              "    <tr>\n",
              "      <th>8118</th>\n",
              "      <td>Prayers for Uttarakhand Hare Krishna</td>\n",
              "    </tr>\n",
              "    <tr>\n",
              "      <th>8119</th>\n",
              "      <td>If you thought ClimateCrisis is only for foreign countries this is a rude awakening for youIm really sorry for</td>\n",
              "    </tr>\n",
              "    <tr>\n",
              "      <th>8120</th>\n",
              "      <td>ITBPofficial personnel rescuing labourers who were trapped inside a tunnel in Uttarakhands Chamoli</td>\n",
              "    </tr>\n",
              "    <tr>\n",
              "      <th>8121</th>\n",
              "      <td>Prayers for Uttarakhand</td>\n",
              "    </tr>\n",
              "    <tr>\n",
              "      <th>8122</th>\n",
              "      <td>Prayers for Uttarakhand PeopleGod Please Protect them from this Natural CalamityStay Safe</td>\n",
              "    </tr>\n",
              "    <tr>\n",
              "      <th>8123</th>\n",
              "      <td>In my view  An Eye for Eye or Hand for Hand should be implemented and accepted Globally  if we want some peace amp</td>\n",
              "    </tr>\n",
              "    <tr>\n",
              "      <th>8124</th>\n",
              "      <td>vijaita ITBPofficial Praying for the well being and safety of the people of Uttarakhand  UttarakhandDisaster Uttrakhand</td>\n",
              "    </tr>\n",
              "    <tr>\n",
              "      <th>8125</th>\n",
              "      <td>Such a big disaster has come in Uttarakhand and our Narendra Damodar Das Modi is engaged in campaigning in Bengal</td>\n",
              "    </tr>\n",
              "    <tr>\n",
              "      <th>8126</th>\n",
              "      <td>Chamoli News is so sad Lets pray for All and provide  need supportUttarakhand</td>\n",
              "    </tr>\n",
              "    <tr>\n",
              "      <th>8127</th>\n",
              "      <td>Every calamity sends a wave of pain that is felt by everyone across the globe Prayers  for everyone in Uttarakhand</td>\n",
              "    </tr>\n",
              "    <tr>\n",
              "      <th>8128</th>\n",
              "      <td>Tapovan hydro project damaged by Uttarakhand glacier burst   Uttarakhand</td>\n",
              "    </tr>\n",
              "    <tr>\n",
              "      <th>8129</th>\n",
              "      <td>Uttarakhand GlacierBurst UpdateNDRFHQ teams airlifted for incident siteMonitoring24x7</td>\n",
              "    </tr>\n",
              "    <tr>\n",
              "      <th>8130</th>\n",
              "      <td>My prayers are with the people of Uttarakhand Deeply saddened to know about the flash flood caused by glacier bur</td>\n",
              "    </tr>\n",
              "    <tr>\n",
              "      <th>8131</th>\n",
              "      <td>ITBP the real Himveer or India proud of you himveer ITBP Uttarakhand ITBPofficial</td>\n",
              "    </tr>\n",
              "    <tr>\n",
              "      <th>8132</th>\n",
              "      <td>The Happiness of being alive Uttarakhand Chamoli</td>\n",
              "    </tr>\n",
              "    <tr>\n",
              "      <th>8133</th>\n",
              "      <td>Prayers for Uttarakhand Stay strong Stay safe        Hare Krishna</td>\n",
              "    </tr>\n",
              "    <tr>\n",
              "      <th>8134</th>\n",
              "      <td>May all be safe Uttarakhand Chamoli</td>\n",
              "    </tr>\n",
              "    <tr>\n",
              "      <th>8135</th>\n",
              "      <td>My prayers for the people of  Uttarakhand</td>\n",
              "    </tr>\n",
              "    <tr>\n",
              "      <th>8136</th>\n",
              "      <td>Uttarakhand UttarakhandDisaster UttarakhandDisaster A life saved is a precious joy NDRF indeed Jise Allah</td>\n",
              "    </tr>\n",
              "    <tr>\n",
              "      <th>8137</th>\n",
              "      <td>Rescue operations are on full swing in Chamoli district Uttarakhand But whats worrisome is that Representatives</td>\n",
              "    </tr>\n",
              "    <tr>\n",
              "      <th>8138</th>\n",
              "      <td>We bow to our brave Jawans of ITBP and NDRF for rescuing our citizens who were trapped during the disaster</td>\n",
              "    </tr>\n",
              "    <tr>\n",
              "      <th>8139</th>\n",
              "      <td>Prayers for Devbhoomi Chamoli  Uttarakhand</td>\n",
              "    </tr>\n",
              "    <tr>\n",
              "      <th>8140</th>\n",
              "      <td>GodMorningSundaySupreme Saint Rampal Ji Maharaj is the only Complete Guru in the whole of this universe at this p</td>\n",
              "    </tr>\n",
              "    <tr>\n",
              "      <th>8141</th>\n",
              "      <td>May the God force be with you Uttarakhand</td>\n",
              "    </tr>\n",
              "    <tr>\n",
              "      <th>8142</th>\n",
              "      <td>Hope everyone is fine Prayers Uttarakhand</td>\n",
              "    </tr>\n",
              "    <tr>\n",
              "      <th>8143</th>\n",
              "      <td>What a responsible PM would do in this Situation Stops rallying in election campaigns and reach conference room im</td>\n",
              "    </tr>\n",
              "    <tr>\n",
              "      <th>8144</th>\n",
              "      <td>Scary scenes coming from Uttarakhand Praying for safety of all</td>\n",
              "    </tr>\n",
              "    <tr>\n",
              "      <th>8145</th>\n",
              "      <td>ITBP jawans in search and rescue operation in Tapovan Chamoli on the banks of Dhauli Ganga Uttarakhand</td>\n",
              "    </tr>\n",
              "    <tr>\n",
              "      <th>8146</th>\n",
              "      <td>Sorry guys I will not be able to tweet today saddened by the bursting of the glacier in Uttarakhand</td>\n",
              "    </tr>\n",
              "  </tbody>\n",
              "</table>\n",
              "<p>8146 rows × 1 columns</p>\n",
              "</div>"
            ],
            "text/plain": [
              "                                                                                                                paragraph\n",
              "1     Horrible news out of Uttarakhand                                                                                   \n",
              "2     Prayer for Uttarakhand                                                                                             \n",
              "3     Ohhh God Please Save Uttarakhand                                                                                   \n",
              "4     Extremely Sad To Hear About The Uttarakhand Glacier Break Praying For The Safety Of Missing People Helpline        \n",
              "5     Prayers for Uttarakhand                                                                                            \n",
              "...                        ...                                                                                           \n",
              "8142  Hope everyone is fine Prayers Uttarakhand                                                                          \n",
              "8143  What a responsible PM would do in this Situation Stops rallying in election campaigns and reach conference room im \n",
              "8144  Scary scenes coming from Uttarakhand Praying for safety of all                                                     \n",
              "8145  ITBP jawans in search and rescue operation in Tapovan Chamoli on the banks of Dhauli Ganga Uttarakhand             \n",
              "8146  Sorry guys I will not be able to tweet today saddened by the bursting of the glacier in Uttarakhand                \n",
              "\n",
              "[8146 rows x 1 columns]"
            ]
          },
          "metadata": {
            "tags": []
          },
          "execution_count": 10
        }
      ]
    },
    {
      "cell_type": "markdown",
      "metadata": {
        "id": "QSpzZUyTzo69"
      },
      "source": [
        "Now we have to convert the dataframe to a structure that we can fit it to the cdqa pipeline. It should have a title column and a paragraphs column."
      ]
    },
    {
      "cell_type": "code",
      "metadata": {
        "id": "3TARVWxYuJls"
      },
      "source": [
        "## Creating the paragraphs columns which should be in the list format\n",
        "st=[]\n",
        "\n",
        "for i in range(df.shape[0]):\n",
        "  va =[]\n",
        "  va.append(df['paragraph'].iloc[i])\n",
        "  st.append(va)\n",
        "\n",
        "df['paragraphs'] = st"
      ],
      "execution_count": 11,
      "outputs": []
    },
    {
      "cell_type": "code",
      "metadata": {
        "id": "JkpNC8FWujWS"
      },
      "source": [
        "## Creating a title column\n",
        "title = []\n",
        "for i in range(df.shape[0]):\n",
        "  title.append(\"tweet\"+str(i))\n",
        "df['title']=title"
      ],
      "execution_count": 12,
      "outputs": []
    },
    {
      "cell_type": "code",
      "metadata": {
        "id": "-9HoUbk0u1v4"
      },
      "source": [
        "## Creating the final dataframe which had only two columns - title and paragraphs\n",
        "df = df[['title','paragraphs']]"
      ],
      "execution_count": 13,
      "outputs": []
    },
    {
      "cell_type": "code",
      "metadata": {
        "colab": {
          "base_uri": "https://localhost:8080/",
          "height": 1000
        },
        "id": "uRP0XOQYu56h",
        "outputId": "f77e4cc8-8826-4313-a052-f016d2c65b34"
      },
      "source": [
        "df"
      ],
      "execution_count": 14,
      "outputs": [
        {
          "output_type": "execute_result",
          "data": {
            "text/html": [
              "<div>\n",
              "<style scoped>\n",
              "    .dataframe tbody tr th:only-of-type {\n",
              "        vertical-align: middle;\n",
              "    }\n",
              "\n",
              "    .dataframe tbody tr th {\n",
              "        vertical-align: top;\n",
              "    }\n",
              "\n",
              "    .dataframe thead th {\n",
              "        text-align: right;\n",
              "    }\n",
              "</style>\n",
              "<table border=\"1\" class=\"dataframe\">\n",
              "  <thead>\n",
              "    <tr style=\"text-align: right;\">\n",
              "      <th></th>\n",
              "      <th>title</th>\n",
              "      <th>paragraphs</th>\n",
              "    </tr>\n",
              "  </thead>\n",
              "  <tbody>\n",
              "    <tr>\n",
              "      <th>1</th>\n",
              "      <td>tweet0</td>\n",
              "      <td>[Horrible news out of Uttarakhand]</td>\n",
              "    </tr>\n",
              "    <tr>\n",
              "      <th>2</th>\n",
              "      <td>tweet1</td>\n",
              "      <td>[Prayer for Uttarakhand ]</td>\n",
              "    </tr>\n",
              "    <tr>\n",
              "      <th>3</th>\n",
              "      <td>tweet2</td>\n",
              "      <td>[Ohhh God Please Save Uttarakhand]</td>\n",
              "    </tr>\n",
              "    <tr>\n",
              "      <th>4</th>\n",
              "      <td>tweet3</td>\n",
              "      <td>[Extremely Sad To Hear About The Uttarakhand Glacier Break Praying For The Safety Of Missing People Helpline ]</td>\n",
              "    </tr>\n",
              "    <tr>\n",
              "      <th>5</th>\n",
              "      <td>tweet4</td>\n",
              "      <td>[Prayers for Uttarakhand ]</td>\n",
              "    </tr>\n",
              "    <tr>\n",
              "      <th>6</th>\n",
              "      <td>tweet5</td>\n",
              "      <td>[Prayer for Uttarakhand]</td>\n",
              "    </tr>\n",
              "    <tr>\n",
              "      <th>7</th>\n",
              "      <td>tweet6</td>\n",
              "      <td>[ALERT  Uttarakhand Emergency  numbers 1070  9557444486 Please follow all official advisoriesUttarakhand Chamoli]</td>\n",
              "    </tr>\n",
              "    <tr>\n",
              "      <th>8</th>\n",
              "      <td>tweet7</td>\n",
              "      <td>[Heavy Devastation Due To Glacier breakage in Chamoli UttrakhandVery sad newsGeographical issues of our country ]</td>\n",
              "    </tr>\n",
              "    <tr>\n",
              "      <th>9</th>\n",
              "      <td>tweet8</td>\n",
              "      <td>[I wish everyone stay safe in  Uttarakhand during this tragedyUttarakhand]</td>\n",
              "    </tr>\n",
              "    <tr>\n",
              "      <th>10</th>\n",
              "      <td>tweet9</td>\n",
              "      <td>[O Lord Shiva please save Uttarakhand ]</td>\n",
              "    </tr>\n",
              "    <tr>\n",
              "      <th>11</th>\n",
              "      <td>tweet10</td>\n",
              "      <td>[Distressing to hear about the glacier breaking off in Uttarakhand Praying everyones safety there ]</td>\n",
              "    </tr>\n",
              "    <tr>\n",
              "      <th>12</th>\n",
              "      <td>tweet11</td>\n",
              "      <td>[Uttarakhand tragic events unfolding  ]</td>\n",
              "    </tr>\n",
              "    <tr>\n",
              "      <th>13</th>\n",
              "      <td>tweet12</td>\n",
              "      <td>[Praying for safety of all Uttarakhand ]</td>\n",
              "    </tr>\n",
              "    <tr>\n",
              "      <th>14</th>\n",
              "      <td>tweet13</td>\n",
              "      <td>[Whats happening  This is so scary My prayers for Uttarakhand people Hope everyone stays safe  May God prot ]</td>\n",
              "    </tr>\n",
              "    <tr>\n",
              "      <th>15</th>\n",
              "      <td>tweet14</td>\n",
              "      <td>[Pray for Uttarakhand ]</td>\n",
              "    </tr>\n",
              "    <tr>\n",
              "      <th>16</th>\n",
              "      <td>tweet15</td>\n",
              "      <td>[Pray for the Uttarakhand Uttarakhand]</td>\n",
              "    </tr>\n",
              "    <tr>\n",
              "      <th>17</th>\n",
              "      <td>tweet16</td>\n",
              "      <td>[This is so sad news pray for laborsUttarakhand]</td>\n",
              "    </tr>\n",
              "    <tr>\n",
              "      <th>18</th>\n",
              "      <td>tweet17</td>\n",
              "      <td>[kktotlani Prayers for Uttarakhand ]</td>\n",
              "    </tr>\n",
              "    <tr>\n",
              "      <th>19</th>\n",
              "      <td>tweet18</td>\n",
              "      <td>[Pray for Uttarakhand people that have mahadev]</td>\n",
              "    </tr>\n",
              "    <tr>\n",
              "      <th>20</th>\n",
              "      <td>tweet19</td>\n",
              "      <td>[Prayering for lives there at devbhumi Uttarakhand]</td>\n",
              "    </tr>\n",
              "    <tr>\n",
              "      <th>21</th>\n",
              "      <td>tweet20</td>\n",
              "      <td>[Scary news coming from Uttarakhand Praying for safety of all ]</td>\n",
              "    </tr>\n",
              "    <tr>\n",
              "      <th>22</th>\n",
              "      <td>tweet21</td>\n",
              "      <td>[Scary visualsUttarakhand Haridwar]</td>\n",
              "    </tr>\n",
              "    <tr>\n",
              "      <th>23</th>\n",
              "      <td>tweet22</td>\n",
              "      <td>[ANI Such a horrific tragedy in Uttarakhand and this shameless Minister is busy in propaganda]</td>\n",
              "    </tr>\n",
              "    <tr>\n",
              "      <th>24</th>\n",
              "      <td>tweet23</td>\n",
              "      <td>[We pray for the people who are affected in this devastating breakdown of glacierThis scene is not bearableWhat ]</td>\n",
              "    </tr>\n",
              "    <tr>\n",
              "      <th>25</th>\n",
              "      <td>tweet24</td>\n",
              "      <td>[God bless Uttarakhand]</td>\n",
              "    </tr>\n",
              "    <tr>\n",
              "      <th>26</th>\n",
              "      <td>tweet25</td>\n",
              "      <td>[Pray for Uttarakhand]</td>\n",
              "    </tr>\n",
              "    <tr>\n",
              "      <th>27</th>\n",
              "      <td>tweet26</td>\n",
              "      <td>[Floods in Uttarakhand due to Glacial burst is so scary I hope all are safeI pray for speedy return to normalcy a ]</td>\n",
              "    </tr>\n",
              "    <tr>\n",
              "      <th>28</th>\n",
              "      <td>tweet27</td>\n",
              "      <td>[Prayers for Uttarakhand My State Uttarakhand]</td>\n",
              "    </tr>\n",
              "    <tr>\n",
              "      <th>29</th>\n",
              "      <td>tweet28</td>\n",
              "      <td>[Respected indians Let pray for the  people and provide all the support we can lets help the people around Uttarakhand]</td>\n",
              "    </tr>\n",
              "    <tr>\n",
              "      <th>30</th>\n",
              "      <td>tweet29</td>\n",
              "      <td>[Lets pray for Uttarakhand  Eventually it will reach the people in Chamoli Uttarakhand]</td>\n",
              "    </tr>\n",
              "    <tr>\n",
              "      <th>...</th>\n",
              "      <td>...</td>\n",
              "      <td>...</td>\n",
              "    </tr>\n",
              "    <tr>\n",
              "      <th>8117</th>\n",
              "      <td>tweet8116</td>\n",
              "      <td>[Terrible news  Prayers with people of Uttarakhand ]</td>\n",
              "    </tr>\n",
              "    <tr>\n",
              "      <th>8118</th>\n",
              "      <td>tweet8117</td>\n",
              "      <td>[Prayers for Uttarakhand Hare Krishna ]</td>\n",
              "    </tr>\n",
              "    <tr>\n",
              "      <th>8119</th>\n",
              "      <td>tweet8118</td>\n",
              "      <td>[If you thought ClimateCrisis is only for foreign countries this is a rude awakening for youIm really sorry for ]</td>\n",
              "    </tr>\n",
              "    <tr>\n",
              "      <th>8120</th>\n",
              "      <td>tweet8119</td>\n",
              "      <td>[ITBPofficial personnel rescuing labourers who were trapped inside a tunnel in Uttarakhands Chamoli ]</td>\n",
              "    </tr>\n",
              "    <tr>\n",
              "      <th>8121</th>\n",
              "      <td>tweet8120</td>\n",
              "      <td>[Prayers for Uttarakhand ]</td>\n",
              "    </tr>\n",
              "    <tr>\n",
              "      <th>8122</th>\n",
              "      <td>tweet8121</td>\n",
              "      <td>[Prayers for Uttarakhand PeopleGod Please Protect them from this Natural CalamityStay Safe ]</td>\n",
              "    </tr>\n",
              "    <tr>\n",
              "      <th>8123</th>\n",
              "      <td>tweet8122</td>\n",
              "      <td>[In my view  An Eye for Eye or Hand for Hand should be implemented and accepted Globally  if we want some peace amp ]</td>\n",
              "    </tr>\n",
              "    <tr>\n",
              "      <th>8124</th>\n",
              "      <td>tweet8123</td>\n",
              "      <td>[vijaita ITBPofficial Praying for the well being and safety of the people of Uttarakhand  UttarakhandDisaster Uttrakhand]</td>\n",
              "    </tr>\n",
              "    <tr>\n",
              "      <th>8125</th>\n",
              "      <td>tweet8124</td>\n",
              "      <td>[Such a big disaster has come in Uttarakhand and our Narendra Damodar Das Modi is engaged in campaigning in Bengal ]</td>\n",
              "    </tr>\n",
              "    <tr>\n",
              "      <th>8126</th>\n",
              "      <td>tweet8125</td>\n",
              "      <td>[Chamoli News is so sad Lets pray for All and provide  need supportUttarakhand]</td>\n",
              "    </tr>\n",
              "    <tr>\n",
              "      <th>8127</th>\n",
              "      <td>tweet8126</td>\n",
              "      <td>[Every calamity sends a wave of pain that is felt by everyone across the globe Prayers  for everyone in Uttarakhand]</td>\n",
              "    </tr>\n",
              "    <tr>\n",
              "      <th>8128</th>\n",
              "      <td>tweet8127</td>\n",
              "      <td>[Tapovan hydro project damaged by Uttarakhand glacier burst   Uttarakhand]</td>\n",
              "    </tr>\n",
              "    <tr>\n",
              "      <th>8129</th>\n",
              "      <td>tweet8128</td>\n",
              "      <td>[Uttarakhand GlacierBurst UpdateNDRFHQ teams airlifted for incident siteMonitoring24x7 ]</td>\n",
              "    </tr>\n",
              "    <tr>\n",
              "      <th>8130</th>\n",
              "      <td>tweet8129</td>\n",
              "      <td>[My prayers are with the people of Uttarakhand Deeply saddened to know about the flash flood caused by glacier bur ]</td>\n",
              "    </tr>\n",
              "    <tr>\n",
              "      <th>8131</th>\n",
              "      <td>tweet8130</td>\n",
              "      <td>[ITBP the real Himveer or India proud of you himveer ITBP Uttarakhand ITBPofficial]</td>\n",
              "    </tr>\n",
              "    <tr>\n",
              "      <th>8132</th>\n",
              "      <td>tweet8131</td>\n",
              "      <td>[The Happiness of being alive Uttarakhand Chamoli]</td>\n",
              "    </tr>\n",
              "    <tr>\n",
              "      <th>8133</th>\n",
              "      <td>tweet8132</td>\n",
              "      <td>[Prayers for Uttarakhand Stay strong Stay safe        Hare Krishna  ]</td>\n",
              "    </tr>\n",
              "    <tr>\n",
              "      <th>8134</th>\n",
              "      <td>tweet8133</td>\n",
              "      <td>[May all be safe Uttarakhand Chamoli]</td>\n",
              "    </tr>\n",
              "    <tr>\n",
              "      <th>8135</th>\n",
              "      <td>tweet8134</td>\n",
              "      <td>[My prayers for the people of  Uttarakhand  ]</td>\n",
              "    </tr>\n",
              "    <tr>\n",
              "      <th>8136</th>\n",
              "      <td>tweet8135</td>\n",
              "      <td>[Uttarakhand UttarakhandDisaster UttarakhandDisaster A life saved is a precious joy NDRF indeed Jise Allah ]</td>\n",
              "    </tr>\n",
              "    <tr>\n",
              "      <th>8137</th>\n",
              "      <td>tweet8136</td>\n",
              "      <td>[Rescue operations are on full swing in Chamoli district Uttarakhand But whats worrisome is that Representatives ]</td>\n",
              "    </tr>\n",
              "    <tr>\n",
              "      <th>8138</th>\n",
              "      <td>tweet8137</td>\n",
              "      <td>[We bow to our brave Jawans of ITBP and NDRF for rescuing our citizens who were trapped during the disaster ]</td>\n",
              "    </tr>\n",
              "    <tr>\n",
              "      <th>8139</th>\n",
              "      <td>tweet8138</td>\n",
              "      <td>[Prayers for Devbhoomi Chamoli  Uttarakhand]</td>\n",
              "    </tr>\n",
              "    <tr>\n",
              "      <th>8140</th>\n",
              "      <td>tweet8139</td>\n",
              "      <td>[GodMorningSundaySupreme Saint Rampal Ji Maharaj is the only Complete Guru in the whole of this universe at this p ]</td>\n",
              "    </tr>\n",
              "    <tr>\n",
              "      <th>8141</th>\n",
              "      <td>tweet8140</td>\n",
              "      <td>[May the God force be with you Uttarakhand]</td>\n",
              "    </tr>\n",
              "    <tr>\n",
              "      <th>8142</th>\n",
              "      <td>tweet8141</td>\n",
              "      <td>[Hope everyone is fine Prayers Uttarakhand ]</td>\n",
              "    </tr>\n",
              "    <tr>\n",
              "      <th>8143</th>\n",
              "      <td>tweet8142</td>\n",
              "      <td>[What a responsible PM would do in this Situation Stops rallying in election campaigns and reach conference room im ]</td>\n",
              "    </tr>\n",
              "    <tr>\n",
              "      <th>8144</th>\n",
              "      <td>tweet8143</td>\n",
              "      <td>[Scary scenes coming from Uttarakhand Praying for safety of all ]</td>\n",
              "    </tr>\n",
              "    <tr>\n",
              "      <th>8145</th>\n",
              "      <td>tweet8144</td>\n",
              "      <td>[ITBP jawans in search and rescue operation in Tapovan Chamoli on the banks of Dhauli Ganga Uttarakhand ]</td>\n",
              "    </tr>\n",
              "    <tr>\n",
              "      <th>8146</th>\n",
              "      <td>tweet8145</td>\n",
              "      <td>[Sorry guys I will not be able to tweet today saddened by the bursting of the glacier in Uttarakhand  ]</td>\n",
              "    </tr>\n",
              "  </tbody>\n",
              "</table>\n",
              "<p>8146 rows × 2 columns</p>\n",
              "</div>"
            ],
            "text/plain": [
              "          title                                                                                                             paragraphs\n",
              "1     tweet0     [Horrible news out of Uttarakhand]                                                                                   \n",
              "2     tweet1     [Prayer for Uttarakhand ]                                                                                            \n",
              "3     tweet2     [Ohhh God Please Save Uttarakhand]                                                                                   \n",
              "4     tweet3     [Extremely Sad To Hear About The Uttarakhand Glacier Break Praying For The Safety Of Missing People Helpline ]       \n",
              "5     tweet4     [Prayers for Uttarakhand ]                                                                                           \n",
              "...      ...                            ...                                                                                           \n",
              "8142  tweet8141  [Hope everyone is fine Prayers Uttarakhand ]                                                                         \n",
              "8143  tweet8142  [What a responsible PM would do in this Situation Stops rallying in election campaigns and reach conference room im ]\n",
              "8144  tweet8143  [Scary scenes coming from Uttarakhand Praying for safety of all ]                                                    \n",
              "8145  tweet8144  [ITBP jawans in search and rescue operation in Tapovan Chamoli on the banks of Dhauli Ganga Uttarakhand ]            \n",
              "8146  tweet8145  [Sorry guys I will not be able to tweet today saddened by the bursting of the glacier in Uttarakhand  ]              \n",
              "\n",
              "[8146 rows x 2 columns]"
            ]
          },
          "metadata": {
            "tags": []
          },
          "execution_count": 14
        }
      ]
    },
    {
      "cell_type": "code",
      "metadata": {
        "colab": {
          "base_uri": "https://localhost:8080/"
        },
        "id": "25fmp3lyvGhg",
        "outputId": "11db3d03-5a33-446b-931b-aeec66bde8aa"
      },
      "source": [
        "## Downloading the pretrained model trained on the squad dataset\n",
        "download_model('bert-squad_1.1', dir='./models')"
      ],
      "execution_count": 15,
      "outputs": [
        {
          "output_type": "stream",
          "text": [
            "\n",
            "Downloading trained model...\n",
            "bert_qa.joblib already downloaded\n"
          ],
          "name": "stdout"
        }
      ]
    },
    {
      "cell_type": "code",
      "metadata": {
        "colab": {
          "base_uri": "https://localhost:8080/"
        },
        "id": "cGdicUAbu-jI",
        "outputId": "b7d10b9c-86bb-4da2-a4e3-a684c8b04c61"
      },
      "source": [
        "## Fitting the model on the dataframe\n",
        "cdqa_pipeline = QAPipeline(reader='./models/bert_qa.joblib',max_df=1.0)\n",
        "cdqa_pipeline.fit_retriever(df=df)"
      ],
      "execution_count": 16,
      "outputs": [
        {
          "output_type": "execute_result",
          "data": {
            "text/plain": [
              "QAPipeline(reader=BertQA(adam_epsilon=1e-08, bert_model='bert-base-uncased',\n",
              "                         do_lower_case=True, fp16=False,\n",
              "                         gradient_accumulation_steps=1, learning_rate=5e-05,\n",
              "                         local_rank=-1, loss_scale=0, max_answer_length=30,\n",
              "                         n_best_size=20, no_cuda=False,\n",
              "                         null_score_diff_threshold=0.0, num_train_epochs=3.0,\n",
              "                         output_dir=None, predict_batch_size=8, seed=42,\n",
              "                         server_ip='', server_po..._size=8,\n",
              "                         verbose_logging=False, version_2_with_negative=False,\n",
              "                         warmup_proportion=0.1, warmup_steps=0),\n",
              "           retrieve_by_doc=False,\n",
              "           retriever=BM25Retriever(b=0.75, floor=None, k1=2.0, lowercase=True,\n",
              "                                   max_df=1.0, min_df=2, ngram_range=(1, 2),\n",
              "                                   preprocessor=None, stop_words='english',\n",
              "                                   token_pattern='(?u)\\\\b\\\\w\\\\w+\\\\b',\n",
              "                                   tokenizer=None, top_n=20, verbose=False,\n",
              "                                   vocabulary=None))"
            ]
          },
          "metadata": {
            "tags": []
          },
          "execution_count": 16
        }
      ]
    },
    {
      "cell_type": "markdown",
      "metadata": {
        "id": "r-xlsQLj0Ryp"
      },
      "source": [
        "Now we can start asking question to the model and it will predict the first 3 probable answer with the confidence level and also the tweete in which the answer appears(as we have prepared that in our data preprocessing)."
      ]
    },
    {
      "cell_type": "markdown",
      "metadata": {
        "id": "UoOyn53y0dh3"
      },
      "source": [
        "We will be asking the following question as extracted from the tweets:\n",
        "\n",
        "1. How many people feared to be drowned in flood after glacier bursts?\n",
        "2. What is the water level at Rishikesh?\n",
        "3. What is the helpline number?\n",
        "4. How many personnel deployed on rescue mission?\n",
        "5. How many casualties feared in the flash flood?\n",
        "6. Who is Chief Secretary of Uttrakhand?\n",
        "7. glacier burst in which village?\n",
        "8. Why there is floods in Uttrakhand?\n",
        "9. Flood in which river?\n",
        "10. Who is the prime minister?\n",
        "11. Who is the home minister?\n",
        "12. Which helicopter is on standby for search?\n",
        "13. What is the helpline number of Uttrakhand government?"
      ]
    },
    {
      "cell_type": "code",
      "metadata": {
        "colab": {
          "base_uri": "https://localhost:8080/"
        },
        "id": "rB4_hTq0vN9v",
        "outputId": "ded5643e-4100-4ebd-ba12-87d9532856be"
      },
      "source": [
        "query = \"How many people feared to be drowned in flood after glacier bursts?\"\n",
        "prediction = cdqa_pipeline.predict(query,3)\n",
        "prediction"
      ],
      "execution_count": 17,
      "outputs": [
        {
          "output_type": "execute_result",
          "data": {
            "text/plain": [
              "[('150',\n",
              "  'tweet288',\n",
              "  '150 people feared to be drowned in flood after glacier bursts UttarakhandUttarakhandDisaster ',\n",
              "  24.431776278057452),\n",
              " ('100-150',\n",
              "  'tweet2314',\n",
              "  'UPDATE 100-150 feared dead as glacier bursts in India Uttarakhand',\n",
              "  15.706282849207597),\n",
              " ('150',\n",
              "  'tweet1342',\n",
              "  'Uttarakhand flood Glacier bursts in Chamoli district 150 people missingflood ',\n",
              "  14.630708087777222)]"
            ]
          },
          "metadata": {
            "tags": []
          },
          "execution_count": 17
        }
      ]
    },
    {
      "cell_type": "code",
      "metadata": {
        "colab": {
          "base_uri": "https://localhost:8080/"
        },
        "id": "6DMLN22kvW-Z",
        "outputId": "bc251d2c-92fa-4940-a500-9f9726090606"
      },
      "source": [
        "query = \"What is the water level at Rishikesh?\"\n",
        "prediction = cdqa_pipeline.predict(query,3)\n",
        "prediction"
      ],
      "execution_count": 18,
      "outputs": [
        {
          "output_type": "execute_result",
          "data": {
            "text/plain": [
              "[('34050 m',\n",
              "  'tweet62',\n",
              "  'Water level at Rishikesh the water Level may rise to 34050 m at 2000 hrs and Haridwar the Water Level May Reach 2 ',\n",
              "  14.079714504650566),\n",
              " ('34050 m',\n",
              "  'tweet236',\n",
              "  'Water level at Rishikesh the water Level may rise to 34050 m at 2000 hrs and Haridwar the Water Level May Reach 2 ',\n",
              "  14.079712335041496),\n",
              " ('34050 m',\n",
              "  'tweet280',\n",
              "  'Water level at Rishikesh the water Level may rise to 34050 m at 2000 hrs and Haridwar the Water Level May Reach 2 ',\n",
              "  14.079712335041496)]"
            ]
          },
          "metadata": {
            "tags": []
          },
          "execution_count": 18
        }
      ]
    },
    {
      "cell_type": "code",
      "metadata": {
        "colab": {
          "base_uri": "https://localhost:8080/"
        },
        "id": "9C16XrpPvb5n",
        "outputId": "e56897dd-6bce-4231-d9ef-e3955d09ebd6"
      },
      "source": [
        "query = \"What is the helpline number?\"\n",
        "prediction = cdqa_pipeline.predict(query,3)\n",
        "prediction"
      ],
      "execution_count": 19,
      "outputs": [
        {
          "output_type": "execute_result",
          "data": {
            "text/plain": [
              "[('9557444486',\n",
              "  'tweet1888',\n",
              "  'Helpline number forUttarakhand 9557444486 ',\n",
              "  15.463002726079441),\n",
              " ('1070',\n",
              "  'tweet2783',\n",
              "  'Uttarakhand Helpline number-1070 ',\n",
              "  15.372154531288299),\n",
              " ('1070',\n",
              "  'tweet5874',\n",
              "  'Uttarakhand CM tsrawatbjp shares the helpline number 1070 or 9557444486 ',\n",
              "  12.8993750835637)]"
            ]
          },
          "metadata": {
            "tags": []
          },
          "execution_count": 19
        }
      ]
    },
    {
      "cell_type": "code",
      "metadata": {
        "colab": {
          "base_uri": "https://localhost:8080/"
        },
        "id": "pRvrnDtnvj83",
        "outputId": "eb185f53-fa51-40d9-a689-dd54f83b8d1c"
      },
      "source": [
        "query = \"How many personnel deployed on rescue mission?\"\n",
        "prediction = cdqa_pipeline.predict(query,3)\n",
        "prediction"
      ],
      "execution_count": 20,
      "outputs": [
        {
          "output_type": "execute_result",
          "data": {
            "text/plain": [
              "[('250',\n",
              "  'tweet451',\n",
              "  '3 teams of ITBPofficial comprising of 250 personnel deployed on rescue mission in Uttarakhand AsianetNewsEN',\n",
              "  21.025092420241524),\n",
              " ('Hundreds',\n",
              "  'tweet4780',\n",
              "  'Hundreds of ITBP personnel has been deployed for rescue of casualties in flood affected areas of Chamoli district ',\n",
              "  15.922582882277663),\n",
              " ('200',\n",
              "  'tweet4959',\n",
              "  '4 districts of Uttarakhand on alert 200 ITBP personnel deployed for rescue operation Joshimath Chamoli ',\n",
              "  14.913025039069348)]"
            ]
          },
          "metadata": {
            "tags": []
          },
          "execution_count": 20
        }
      ]
    },
    {
      "cell_type": "code",
      "metadata": {
        "colab": {
          "base_uri": "https://localhost:8080/"
        },
        "id": "PS1dPzmbvprm",
        "outputId": "ad33c625-f3a1-4b23-84bf-dbfd7df8db42"
      },
      "source": [
        "query = \"How many casualties feared in the flash flood?\"\n",
        "prediction = cdqa_pipeline.predict(query,3)\n",
        "prediction"
      ],
      "execution_count": 21,
      "outputs": [
        {
          "output_type": "execute_result",
          "data": {
            "text/plain": [
              "[('100-150',\n",
              "  'tweet4522',\n",
              "  '100-150 casualties feared in the flash flood in Chamoli districtUttarakhand',\n",
              "  20.558219041844403),\n",
              " ('100-150',\n",
              "  'tweet2870',\n",
              "  '100-150 casualties feared in the flash flood  Uttarakhand Chief Secretary',\n",
              "  19.91663281120205),\n",
              " ('100-150',\n",
              "  'tweet1534',\n",
              "  '100-150 casualties feared in flash flood in Chamoli Ukhand Chief Secretary  via ',\n",
              "  19.484737412108423)]"
            ]
          },
          "metadata": {
            "tags": []
          },
          "execution_count": 21
        }
      ]
    },
    {
      "cell_type": "code",
      "metadata": {
        "colab": {
          "base_uri": "https://localhost:8080/"
        },
        "id": "sLWg7Vb1vtLW",
        "outputId": "81527091-5453-4d0b-8128-88e991ae6bf1"
      },
      "source": [
        "query = \"Who is Chief Secretary of Uttrakhand?\"\n",
        "prediction = cdqa_pipeline.predict(query,3)\n",
        "prediction"
      ],
      "execution_count": 22,
      "outputs": [
        {
          "output_type": "execute_result",
          "data": {
            "text/plain": [
              "[('OM Prakash',\n",
              "  'tweet4538',\n",
              "  '100-150 casualties feared in the flash flood in Chamoli district Uttarakhand Chief Secretary OM Prakash to ANITV9News',\n",
              "  15.040079275274248),\n",
              " ('OM Prakash',\n",
              "  'tweet7124',\n",
              "  '100-150 casualties feared in the flash flood in Chamoli district Uttarakhand Chief Secretary OM Prakash',\n",
              "  14.991816631460164),\n",
              " ('OM Prakash',\n",
              "  'tweet4355',\n",
              "  '100-150 casualties feared in the flash flood in Chamoli district Uttarakhand Chief Secretary OM Prakash ',\n",
              "  14.991813532018636)]"
            ]
          },
          "metadata": {
            "tags": []
          },
          "execution_count": 22
        }
      ]
    },
    {
      "cell_type": "code",
      "metadata": {
        "colab": {
          "base_uri": "https://localhost:8080/"
        },
        "id": "n19pO-y0vvvO",
        "outputId": "f695aea0-571b-4130-90cf-be0a25b1c112"
      },
      "source": [
        "query = \"glacier burst in which village?\"\n",
        "prediction = cdqa_pipeline.predict(query,3)\n",
        "prediction"
      ],
      "execution_count": 23,
      "outputs": [
        {
          "output_type": "execute_result",
          "data": {
            "text/plain": [
              "[('Reni',\n",
              "  'tweet7198',\n",
              "  'Very disturbing newsA glacier burst at the Reni village of Chamoli district in Uttarakhand has triggered a massi ',\n",
              "  14.34512272702122),\n",
              " ('Reni',\n",
              "  'tweet7227',\n",
              "  'A glacier burst at the Reni village of Chamoli district in Uttarakhand has triggered a massive flood in the ',\n",
              "  13.81416020314221),\n",
              " ('Alaknanda valley',\n",
              "  'tweet6035',\n",
              "  'Amateur video This mornings episode Glacier burst in Alaknanda valley Please verify naturaldisaster glacier ',\n",
              "  13.497976366003162)]"
            ]
          },
          "metadata": {
            "tags": []
          },
          "execution_count": 23
        }
      ]
    },
    {
      "cell_type": "code",
      "metadata": {
        "colab": {
          "base_uri": "https://localhost:8080/"
        },
        "id": "QfIHmkYsvzR9",
        "outputId": "0cb756e7-115d-4d05-bd4c-f5550d009c06"
      },
      "source": [
        "query = \"Why there is floods in Uttrakhand?\"\n",
        "prediction = cdqa_pipeline.predict(query,3)\n",
        "prediction"
      ],
      "execution_count": 24,
      "outputs": [
        {
          "output_type": "execute_result",
          "data": {
            "text/plain": [
              "[('glacier burst',\n",
              "  'tweet2391',\n",
              "  'Massive floods in Uttarakhand due to glacier burst Pray God that the lives be saved Chamoli Uttrakhand',\n",
              "  8.261201558758607),\n",
              " ('melting of a Glacier',\n",
              "  'tweet548',\n",
              "  'Flash Floods in Uttarakhand due to melting of a GlacierUnprecedented floods in Hyderabad last  yearAll are sig ',\n",
              "  5.921102253851397),\n",
              " ('Stay safe',\n",
              "  'tweet2925',\n",
              "  'Stay safe Uttrakhand pplUttarakhand ',\n",
              "  -0.7746857262299653)]"
            ]
          },
          "metadata": {
            "tags": []
          },
          "execution_count": 24
        }
      ]
    },
    {
      "cell_type": "code",
      "metadata": {
        "colab": {
          "base_uri": "https://localhost:8080/"
        },
        "id": "osg0pKpuv61V",
        "outputId": "d665e4fb-4a23-47b7-cbb4-bd773cc3a8d1"
      },
      "source": [
        "query = \"Flood in which river?\"\n",
        "prediction = cdqa_pipeline.predict(query,3)\n",
        "prediction"
      ],
      "execution_count": 25,
      "outputs": [
        {
          "output_type": "execute_result",
          "data": {
            "text/plain": [
              "[('dhauliganga river',\n",
              "  'tweet1167',\n",
              "  'A massive flood was triggered in the dhauliganga river in Uttarakhand Chamoli district after a glacier broke of ',\n",
              "  14.33580113344141),\n",
              " ('Dhauliganga River',\n",
              "  'tweet6018',\n",
              "  'Scary videos coming in from Uttarakhand Massive flood in the Dhauliganga River Uttarakhand Flood ',\n",
              "  13.981613870058375),\n",
              " ('Dhauliganga river',\n",
              "  'tweet5029',\n",
              "  'A massive flood in the Dhauliganga river was reported near a village in Uttarakhands Chamoli district ',\n",
              "  13.940731490711817)]"
            ]
          },
          "metadata": {
            "tags": []
          },
          "execution_count": 25
        }
      ]
    },
    {
      "cell_type": "code",
      "metadata": {
        "colab": {
          "base_uri": "https://localhost:8080/"
        },
        "id": "WdkAjKmAv-et",
        "outputId": "e5d3399e-e9da-4c39-f4bf-f8de4254d64c"
      },
      "source": [
        "query = \"Who is the prime minister?\"\n",
        "prediction = cdqa_pipeline.predict(query,3)\n",
        "prediction"
      ],
      "execution_count": 26,
      "outputs": [
        {
          "output_type": "execute_result",
          "data": {
            "text/plain": [
              "[('NarendraModi',\n",
              "  'tweet1322',\n",
              "  'Prime Minister NarendraModi and Union Home Minister AmitShah on Sunday spoke to Uttarakhand Chief Minister ',\n",
              "  18.213412711613465),\n",
              " ('Shri narendramodi',\n",
              "  'tweet1675',\n",
              "  'Prime Minister Shri narendramodi speaks to Uttarakhand CM Shri tsrawatbjp  reviews unfortunate situation in ',\n",
              "  15.068045386417204),\n",
              " ('Narendra Modi',\n",
              "  'tweet2105',\n",
              "  'Prime Minister Narendra Modi said I am constantly monitoring unfortunate situation in Uttarakhand India stands w ',\n",
              "  14.281278664963347)]"
            ]
          },
          "metadata": {
            "tags": []
          },
          "execution_count": 26
        }
      ]
    },
    {
      "cell_type": "code",
      "metadata": {
        "colab": {
          "base_uri": "https://localhost:8080/"
        },
        "id": "LBb1FPETwCBt",
        "outputId": "cb2d616b-ec07-40b4-bb71-5e8ec3953c5e"
      },
      "source": [
        "query = \"Who is the home minister?\"\n",
        "prediction = cdqa_pipeline.predict(query,3)\n",
        "prediction"
      ],
      "execution_count": 27,
      "outputs": [
        {
          "output_type": "execute_result",
          "data": {
            "text/plain": [
              "[('AmitShah',\n",
              "  'tweet4335',\n",
              "  'BreakingNews Home Minister AmitShah has spoken to Uttarakhand Chief Minister TrivendraSinghRawat as well as ITB ',\n",
              "  16.462706038222862),\n",
              " ('Amit Shah',\n",
              "  'tweet7649',\n",
              "  'WATCH Uttarakhand glacier burst Union Home Minister Amit Shah assures assistance ',\n",
              "  16.388332623663384),\n",
              " ('AmitShah',\n",
              "  'tweet1499',\n",
              "  'Home Minister AmitShah assures Uttarakhand CM tsrawatbjp of all possible support to deal with the situation aris ',\n",
              "  15.997527212987878)]"
            ]
          },
          "metadata": {
            "tags": []
          },
          "execution_count": 27
        }
      ]
    },
    {
      "cell_type": "code",
      "metadata": {
        "colab": {
          "base_uri": "https://localhost:8080/"
        },
        "id": "EWdYoT27wFE9",
        "outputId": "2a4b2692-6db6-4aac-a80c-9c9a78c70f6a"
      },
      "source": [
        "query = \"Which helicopter is on standby for search?\"\n",
        "prediction = cdqa_pipeline.predict(query,3)\n",
        "prediction"
      ],
      "execution_count": 28,
      "outputs": [
        {
          "output_type": "execute_result",
          "data": {
            "text/plain": [
              "[('Chinook',\n",
              "  'tweet1184',\n",
              "  'WeStandTogetherForUttrakhandIAF Mi-17 amp Chinook helicopters from Chandigarh and elsewhere on standby for search amp ',\n",
              "  12.447783352696682),\n",
              " ('amp Chinook helicopters',\n",
              "  'tweet1912',\n",
              "  'IAF Mi-17 amp Chinook helicopters from Chandigarh and elsewhere on standby for search amp rescue ops in Uttarakhand W ',\n",
              "  10.962969078141896),\n",
              " ('amp Chinook helicopters',\n",
              "  'tweet7572',\n",
              "  'IAF Mi-17 amp Chinook helicopters from Chandigarh and elsewhere on standby for search amp rescue ops in Uttarakhand W ',\n",
              "  10.962969078141896)]"
            ]
          },
          "metadata": {
            "tags": []
          },
          "execution_count": 28
        }
      ]
    },
    {
      "cell_type": "code",
      "metadata": {
        "colab": {
          "base_uri": "https://localhost:8080/"
        },
        "id": "tOoiQSqbwHq1",
        "outputId": "fcf1eb54-5e30-4d36-c7d9-9625aa4f7548"
      },
      "source": [
        "query = \"What is the helpline number of Uttrakhand government?\"\n",
        "prediction = cdqa_pipeline.predict(query,3)\n",
        "prediction"
      ],
      "execution_count": 29,
      "outputs": [
        {
          "output_type": "execute_result",
          "data": {
            "text/plain": [
              "[('25000 Thousand',\n",
              "  'tweet579',\n",
              "  'Uttarakhand I Am Happy To Announce That I Help Uttrakhand Government To Give 25000 Thousand To Uttrakhand Governm ',\n",
              "  16.826341339535468),\n",
              " ('9557444486',\n",
              "  'tweet1888',\n",
              "  'Helpline number forUttarakhand 9557444486 ',\n",
              "  15.657681437970613),\n",
              " ('1070',\n",
              "  'tweet410',\n",
              "  'Natural disaster in UttarakhandLet all our pray for Uttrakhand Government has issued helpline numbers - 1070 ',\n",
              "  15.30251492643737)]"
            ]
          },
          "metadata": {
            "tags": []
          },
          "execution_count": 29
        }
      ]
    },
    {
      "cell_type": "code",
      "metadata": {
        "id": "n6lB00W6wKPM"
      },
      "source": [
        ""
      ],
      "execution_count": 29,
      "outputs": []
    }
  ]
}