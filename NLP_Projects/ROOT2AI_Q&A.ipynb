{
  "nbformat": 4,
  "nbformat_minor": 0,
  "metadata": {
    "colab": {
      "name": "ROOT2AI_Q&A.ipynb",
      "provenance": [],
      "collapsed_sections": []
    },
    "kernelspec": {
      "name": "python3",
      "display_name": "Python 3"
    },
    "language_info": {
      "name": "python"
    },
    "accelerator": "GPU"
  },
  "cells": [
    {
      "cell_type": "code",
      "metadata": {
        "colab": {
          "base_uri": "https://localhost:8080/"
        },
        "id": "odtlieECtuwx",
        "outputId": "edb3d75d-a492-4970-f4e1-588c7441fcbe"
      },
      "source": [
        "!pip install -U spacy\n",
        "!pip install -U spacy-lookups-data\n",
        "# python -m spacy download en_core_web_sm\n",
        "# python -m spacy download en_core_web_md\n",
        "!python -m spacy download en_core_web_lg"
      ],
      "execution_count": null,
      "outputs": [
        {
          "output_type": "stream",
          "text": [
            "Collecting spacy\n",
            "\u001b[?25l  Downloading https://files.pythonhosted.org/packages/3a/70/a0b8bd0cb54d8739ba4d6fb3458785c3b9b812b7fbe93b0f10beb1a53ada/spacy-3.0.5-cp37-cp37m-manylinux2014_x86_64.whl (12.8MB)\n",
            "\u001b[K     |████████████████████████████████| 12.8MB 243kB/s \n",
            "\u001b[?25hRequirement already satisfied, skipping upgrade: numpy>=1.15.0 in /usr/local/lib/python3.7/dist-packages (from spacy) (1.19.5)\n",
            "Requirement already satisfied, skipping upgrade: blis<0.8.0,>=0.4.0 in /usr/local/lib/python3.7/dist-packages (from spacy) (0.4.1)\n",
            "Requirement already satisfied, skipping upgrade: wasabi<1.1.0,>=0.8.1 in /usr/local/lib/python3.7/dist-packages (from spacy) (0.8.2)\n",
            "Requirement already satisfied, skipping upgrade: preshed<3.1.0,>=3.0.2 in /usr/local/lib/python3.7/dist-packages (from spacy) (3.0.5)\n",
            "Requirement already satisfied, skipping upgrade: cymem<2.1.0,>=2.0.2 in /usr/local/lib/python3.7/dist-packages (from spacy) (2.0.5)\n",
            "Collecting spacy-legacy<3.1.0,>=3.0.0\n",
            "  Downloading https://files.pythonhosted.org/packages/65/d5/6c58fc97f3098775e46d8202bf248752e626a8096a0ae9d76aa7c485a09c/spacy_legacy-3.0.1-py2.py3-none-any.whl\n",
            "Requirement already satisfied, skipping upgrade: requests<3.0.0,>=2.13.0 in /usr/local/lib/python3.7/dist-packages (from spacy) (2.23.0)\n",
            "Requirement already satisfied, skipping upgrade: typing-extensions<4.0.0.0,>=3.7.4; python_version < \"3.8\" in /usr/local/lib/python3.7/dist-packages (from spacy) (3.7.4.3)\n",
            "Collecting pydantic<1.8.0,>=1.7.1\n",
            "\u001b[?25l  Downloading https://files.pythonhosted.org/packages/b3/0a/52ae1c659fc08f13dd7c0ae07b88e4f807ad83fb9954a59b0b0a3d1a8ab6/pydantic-1.7.3-cp37-cp37m-manylinux2014_x86_64.whl (9.1MB)\n",
            "\u001b[K     |████████████████████████████████| 9.1MB 44.2MB/s \n",
            "\u001b[?25hCollecting thinc<8.1.0,>=8.0.2\n",
            "\u001b[?25l  Downloading https://files.pythonhosted.org/packages/e3/08/20e707519bcded1a0caa6fd024b767ac79e4e5d0fb92266bb7dcf735e338/thinc-8.0.2-cp37-cp37m-manylinux2014_x86_64.whl (1.1MB)\n",
            "\u001b[K     |████████████████████████████████| 1.1MB 46.1MB/s \n",
            "\u001b[?25hCollecting pathy>=0.3.5\n",
            "  Downloading https://files.pythonhosted.org/packages/a2/53/97dc0197cca9357369b3b71bf300896cf2d3604fa60ffaaf5cbc277de7de/pathy-0.4.0-py3-none-any.whl\n",
            "Requirement already satisfied, skipping upgrade: packaging>=20.0 in /usr/local/lib/python3.7/dist-packages (from spacy) (20.9)\n",
            "Collecting srsly<3.0.0,>=2.4.0\n",
            "\u001b[?25l  Downloading https://files.pythonhosted.org/packages/19/54/76982427ceb495dd19ff982c966708c624b85e03c45bf1912feaf60c7b2d/srsly-2.4.0-cp37-cp37m-manylinux2014_x86_64.whl (456kB)\n",
            "\u001b[K     |████████████████████████████████| 460kB 49.6MB/s \n",
            "\u001b[?25hRequirement already satisfied, skipping upgrade: murmurhash<1.1.0,>=0.28.0 in /usr/local/lib/python3.7/dist-packages (from spacy) (1.0.5)\n",
            "Collecting catalogue<2.1.0,>=2.0.1\n",
            "  Downloading https://files.pythonhosted.org/packages/48/5c/493a2f3bb0eac17b1d48129ecfd251f0520b6c89493e9fd0522f534a9e4a/catalogue-2.0.1-py3-none-any.whl\n",
            "Requirement already satisfied, skipping upgrade: tqdm<5.0.0,>=4.38.0 in /usr/local/lib/python3.7/dist-packages (from spacy) (4.41.1)\n",
            "Requirement already satisfied, skipping upgrade: setuptools in /usr/local/lib/python3.7/dist-packages (from spacy) (54.1.2)\n",
            "Requirement already satisfied, skipping upgrade: importlib-metadata>=0.20; python_version < \"3.8\" in /usr/local/lib/python3.7/dist-packages (from spacy) (3.7.2)\n",
            "Collecting typer<0.4.0,>=0.3.0\n",
            "  Downloading https://files.pythonhosted.org/packages/90/34/d138832f6945432c638f32137e6c79a3b682f06a63c488dcfaca6b166c64/typer-0.3.2-py3-none-any.whl\n",
            "Requirement already satisfied, skipping upgrade: jinja2 in /usr/local/lib/python3.7/dist-packages (from spacy) (2.11.3)\n",
            "Requirement already satisfied, skipping upgrade: chardet<4,>=3.0.2 in /usr/local/lib/python3.7/dist-packages (from requests<3.0.0,>=2.13.0->spacy) (3.0.4)\n",
            "Requirement already satisfied, skipping upgrade: urllib3!=1.25.0,!=1.25.1,<1.26,>=1.21.1 in /usr/local/lib/python3.7/dist-packages (from requests<3.0.0,>=2.13.0->spacy) (1.24.3)\n",
            "Requirement already satisfied, skipping upgrade: certifi>=2017.4.17 in /usr/local/lib/python3.7/dist-packages (from requests<3.0.0,>=2.13.0->spacy) (2020.12.5)\n",
            "Requirement already satisfied, skipping upgrade: idna<3,>=2.5 in /usr/local/lib/python3.7/dist-packages (from requests<3.0.0,>=2.13.0->spacy) (2.10)\n",
            "Collecting smart-open<4.0.0,>=2.2.0\n",
            "\u001b[?25l  Downloading https://files.pythonhosted.org/packages/11/9a/ba2d5f67f25e8d5bbf2fcec7a99b1e38428e83cb715f64dd179ca43a11bb/smart_open-3.0.0.tar.gz (113kB)\n",
            "\u001b[K     |████████████████████████████████| 122kB 38.5MB/s \n",
            "\u001b[?25hRequirement already satisfied, skipping upgrade: pyparsing>=2.0.2 in /usr/local/lib/python3.7/dist-packages (from packaging>=20.0->spacy) (2.4.7)\n",
            "Requirement already satisfied, skipping upgrade: zipp>=0.5 in /usr/local/lib/python3.7/dist-packages (from importlib-metadata>=0.20; python_version < \"3.8\"->spacy) (3.4.1)\n",
            "Requirement already satisfied, skipping upgrade: click<7.2.0,>=7.1.1 in /usr/local/lib/python3.7/dist-packages (from typer<0.4.0,>=0.3.0->spacy) (7.1.2)\n",
            "Requirement already satisfied, skipping upgrade: MarkupSafe>=0.23 in /usr/local/lib/python3.7/dist-packages (from jinja2->spacy) (1.1.1)\n",
            "Building wheels for collected packages: smart-open\n",
            "  Building wheel for smart-open (setup.py) ... \u001b[?25l\u001b[?25hdone\n",
            "  Created wheel for smart-open: filename=smart_open-3.0.0-cp37-none-any.whl size=107098 sha256=bffc645fb32facbd7f78151e14857b06f5ce7a34b1dbc0badf661543ac95c099\n",
            "  Stored in directory: /root/.cache/pip/wheels/18/88/7c/f06dabd5e9cabe02d2269167bcacbbf9b47d0c0ff7d6ebcb78\n",
            "Successfully built smart-open\n",
            "Installing collected packages: spacy-legacy, pydantic, catalogue, srsly, thinc, smart-open, typer, pathy, spacy\n",
            "  Found existing installation: catalogue 1.0.0\n",
            "    Uninstalling catalogue-1.0.0:\n",
            "      Successfully uninstalled catalogue-1.0.0\n",
            "  Found existing installation: srsly 1.0.5\n",
            "    Uninstalling srsly-1.0.5:\n",
            "      Successfully uninstalled srsly-1.0.5\n",
            "  Found existing installation: thinc 7.4.0\n",
            "    Uninstalling thinc-7.4.0:\n",
            "      Successfully uninstalled thinc-7.4.0\n",
            "  Found existing installation: smart-open 4.2.0\n",
            "    Uninstalling smart-open-4.2.0:\n",
            "      Successfully uninstalled smart-open-4.2.0\n",
            "  Found existing installation: spacy 2.2.4\n",
            "    Uninstalling spacy-2.2.4:\n",
            "      Successfully uninstalled spacy-2.2.4\n",
            "Successfully installed catalogue-2.0.1 pathy-0.4.0 pydantic-1.7.3 smart-open-3.0.0 spacy-3.0.5 spacy-legacy-3.0.1 srsly-2.4.0 thinc-8.0.2 typer-0.3.2\n",
            "Collecting spacy-lookups-data\n",
            "\u001b[?25l  Downloading https://files.pythonhosted.org/packages/76/e9/aa3dfb79d42dae89e85c2baeaa13b4635f545795f29a868771876fb38b89/spacy_lookups_data-1.0.0-py2.py3-none-any.whl (93.4MB)\n",
            "\u001b[K     |████████████████████████████████| 93.4MB 31kB/s \n",
            "\u001b[?25hRequirement already satisfied, skipping upgrade: setuptools in /usr/local/lib/python3.7/dist-packages (from spacy-lookups-data) (54.1.2)\n",
            "Installing collected packages: spacy-lookups-data\n",
            "Successfully installed spacy-lookups-data-1.0.0\n",
            "2021-03-22 16:17:19.669251: I tensorflow/stream_executor/platform/default/dso_loader.cc:49] Successfully opened dynamic library libcudart.so.11.0\n",
            "Collecting en-core-web-lg==3.0.0\n",
            "\u001b[?25l  Downloading https://github.com/explosion/spacy-models/releases/download/en_core_web_lg-3.0.0/en_core_web_lg-3.0.0-py3-none-any.whl (778.8MB)\n",
            "\u001b[K     |████████████████████████████████| 778.8MB 23kB/s \n",
            "\u001b[?25hRequirement already satisfied: spacy<3.1.0,>=3.0.0 in /usr/local/lib/python3.7/dist-packages (from en-core-web-lg==3.0.0) (3.0.5)\n",
            "Requirement already satisfied: numpy>=1.15.0 in /usr/local/lib/python3.7/dist-packages (from spacy<3.1.0,>=3.0.0->en-core-web-lg==3.0.0) (1.19.5)\n",
            "Requirement already satisfied: tqdm<5.0.0,>=4.38.0 in /usr/local/lib/python3.7/dist-packages (from spacy<3.1.0,>=3.0.0->en-core-web-lg==3.0.0) (4.41.1)\n",
            "Requirement already satisfied: importlib-metadata>=0.20; python_version < \"3.8\" in /usr/local/lib/python3.7/dist-packages (from spacy<3.1.0,>=3.0.0->en-core-web-lg==3.0.0) (3.7.2)\n",
            "Requirement already satisfied: typing-extensions<4.0.0.0,>=3.7.4; python_version < \"3.8\" in /usr/local/lib/python3.7/dist-packages (from spacy<3.1.0,>=3.0.0->en-core-web-lg==3.0.0) (3.7.4.3)\n",
            "Requirement already satisfied: srsly<3.0.0,>=2.4.0 in /usr/local/lib/python3.7/dist-packages (from spacy<3.1.0,>=3.0.0->en-core-web-lg==3.0.0) (2.4.0)\n",
            "Requirement already satisfied: catalogue<2.1.0,>=2.0.1 in /usr/local/lib/python3.7/dist-packages (from spacy<3.1.0,>=3.0.0->en-core-web-lg==3.0.0) (2.0.1)\n",
            "Requirement already satisfied: wasabi<1.1.0,>=0.8.1 in /usr/local/lib/python3.7/dist-packages (from spacy<3.1.0,>=3.0.0->en-core-web-lg==3.0.0) (0.8.2)\n",
            "Requirement already satisfied: preshed<3.1.0,>=3.0.2 in /usr/local/lib/python3.7/dist-packages (from spacy<3.1.0,>=3.0.0->en-core-web-lg==3.0.0) (3.0.5)\n",
            "Requirement already satisfied: pathy>=0.3.5 in /usr/local/lib/python3.7/dist-packages (from spacy<3.1.0,>=3.0.0->en-core-web-lg==3.0.0) (0.4.0)\n",
            "Requirement already satisfied: setuptools in /usr/local/lib/python3.7/dist-packages (from spacy<3.1.0,>=3.0.0->en-core-web-lg==3.0.0) (54.1.2)\n",
            "Requirement already satisfied: jinja2 in /usr/local/lib/python3.7/dist-packages (from spacy<3.1.0,>=3.0.0->en-core-web-lg==3.0.0) (2.11.3)\n",
            "Requirement already satisfied: thinc<8.1.0,>=8.0.2 in /usr/local/lib/python3.7/dist-packages (from spacy<3.1.0,>=3.0.0->en-core-web-lg==3.0.0) (8.0.2)\n",
            "Requirement already satisfied: murmurhash<1.1.0,>=0.28.0 in /usr/local/lib/python3.7/dist-packages (from spacy<3.1.0,>=3.0.0->en-core-web-lg==3.0.0) (1.0.5)\n",
            "Requirement already satisfied: packaging>=20.0 in /usr/local/lib/python3.7/dist-packages (from spacy<3.1.0,>=3.0.0->en-core-web-lg==3.0.0) (20.9)\n",
            "Requirement already satisfied: typer<0.4.0,>=0.3.0 in /usr/local/lib/python3.7/dist-packages (from spacy<3.1.0,>=3.0.0->en-core-web-lg==3.0.0) (0.3.2)\n",
            "Requirement already satisfied: cymem<2.1.0,>=2.0.2 in /usr/local/lib/python3.7/dist-packages (from spacy<3.1.0,>=3.0.0->en-core-web-lg==3.0.0) (2.0.5)\n",
            "Requirement already satisfied: requests<3.0.0,>=2.13.0 in /usr/local/lib/python3.7/dist-packages (from spacy<3.1.0,>=3.0.0->en-core-web-lg==3.0.0) (2.23.0)\n",
            "Requirement already satisfied: pydantic<1.8.0,>=1.7.1 in /usr/local/lib/python3.7/dist-packages (from spacy<3.1.0,>=3.0.0->en-core-web-lg==3.0.0) (1.7.3)\n",
            "Requirement already satisfied: blis<0.8.0,>=0.4.0 in /usr/local/lib/python3.7/dist-packages (from spacy<3.1.0,>=3.0.0->en-core-web-lg==3.0.0) (0.4.1)\n",
            "Requirement already satisfied: spacy-legacy<3.1.0,>=3.0.0 in /usr/local/lib/python3.7/dist-packages (from spacy<3.1.0,>=3.0.0->en-core-web-lg==3.0.0) (3.0.1)\n",
            "Requirement already satisfied: zipp>=0.5 in /usr/local/lib/python3.7/dist-packages (from importlib-metadata>=0.20; python_version < \"3.8\"->spacy<3.1.0,>=3.0.0->en-core-web-lg==3.0.0) (3.4.1)\n",
            "Requirement already satisfied: smart-open<4.0.0,>=2.2.0 in /usr/local/lib/python3.7/dist-packages (from pathy>=0.3.5->spacy<3.1.0,>=3.0.0->en-core-web-lg==3.0.0) (3.0.0)\n",
            "Requirement already satisfied: MarkupSafe>=0.23 in /usr/local/lib/python3.7/dist-packages (from jinja2->spacy<3.1.0,>=3.0.0->en-core-web-lg==3.0.0) (1.1.1)\n",
            "Requirement already satisfied: pyparsing>=2.0.2 in /usr/local/lib/python3.7/dist-packages (from packaging>=20.0->spacy<3.1.0,>=3.0.0->en-core-web-lg==3.0.0) (2.4.7)\n",
            "Requirement already satisfied: click<7.2.0,>=7.1.1 in /usr/local/lib/python3.7/dist-packages (from typer<0.4.0,>=0.3.0->spacy<3.1.0,>=3.0.0->en-core-web-lg==3.0.0) (7.1.2)\n",
            "Requirement already satisfied: idna<3,>=2.5 in /usr/local/lib/python3.7/dist-packages (from requests<3.0.0,>=2.13.0->spacy<3.1.0,>=3.0.0->en-core-web-lg==3.0.0) (2.10)\n",
            "Requirement already satisfied: chardet<4,>=3.0.2 in /usr/local/lib/python3.7/dist-packages (from requests<3.0.0,>=2.13.0->spacy<3.1.0,>=3.0.0->en-core-web-lg==3.0.0) (3.0.4)\n",
            "Requirement already satisfied: certifi>=2017.4.17 in /usr/local/lib/python3.7/dist-packages (from requests<3.0.0,>=2.13.0->spacy<3.1.0,>=3.0.0->en-core-web-lg==3.0.0) (2020.12.5)\n",
            "Requirement already satisfied: urllib3!=1.25.0,!=1.25.1,<1.26,>=1.21.1 in /usr/local/lib/python3.7/dist-packages (from requests<3.0.0,>=2.13.0->spacy<3.1.0,>=3.0.0->en-core-web-lg==3.0.0) (1.24.3)\n",
            "Installing collected packages: en-core-web-lg\n",
            "Successfully installed en-core-web-lg-3.0.0\n",
            "\u001b[38;5;2m✔ Download and installation successful\u001b[0m\n",
            "You can now load the package via spacy.load('en_core_web_lg')\n"
          ],
          "name": "stdout"
        }
      ]
    },
    {
      "cell_type": "code",
      "metadata": {
        "id": "TxE_smT-uRon"
      },
      "source": [
        "import pandas as pd\n",
        "import numpy as np\n",
        "\n",
        "import spacy\n",
        "from spacy.lang.en.stop_words import STOP_WORDS"
      ],
      "execution_count": null,
      "outputs": []
    },
    {
      "cell_type": "code",
      "metadata": {
        "id": "yq_sY0lCuVgX"
      },
      "source": [
        "header_list = [\"paragraph\"]\n",
        "df = pd.read_csv('/content/drive/MyDrive/Internship_Assignments/ROOT2AI/Uttarakhand.csv', names=header_list, converters={'paragraphs': literal_eval})"
      ],
      "execution_count": null,
      "outputs": []
    },
    {
      "cell_type": "code",
      "metadata": {
        "id": "MLM-k3F28pne"
      },
      "source": [
        "df = df.iloc[1:]"
      ],
      "execution_count": null,
      "outputs": []
    },
    {
      "cell_type": "code",
      "metadata": {
        "colab": {
          "base_uri": "https://localhost:8080/",
          "height": 419
        },
        "id": "JaqpWfnq9Q6E",
        "outputId": "3790c2ae-1425-470e-b9f1-28d8ec0c9a99"
      },
      "source": [
        "df"
      ],
      "execution_count": null,
      "outputs": [
        {
          "output_type": "execute_result",
          "data": {
            "text/html": [
              "<div>\n",
              "<style scoped>\n",
              "    .dataframe tbody tr th:only-of-type {\n",
              "        vertical-align: middle;\n",
              "    }\n",
              "\n",
              "    .dataframe tbody tr th {\n",
              "        vertical-align: top;\n",
              "    }\n",
              "\n",
              "    .dataframe thead th {\n",
              "        text-align: right;\n",
              "    }\n",
              "</style>\n",
              "<table border=\"1\" class=\"dataframe\">\n",
              "  <thead>\n",
              "    <tr style=\"text-align: right;\">\n",
              "      <th></th>\n",
              "      <th>paragraph</th>\n",
              "    </tr>\n",
              "  </thead>\n",
              "  <tbody>\n",
              "    <tr>\n",
              "      <th>1</th>\n",
              "      <td>Horrible news out of #Uttarakhand</td>\n",
              "    </tr>\n",
              "    <tr>\n",
              "      <th>2</th>\n",
              "      <td>Prayer for #Uttarakhand 🙏🙏</td>\n",
              "    </tr>\n",
              "    <tr>\n",
              "      <th>3</th>\n",
              "      <td>Ohhh God Please Save #Uttarakhand</td>\n",
              "    </tr>\n",
              "    <tr>\n",
              "      <th>4</th>\n",
              "      <td>Extremely Sad To Hear About The #Uttarakhand G...</td>\n",
              "    </tr>\n",
              "    <tr>\n",
              "      <th>5</th>\n",
              "      <td>Prayers for #Uttarakhand 🙏🙏</td>\n",
              "    </tr>\n",
              "    <tr>\n",
              "      <th>...</th>\n",
              "      <td>...</td>\n",
              "    </tr>\n",
              "    <tr>\n",
              "      <th>8142</th>\n",
              "      <td>😊\\n\\nHope everyone is fine, Prayers 🙏\\n#Uttara...</td>\n",
              "    </tr>\n",
              "    <tr>\n",
              "      <th>8143</th>\n",
              "      <td>What a responsible PM would do in this Situati...</td>\n",
              "    </tr>\n",
              "    <tr>\n",
              "      <th>8144</th>\n",
              "      <td>Scary scenes coming from #Uttarakhand \\n\\nPray...</td>\n",
              "    </tr>\n",
              "    <tr>\n",
              "      <th>8145</th>\n",
              "      <td>ITBP jawans in search and rescue operation in ...</td>\n",
              "    </tr>\n",
              "    <tr>\n",
              "      <th>8146</th>\n",
              "      <td>Sorry guys, I will not be able to tweet today,...</td>\n",
              "    </tr>\n",
              "  </tbody>\n",
              "</table>\n",
              "<p>8146 rows × 1 columns</p>\n",
              "</div>"
            ],
            "text/plain": [
              "                                              paragraph\n",
              "1                     Horrible news out of #Uttarakhand\n",
              "2                            Prayer for #Uttarakhand 🙏🙏\n",
              "3                     Ohhh God Please Save #Uttarakhand\n",
              "4     Extremely Sad To Hear About The #Uttarakhand G...\n",
              "5                           Prayers for #Uttarakhand 🙏🙏\n",
              "...                                                 ...\n",
              "8142  😊\\n\\nHope everyone is fine, Prayers 🙏\\n#Uttara...\n",
              "8143  What a responsible PM would do in this Situati...\n",
              "8144  Scary scenes coming from #Uttarakhand \\n\\nPray...\n",
              "8145  ITBP jawans in search and rescue operation in ...\n",
              "8146  Sorry guys, I will not be able to tweet today,...\n",
              "\n",
              "[8146 rows x 1 columns]"
            ]
          },
          "metadata": {
            "tags": []
          },
          "execution_count": 15
        }
      ]
    },
    {
      "cell_type": "code",
      "metadata": {
        "id": "KVP3tf329RpT"
      },
      "source": [
        "title = []\n",
        "for i in range(1,df.shape[0]+1):\n",
        "  title.append(\"tweet\"+str(i))\n",
        "  #t = globals()['tweet%s' %i]\n",
        "  #title.append(t)"
      ],
      "execution_count": null,
      "outputs": []
    },
    {
      "cell_type": "code",
      "metadata": {
        "colab": {
          "base_uri": "https://localhost:8080/"
        },
        "id": "qinvBXiu9dWc",
        "outputId": "36e28386-cb01-4068-ff43-01328bcc94ef"
      },
      "source": [
        "len(title)"
      ],
      "execution_count": null,
      "outputs": [
        {
          "output_type": "execute_result",
          "data": {
            "text/plain": [
              "8146"
            ]
          },
          "metadata": {
            "tags": []
          },
          "execution_count": 28
        }
      ]
    },
    {
      "cell_type": "code",
      "metadata": {
        "id": "izSI_6uo908S"
      },
      "source": [
        "df['title']=title"
      ],
      "execution_count": null,
      "outputs": []
    },
    {
      "cell_type": "code",
      "metadata": {
        "id": "2f26SzNN_pJl"
      },
      "source": [
        "df = df[['title','paragraph']]"
      ],
      "execution_count": null,
      "outputs": []
    },
    {
      "cell_type": "code",
      "metadata": {
        "colab": {
          "base_uri": "https://localhost:8080/",
          "height": 419
        },
        "id": "oiRQde_T_py9",
        "outputId": "283ad3fe-e437-4485-a0fd-9dab84a199ce"
      },
      "source": [
        "df"
      ],
      "execution_count": null,
      "outputs": [
        {
          "output_type": "execute_result",
          "data": {
            "text/html": [
              "<div>\n",
              "<style scoped>\n",
              "    .dataframe tbody tr th:only-of-type {\n",
              "        vertical-align: middle;\n",
              "    }\n",
              "\n",
              "    .dataframe tbody tr th {\n",
              "        vertical-align: top;\n",
              "    }\n",
              "\n",
              "    .dataframe thead th {\n",
              "        text-align: right;\n",
              "    }\n",
              "</style>\n",
              "<table border=\"1\" class=\"dataframe\">\n",
              "  <thead>\n",
              "    <tr style=\"text-align: right;\">\n",
              "      <th></th>\n",
              "      <th>title</th>\n",
              "      <th>paragraph</th>\n",
              "    </tr>\n",
              "  </thead>\n",
              "  <tbody>\n",
              "    <tr>\n",
              "      <th>1</th>\n",
              "      <td>tweet1</td>\n",
              "      <td>Horrible news out of #Uttarakhand</td>\n",
              "    </tr>\n",
              "    <tr>\n",
              "      <th>2</th>\n",
              "      <td>tweet2</td>\n",
              "      <td>Prayer for #Uttarakhand 🙏🙏</td>\n",
              "    </tr>\n",
              "    <tr>\n",
              "      <th>3</th>\n",
              "      <td>tweet3</td>\n",
              "      <td>Ohhh God Please Save #Uttarakhand</td>\n",
              "    </tr>\n",
              "    <tr>\n",
              "      <th>4</th>\n",
              "      <td>tweet4</td>\n",
              "      <td>Extremely Sad To Hear About The #Uttarakhand G...</td>\n",
              "    </tr>\n",
              "    <tr>\n",
              "      <th>5</th>\n",
              "      <td>tweet5</td>\n",
              "      <td>Prayers for #Uttarakhand 🙏🙏</td>\n",
              "    </tr>\n",
              "    <tr>\n",
              "      <th>...</th>\n",
              "      <td>...</td>\n",
              "      <td>...</td>\n",
              "    </tr>\n",
              "    <tr>\n",
              "      <th>8142</th>\n",
              "      <td>tweet8142</td>\n",
              "      <td>😊\\n\\nHope everyone is fine, Prayers 🙏\\n#Uttara...</td>\n",
              "    </tr>\n",
              "    <tr>\n",
              "      <th>8143</th>\n",
              "      <td>tweet8143</td>\n",
              "      <td>What a responsible PM would do in this Situati...</td>\n",
              "    </tr>\n",
              "    <tr>\n",
              "      <th>8144</th>\n",
              "      <td>tweet8144</td>\n",
              "      <td>Scary scenes coming from #Uttarakhand \\n\\nPray...</td>\n",
              "    </tr>\n",
              "    <tr>\n",
              "      <th>8145</th>\n",
              "      <td>tweet8145</td>\n",
              "      <td>ITBP jawans in search and rescue operation in ...</td>\n",
              "    </tr>\n",
              "    <tr>\n",
              "      <th>8146</th>\n",
              "      <td>tweet8146</td>\n",
              "      <td>Sorry guys, I will not be able to tweet today,...</td>\n",
              "    </tr>\n",
              "  </tbody>\n",
              "</table>\n",
              "<p>8146 rows × 2 columns</p>\n",
              "</div>"
            ],
            "text/plain": [
              "          title                                          paragraph\n",
              "1        tweet1                  Horrible news out of #Uttarakhand\n",
              "2        tweet2                         Prayer for #Uttarakhand 🙏🙏\n",
              "3        tweet3                  Ohhh God Please Save #Uttarakhand\n",
              "4        tweet4  Extremely Sad To Hear About The #Uttarakhand G...\n",
              "5        tweet5                        Prayers for #Uttarakhand 🙏🙏\n",
              "...         ...                                                ...\n",
              "8142  tweet8142  😊\\n\\nHope everyone is fine, Prayers 🙏\\n#Uttara...\n",
              "8143  tweet8143  What a responsible PM would do in this Situati...\n",
              "8144  tweet8144  Scary scenes coming from #Uttarakhand \\n\\nPray...\n",
              "8145  tweet8145  ITBP jawans in search and rescue operation in ...\n",
              "8146  tweet8146  Sorry guys, I will not be able to tweet today,...\n",
              "\n",
              "[8146 rows x 2 columns]"
            ]
          },
          "metadata": {
            "tags": []
          },
          "execution_count": 33
        }
      ]
    },
    {
      "cell_type": "code",
      "metadata": {
        "colab": {
          "base_uri": "https://localhost:8080/",
          "height": 1000
        },
        "id": "i3NFAEg8_yM7",
        "outputId": "2e8b6719-e86a-4c87-a617-a6d2b0be3b9d"
      },
      "source": [
        "!pip install cdqa"
      ],
      "execution_count": null,
      "outputs": [
        {
          "output_type": "stream",
          "text": [
            "Collecting cdqa\n",
            "\u001b[?25l  Downloading https://files.pythonhosted.org/packages/39/f5/af831b7ee653aa6bace99e39ec6b2754b1adb10bb60a1296f5e16f1f24ee/cdqa-1.3.9.tar.gz (45kB)\n",
            "\u001b[K     |████████████████████████████████| 51kB 4.1MB/s \n",
            "\u001b[?25hCollecting Flask==1.1.1\n",
            "\u001b[?25l  Downloading https://files.pythonhosted.org/packages/9b/93/628509b8d5dc749656a9641f4caf13540e2cdec85276964ff8f43bbb1d3b/Flask-1.1.1-py2.py3-none-any.whl (94kB)\n",
            "\u001b[K     |████████████████████████████████| 102kB 7.4MB/s \n",
            "\u001b[?25hCollecting flask_cors==3.0.8\n",
            "  Downloading https://files.pythonhosted.org/packages/78/38/e68b11daa5d613e3a91e4bf3da76c94ac9ee0d9cd515af9c1ab80d36f709/Flask_Cors-3.0.8-py2.py3-none-any.whl\n",
            "Collecting joblib==0.13.2\n",
            "\u001b[?25l  Downloading https://files.pythonhosted.org/packages/cd/c1/50a758e8247561e58cb87305b1e90b171b8c767b15b12a1734001f41d356/joblib-0.13.2-py2.py3-none-any.whl (278kB)\n",
            "\u001b[K     |████████████████████████████████| 286kB 10.1MB/s \n",
            "\u001b[?25hCollecting pandas==0.25.0\n",
            "\u001b[?25l  Downloading https://files.pythonhosted.org/packages/3b/42/dc1f4820b95fbdbc9352ec9ad0f0c40db2122e1f2440ea53c7f9fbccf2b8/pandas-0.25.0-cp37-cp37m-manylinux1_x86_64.whl (10.4MB)\n",
            "\u001b[K     |████████████████████████████████| 10.4MB 12.8MB/s \n",
            "\u001b[?25hCollecting prettytable==0.7.2\n",
            "  Downloading https://files.pythonhosted.org/packages/ef/30/4b0746848746ed5941f052479e7c23d2b56d174b82f4fd34a25e389831f5/prettytable-0.7.2.tar.bz2\n",
            "Collecting transformers==2.1.1\n",
            "\u001b[?25l  Downloading https://files.pythonhosted.org/packages/fd/f9/51824e40f0a23a49eab4fcaa45c1c797cbf9761adedd0b558dab7c958b34/transformers-2.1.1-py3-none-any.whl (311kB)\n",
            "\u001b[K     |████████████████████████████████| 317kB 37.5MB/s \n",
            "\u001b[?25hCollecting scikit_learn==0.21.2\n",
            "\u001b[?25l  Downloading https://files.pythonhosted.org/packages/21/a4/a48bd4b0d15395362b561df7e7247de87291105eb736a3b2aaffebf437b9/scikit_learn-0.21.2-cp37-cp37m-manylinux1_x86_64.whl (6.7MB)\n",
            "\u001b[K     |████████████████████████████████| 6.7MB 22.5MB/s \n",
            "\u001b[?25hCollecting tika==1.19\n",
            "  Downloading https://files.pythonhosted.org/packages/10/75/b566e446ffcf292f10c8d84c15a3d91615fe3d7ca8072a17c949d4e84b66/tika-1.19.tar.gz\n",
            "Collecting torch==1.2.0\n",
            "\u001b[?25l  Downloading https://files.pythonhosted.org/packages/05/65/5248be50c55ab7429dd5c11f5e2f9f5865606b80e854ca63139ad1a584f2/torch-1.2.0-cp37-cp37m-manylinux1_x86_64.whl (748.9MB)\n",
            "\u001b[K     |████████████████████████████████| 748.9MB 25kB/s \n",
            "\u001b[?25hCollecting markdown==3.1.1\n",
            "\u001b[?25l  Downloading https://files.pythonhosted.org/packages/c0/4e/fd492e91abdc2d2fcb70ef453064d980688762079397f779758e055f6575/Markdown-3.1.1-py2.py3-none-any.whl (87kB)\n",
            "\u001b[K     |████████████████████████████████| 92kB 6.8MB/s \n",
            "\u001b[?25hCollecting tqdm==4.32.2\n",
            "\u001b[?25l  Downloading https://files.pythonhosted.org/packages/9f/3d/7a6b68b631d2ab54975f3a4863f3c4e9b26445353264ef01f465dc9b0208/tqdm-4.32.2-py2.py3-none-any.whl (50kB)\n",
            "\u001b[K     |████████████████████████████████| 51kB 5.8MB/s \n",
            "\u001b[?25hCollecting wget==3.2\n",
            "  Downloading https://files.pythonhosted.org/packages/47/6a/62e288da7bcda82b935ff0c6cfe542970f04e29c756b0e147251b2fb251f/wget-3.2.zip\n",
            "Requirement already satisfied: click>=5.1 in /usr/local/lib/python3.7/dist-packages (from Flask==1.1.1->cdqa) (7.1.2)\n",
            "Requirement already satisfied: Jinja2>=2.10.1 in /usr/local/lib/python3.7/dist-packages (from Flask==1.1.1->cdqa) (2.11.3)\n",
            "Requirement already satisfied: itsdangerous>=0.24 in /usr/local/lib/python3.7/dist-packages (from Flask==1.1.1->cdqa) (1.1.0)\n",
            "Requirement already satisfied: Werkzeug>=0.15 in /usr/local/lib/python3.7/dist-packages (from Flask==1.1.1->cdqa) (1.0.1)\n",
            "Requirement already satisfied: Six in /usr/local/lib/python3.7/dist-packages (from flask_cors==3.0.8->cdqa) (1.15.0)\n",
            "Requirement already satisfied: numpy>=1.13.3 in /usr/local/lib/python3.7/dist-packages (from pandas==0.25.0->cdqa) (1.19.5)\n",
            "Requirement already satisfied: pytz>=2017.2 in /usr/local/lib/python3.7/dist-packages (from pandas==0.25.0->cdqa) (2018.9)\n",
            "Requirement already satisfied: python-dateutil>=2.6.1 in /usr/local/lib/python3.7/dist-packages (from pandas==0.25.0->cdqa) (2.8.1)\n",
            "Requirement already satisfied: regex in /usr/local/lib/python3.7/dist-packages (from transformers==2.1.1->cdqa) (2019.12.20)\n",
            "Requirement already satisfied: requests in /usr/local/lib/python3.7/dist-packages (from transformers==2.1.1->cdqa) (2.23.0)\n",
            "Collecting sentencepiece\n",
            "\u001b[?25l  Downloading https://files.pythonhosted.org/packages/f5/99/e0808cb947ba10f575839c43e8fafc9cc44e4a7a2c8f79c60db48220a577/sentencepiece-0.1.95-cp37-cp37m-manylinux2014_x86_64.whl (1.2MB)\n",
            "\u001b[K     |████████████████████████████████| 1.2MB 37.9MB/s \n",
            "\u001b[?25hCollecting sacremoses\n",
            "\u001b[?25l  Downloading https://files.pythonhosted.org/packages/7d/34/09d19aff26edcc8eb2a01bed8e98f13a1537005d31e95233fd48216eed10/sacremoses-0.0.43.tar.gz (883kB)\n",
            "\u001b[K     |████████████████████████████████| 890kB 34.5MB/s \n",
            "\u001b[?25hCollecting boto3\n",
            "\u001b[?25l  Downloading https://files.pythonhosted.org/packages/30/6d/1c43d87bfff9e7afb5130629dfb7d57617245eeb4a474bf77f45d637c3a6/boto3-1.17.33-py2.py3-none-any.whl (131kB)\n",
            "\u001b[K     |████████████████████████████████| 133kB 41.6MB/s \n",
            "\u001b[?25hRequirement already satisfied: scipy>=0.17.0 in /usr/local/lib/python3.7/dist-packages (from scikit_learn==0.21.2->cdqa) (1.4.1)\n",
            "Requirement already satisfied: setuptools in /usr/local/lib/python3.7/dist-packages (from tika==1.19->cdqa) (54.1.2)\n",
            "Requirement already satisfied: MarkupSafe>=0.23 in /usr/local/lib/python3.7/dist-packages (from Jinja2>=2.10.1->Flask==1.1.1->cdqa) (1.1.1)\n",
            "Requirement already satisfied: certifi>=2017.4.17 in /usr/local/lib/python3.7/dist-packages (from requests->transformers==2.1.1->cdqa) (2020.12.5)\n",
            "Requirement already satisfied: idna<3,>=2.5 in /usr/local/lib/python3.7/dist-packages (from requests->transformers==2.1.1->cdqa) (2.10)\n",
            "Requirement already satisfied: urllib3!=1.25.0,!=1.25.1,<1.26,>=1.21.1 in /usr/local/lib/python3.7/dist-packages (from requests->transformers==2.1.1->cdqa) (1.24.3)\n",
            "Requirement already satisfied: chardet<4,>=3.0.2 in /usr/local/lib/python3.7/dist-packages (from requests->transformers==2.1.1->cdqa) (3.0.4)\n",
            "Collecting jmespath<1.0.0,>=0.7.1\n",
            "  Downloading https://files.pythonhosted.org/packages/07/cb/5f001272b6faeb23c1c9e0acc04d48eaaf5c862c17709d20e3469c6e0139/jmespath-0.10.0-py2.py3-none-any.whl\n",
            "Collecting botocore<1.21.0,>=1.20.33\n",
            "\u001b[?25l  Downloading https://files.pythonhosted.org/packages/dd/1c/f922d7fa47cdd6a18c7470252e86f7c4d24e85cb3cdff09486675df3769c/botocore-1.20.33-py2.py3-none-any.whl (7.3MB)\n",
            "\u001b[K     |████████████████████████████████| 7.3MB 32.6MB/s \n",
            "\u001b[?25hCollecting s3transfer<0.4.0,>=0.3.0\n",
            "\u001b[?25l  Downloading https://files.pythonhosted.org/packages/98/14/0b4be62b65c52d6d1c442f24e02d2a9889a73d3c352002e14c70f84a679f/s3transfer-0.3.6-py2.py3-none-any.whl (73kB)\n",
            "\u001b[K     |████████████████████████████████| 81kB 9.7MB/s \n",
            "\u001b[?25hBuilding wheels for collected packages: cdqa, prettytable, tika, wget, sacremoses\n",
            "  Building wheel for cdqa (setup.py) ... \u001b[?25l\u001b[?25hdone\n",
            "  Created wheel for cdqa: filename=cdqa-1.3.9-cp37-none-any.whl size=47640 sha256=a9cab9ed141b67433023c3533fba7adad394eb21151bba94218ab97deb835f1b\n",
            "  Stored in directory: /root/.cache/pip/wheels/8b/9a/68/d3f7651ea29c30d1bebc9e946bf5a8cf922e1c86fb6b8a33d9\n",
            "  Building wheel for prettytable (setup.py) ... \u001b[?25l\u001b[?25hdone\n",
            "  Created wheel for prettytable: filename=prettytable-0.7.2-cp37-none-any.whl size=13700 sha256=6f9fa465bf966741353b22e13087057514e1b7db562ef458cd29dac099e99433\n",
            "  Stored in directory: /root/.cache/pip/wheels/80/34/1c/3967380d9676d162cb59513bd9dc862d0584e045a162095606\n",
            "  Building wheel for tika (setup.py) ... \u001b[?25l\u001b[?25hdone\n",
            "  Created wheel for tika: filename=tika-1.19-cp37-none-any.whl size=29224 sha256=618a10759eb347c4403ae1bf9244697c26a152000cd07724eee3cc254b2a21da\n",
            "  Stored in directory: /root/.cache/pip/wheels/b4/db/8a/3a3f0c0725448eaa92703e3dda71e29dc13a119ff6c1036848\n",
            "  Building wheel for wget (setup.py) ... \u001b[?25l\u001b[?25hdone\n",
            "  Created wheel for wget: filename=wget-3.2-cp37-none-any.whl size=9681 sha256=9432cbb202ace8ca605514e9a7fc7684a6b89bd898195c080713681b4bf139b2\n",
            "  Stored in directory: /root/.cache/pip/wheels/40/15/30/7d8f7cea2902b4db79e3fea550d7d7b85ecb27ef992b618f3f\n",
            "  Building wheel for sacremoses (setup.py) ... \u001b[?25l\u001b[?25hdone\n",
            "  Created wheel for sacremoses: filename=sacremoses-0.0.43-cp37-none-any.whl size=893262 sha256=78fe2e5983fe4869b9bf24d9bc887ae4259492caceea6e8fb3652be66608753f\n",
            "  Stored in directory: /root/.cache/pip/wheels/29/3c/fd/7ce5c3f0666dab31a50123635e6fb5e19ceb42ce38d4e58f45\n",
            "Successfully built cdqa prettytable tika wget sacremoses\n",
            "\u001b[31mERROR: umap-learn 0.5.1 has requirement scikit-learn>=0.22, but you'll have scikit-learn 0.21.2 which is incompatible.\u001b[0m\n",
            "\u001b[31mERROR: torchvision 0.9.0+cu101 has requirement torch==1.8.0, but you'll have torch 1.2.0 which is incompatible.\u001b[0m\n",
            "\u001b[31mERROR: torchtext 0.9.0 has requirement torch==1.8.0, but you'll have torch 1.2.0 which is incompatible.\u001b[0m\n",
            "\u001b[31mERROR: spacy 2.2.4 has requirement tqdm<5.0.0,>=4.38.0, but you'll have tqdm 4.32.2 which is incompatible.\u001b[0m\n",
            "\u001b[31mERROR: librosa 0.8.0 has requirement joblib>=0.14, but you'll have joblib 0.13.2 which is incompatible.\u001b[0m\n",
            "\u001b[31mERROR: google-colab 1.0.0 has requirement pandas~=1.1.0; python_version >= \"3.0\", but you'll have pandas 0.25.0 which is incompatible.\u001b[0m\n",
            "\u001b[31mERROR: fbprophet 0.7.1 has requirement pandas>=1.0.4, but you'll have pandas 0.25.0 which is incompatible.\u001b[0m\n",
            "\u001b[31mERROR: fbprophet 0.7.1 has requirement tqdm>=4.36.1, but you'll have tqdm 4.32.2 which is incompatible.\u001b[0m\n",
            "\u001b[31mERROR: botocore 1.20.33 has requirement urllib3<1.27,>=1.25.4, but you'll have urllib3 1.24.3 which is incompatible.\u001b[0m\n",
            "Installing collected packages: Flask, flask-cors, joblib, pandas, prettytable, sentencepiece, tqdm, sacremoses, jmespath, botocore, s3transfer, boto3, transformers, scikit-learn, tika, torch, markdown, wget, cdqa\n",
            "  Found existing installation: Flask 1.1.2\n",
            "    Uninstalling Flask-1.1.2:\n",
            "      Successfully uninstalled Flask-1.1.2\n",
            "  Found existing installation: joblib 1.0.1\n",
            "    Uninstalling joblib-1.0.1:\n",
            "      Successfully uninstalled joblib-1.0.1\n",
            "  Found existing installation: pandas 1.1.5\n",
            "    Uninstalling pandas-1.1.5:\n",
            "      Successfully uninstalled pandas-1.1.5\n",
            "  Found existing installation: prettytable 2.1.0\n",
            "    Uninstalling prettytable-2.1.0:\n",
            "      Successfully uninstalled prettytable-2.1.0\n",
            "  Found existing installation: tqdm 4.41.1\n",
            "    Uninstalling tqdm-4.41.1:\n",
            "      Successfully uninstalled tqdm-4.41.1\n",
            "  Found existing installation: scikit-learn 0.22.2.post1\n",
            "    Uninstalling scikit-learn-0.22.2.post1:\n",
            "      Successfully uninstalled scikit-learn-0.22.2.post1\n",
            "  Found existing installation: torch 1.8.0+cu101\n",
            "    Uninstalling torch-1.8.0+cu101:\n",
            "      Successfully uninstalled torch-1.8.0+cu101\n",
            "  Found existing installation: Markdown 3.3.4\n",
            "    Uninstalling Markdown-3.3.4:\n",
            "      Successfully uninstalled Markdown-3.3.4\n",
            "Successfully installed Flask-1.1.1 boto3-1.17.33 botocore-1.20.33 cdqa-1.3.9 flask-cors-3.0.8 jmespath-0.10.0 joblib-0.13.2 markdown-3.1.1 pandas-0.25.0 prettytable-0.7.2 s3transfer-0.3.6 sacremoses-0.0.43 scikit-learn-0.21.2 sentencepiece-0.1.95 tika-1.19 torch-1.2.0 tqdm-4.32.2 transformers-2.1.1 wget-3.2\n"
          ],
          "name": "stdout"
        },
        {
          "output_type": "display_data",
          "data": {
            "application/vnd.colab-display-data+json": {
              "pip_warning": {
                "packages": [
                  "pandas",
                  "tqdm"
                ]
              }
            }
          },
          "metadata": {
            "tags": []
          }
        }
      ]
    },
    {
      "cell_type": "code",
      "metadata": {
        "id": "ZbI8T6ErASvT"
      },
      "source": [
        "import os\n",
        "import pandas as pd\n",
        "from ast import literal_eval\n",
        "from cdqa.pipeline import QAPipeline\n",
        "from cdqa.utils.download import download_model\n",
        "\n",
        "import pandas as pd\n",
        "import numpy as np\n",
        "\n",
        "import spacy\n",
        "from spacy.lang.en.stop_words import STOP_WORDS"
      ],
      "execution_count": null,
      "outputs": []
    },
    {
      "cell_type": "code",
      "metadata": {
        "colab": {
          "base_uri": "https://localhost:8080/"
        },
        "id": "wSbP1rl9BLHn",
        "outputId": "d6aefdc9-dc5e-4572-8a7f-f880029106d9"
      },
      "source": [
        "download_model('bert-squad_1.1', dir='./models')"
      ],
      "execution_count": null,
      "outputs": [
        {
          "output_type": "stream",
          "text": [
            "\n",
            "Downloading trained model...\n"
          ],
          "name": "stdout"
        }
      ]
    },
    {
      "cell_type": "code",
      "metadata": {
        "id": "8o-CTnUBB6ao"
      },
      "source": [
        "header_list = [\"paragraphs\"]\n",
        "df_test = pd.read_csv('/content/drive/MyDrive/Internship_Assignments/ROOT2AI/Uttarakhand.csv', converters={'paragraphs': literal_eval})"
      ],
      "execution_count": null,
      "outputs": []
    },
    {
      "cell_type": "code",
      "metadata": {
        "colab": {
          "base_uri": "https://localhost:8080/",
          "height": 1000
        },
        "id": "j2ocDli7NeYU",
        "outputId": "51cb9622-0cae-4619-a222-51cf713d7a4e"
      },
      "source": [
        "df_test"
      ],
      "execution_count": null,
      "outputs": [
        {
          "output_type": "execute_result",
          "data": {
            "text/html": [
              "<div>\n",
              "<style scoped>\n",
              "    .dataframe tbody tr th:only-of-type {\n",
              "        vertical-align: middle;\n",
              "    }\n",
              "\n",
              "    .dataframe tbody tr th {\n",
              "        vertical-align: top;\n",
              "    }\n",
              "\n",
              "    .dataframe thead th {\n",
              "        text-align: right;\n",
              "    }\n",
              "</style>\n",
              "<table border=\"1\" class=\"dataframe\">\n",
              "  <thead>\n",
              "    <tr style=\"text-align: right;\">\n",
              "      <th></th>\n",
              "      <th>tweet</th>\n",
              "    </tr>\n",
              "  </thead>\n",
              "  <tbody>\n",
              "    <tr>\n",
              "      <th>0</th>\n",
              "      <td>Horrible news out of #Uttarakhand</td>\n",
              "    </tr>\n",
              "    <tr>\n",
              "      <th>1</th>\n",
              "      <td>Prayer for #Uttarakhand 🙏🙏</td>\n",
              "    </tr>\n",
              "    <tr>\n",
              "      <th>2</th>\n",
              "      <td>Ohhh God Please Save #Uttarakhand</td>\n",
              "    </tr>\n",
              "    <tr>\n",
              "      <th>3</th>\n",
              "      <td>Extremely Sad To Hear About The #Uttarakhand G...</td>\n",
              "    </tr>\n",
              "    <tr>\n",
              "      <th>4</th>\n",
              "      <td>Prayers for #Uttarakhand 🙏🙏</td>\n",
              "    </tr>\n",
              "    <tr>\n",
              "      <th>5</th>\n",
              "      <td>Prayer for #Uttarakhand.\\n🙏🙏</td>\n",
              "    </tr>\n",
              "    <tr>\n",
              "      <th>6</th>\n",
              "      <td>ALERT 🚨 #Uttarakhand \\n\\nEmergency 🆘 numbers 1...</td>\n",
              "    </tr>\n",
              "    <tr>\n",
              "      <th>7</th>\n",
              "      <td>Heavy Devastation Due To Glacier breakage in C...</td>\n",
              "    </tr>\n",
              "    <tr>\n",
              "      <th>8</th>\n",
              "      <td>I wish everyone stay safe in  Uttarakhand duri...</td>\n",
              "    </tr>\n",
              "    <tr>\n",
              "      <th>9</th>\n",
              "      <td>O Lord Shiva please save #Uttarakhand !</td>\n",
              "    </tr>\n",
              "    <tr>\n",
              "      <th>10</th>\n",
              "      <td>Distressing to hear about the glacier breaking...</td>\n",
              "    </tr>\n",
              "    <tr>\n",
              "      <th>11</th>\n",
              "      <td>#Uttarakhand tragic events unfolding .. https:...</td>\n",
              "    </tr>\n",
              "    <tr>\n",
              "      <th>12</th>\n",
              "      <td>Praying for safety of all #Uttarakhand 🙏</td>\n",
              "    </tr>\n",
              "    <tr>\n",
              "      <th>13</th>\n",
              "      <td>What's happening ? This is so scary.. My praye...</td>\n",
              "    </tr>\n",
              "    <tr>\n",
              "      <th>14</th>\n",
              "      <td>Pray for #Uttarakhand 🙏</td>\n",
              "    </tr>\n",
              "    <tr>\n",
              "      <th>15</th>\n",
              "      <td>Pray for the Uttarakhand \\n#Uttarakhand</td>\n",
              "    </tr>\n",
              "    <tr>\n",
              "      <th>16</th>\n",
              "      <td>This is so sad news pray for labors\\n\\n#Uttara...</td>\n",
              "    </tr>\n",
              "    <tr>\n",
              "      <th>17</th>\n",
              "      <td>@kktotlani Prayers for #Uttarakhand 🙏🏻</td>\n",
              "    </tr>\n",
              "    <tr>\n",
              "      <th>18</th>\n",
              "      <td>Pray for #Uttarakhand people that have mahadev</td>\n",
              "    </tr>\n",
              "    <tr>\n",
              "      <th>19</th>\n",
              "      <td>Prayering for lives there at devbhumi #Uttarak...</td>\n",
              "    </tr>\n",
              "    <tr>\n",
              "      <th>20</th>\n",
              "      <td>Scary news coming from #Uttarakhand \\n\\nPrayin...</td>\n",
              "    </tr>\n",
              "    <tr>\n",
              "      <th>21</th>\n",
              "      <td>Scary visuals\\n#Uttarakhand \\n#Haridwar\\nhttps...</td>\n",
              "    </tr>\n",
              "    <tr>\n",
              "      <th>22</th>\n",
              "      <td>@ANI Such a horrific tragedy in #Uttarakhand a...</td>\n",
              "    </tr>\n",
              "    <tr>\n",
              "      <th>23</th>\n",
              "      <td>We pray for the people who are affected in thi...</td>\n",
              "    </tr>\n",
              "    <tr>\n",
              "      <th>24</th>\n",
              "      <td>God bless #Uttarakhand</td>\n",
              "    </tr>\n",
              "    <tr>\n",
              "      <th>25</th>\n",
              "      <td>🙏Pray for #Uttarakhand</td>\n",
              "    </tr>\n",
              "    <tr>\n",
              "      <th>26</th>\n",
              "      <td>Floods in Uttarakhand due to Glacial burst is ...</td>\n",
              "    </tr>\n",
              "    <tr>\n",
              "      <th>27</th>\n",
              "      <td>Prayers for #Uttarakhand 🙏\\nMy State #Uttarakhand</td>\n",
              "    </tr>\n",
              "    <tr>\n",
              "      <th>28</th>\n",
              "      <td>Respected indians \\nLet pray for the  people a...</td>\n",
              "    </tr>\n",
              "    <tr>\n",
              "      <th>29</th>\n",
              "      <td>Let's pray for Uttarakhand. 🙏🙏 Eventually it w...</td>\n",
              "    </tr>\n",
              "    <tr>\n",
              "      <th>...</th>\n",
              "      <td>...</td>\n",
              "    </tr>\n",
              "    <tr>\n",
              "      <th>8116</th>\n",
              "      <td>Terrible news . \\nPrayers with people of #Utta...</td>\n",
              "    </tr>\n",
              "    <tr>\n",
              "      <th>8117</th>\n",
              "      <td>Prayers for \\n#Uttarakhand. \\nHare Krishna 🙏</td>\n",
              "    </tr>\n",
              "    <tr>\n",
              "      <th>8118</th>\n",
              "      <td>If you thought #ClimateCrisis is only for fore...</td>\n",
              "    </tr>\n",
              "    <tr>\n",
              "      <th>8119</th>\n",
              "      <td>.@ITBP_official personnel rescuing labourers w...</td>\n",
              "    </tr>\n",
              "    <tr>\n",
              "      <th>8120</th>\n",
              "      <td>Prayers for #Uttarakhand \\n🙏🙏</td>\n",
              "    </tr>\n",
              "    <tr>\n",
              "      <th>8121</th>\n",
              "      <td>Prayers for #Uttarakhand People\\n\\nGod Please ...</td>\n",
              "    </tr>\n",
              "    <tr>\n",
              "      <th>8122</th>\n",
              "      <td>In my view , \\n\\nAn Eye for Eye or Hand for Ha...</td>\n",
              "    </tr>\n",
              "    <tr>\n",
              "      <th>8123</th>\n",
              "      <td>@vijaita @ITBP_official Praying for the well b...</td>\n",
              "    </tr>\n",
              "    <tr>\n",
              "      <th>8124</th>\n",
              "      <td>Such a big disaster has come in #Uttarakhand a...</td>\n",
              "    </tr>\n",
              "    <tr>\n",
              "      <th>8125</th>\n",
              "      <td>#Chamoli News is so sad. Lets pray for All and...</td>\n",
              "    </tr>\n",
              "    <tr>\n",
              "      <th>8126</th>\n",
              "      <td>Every calamity sends a wave of pain that is fe...</td>\n",
              "    </tr>\n",
              "    <tr>\n",
              "      <th>8127</th>\n",
              "      <td>Tapovan hydro project damaged by Uttarakhand g...</td>\n",
              "    </tr>\n",
              "    <tr>\n",
              "      <th>8128</th>\n",
              "      <td>🔸#Uttarakhand #GlacierBurst Update\\n🔸@NDRFHQ t...</td>\n",
              "    </tr>\n",
              "    <tr>\n",
              "      <th>8129</th>\n",
              "      <td>My prayers are with the people of #Uttarakhand...</td>\n",
              "    </tr>\n",
              "    <tr>\n",
              "      <th>8130</th>\n",
              "      <td>ITBP the real Himveer or India proud of you #h...</td>\n",
              "    </tr>\n",
              "    <tr>\n",
              "      <th>8131</th>\n",
              "      <td>The Happiness of being alive 😍😍👏🏼👏🏼..\\n\\n#Utta...</td>\n",
              "    </tr>\n",
              "    <tr>\n",
              "      <th>8132</th>\n",
              "      <td>Prayers for #Uttarakhand. \\nStay strong Stay s...</td>\n",
              "    </tr>\n",
              "    <tr>\n",
              "      <th>8133</th>\n",
              "      <td>May all be safe #Uttarakhand #Chamoli</td>\n",
              "    </tr>\n",
              "    <tr>\n",
              "      <th>8134</th>\n",
              "      <td>My prayers for the people of  #Uttarakhand 🙏 h...</td>\n",
              "    </tr>\n",
              "    <tr>\n",
              "      <th>8135</th>\n",
              "      <td>#Uttarakhand #UttarakhandDisaster #Uttarakhand...</td>\n",
              "    </tr>\n",
              "    <tr>\n",
              "      <th>8136</th>\n",
              "      <td>Rescue operations are on full swing in Chamoli...</td>\n",
              "    </tr>\n",
              "    <tr>\n",
              "      <th>8137</th>\n",
              "      <td>We bow to our brave Jawans of ITBP and NDRF fo...</td>\n",
              "    </tr>\n",
              "    <tr>\n",
              "      <th>8138</th>\n",
              "      <td>Prayers for Devbhoomi \\n\\n#Chamoli  #Uttarakhand</td>\n",
              "    </tr>\n",
              "    <tr>\n",
              "      <th>8139</th>\n",
              "      <td>#GodMorningSunday\\nSupreme Saint Rampal Ji Mah...</td>\n",
              "    </tr>\n",
              "    <tr>\n",
              "      <th>8140</th>\n",
              "      <td>May the God force be with you #Uttarakhand</td>\n",
              "    </tr>\n",
              "    <tr>\n",
              "      <th>8141</th>\n",
              "      <td>😊\\n\\nHope everyone is fine, Prayers 🙏\\n#Uttara...</td>\n",
              "    </tr>\n",
              "    <tr>\n",
              "      <th>8142</th>\n",
              "      <td>What a responsible PM would do in this Situati...</td>\n",
              "    </tr>\n",
              "    <tr>\n",
              "      <th>8143</th>\n",
              "      <td>Scary scenes coming from #Uttarakhand \\n\\nPray...</td>\n",
              "    </tr>\n",
              "    <tr>\n",
              "      <th>8144</th>\n",
              "      <td>ITBP jawans in search and rescue operation in ...</td>\n",
              "    </tr>\n",
              "    <tr>\n",
              "      <th>8145</th>\n",
              "      <td>Sorry guys, I will not be able to tweet today,...</td>\n",
              "    </tr>\n",
              "  </tbody>\n",
              "</table>\n",
              "<p>8146 rows × 1 columns</p>\n",
              "</div>"
            ],
            "text/plain": [
              "                                                  tweet\n",
              "0                     Horrible news out of #Uttarakhand\n",
              "1                            Prayer for #Uttarakhand 🙏🙏\n",
              "2                     Ohhh God Please Save #Uttarakhand\n",
              "3     Extremely Sad To Hear About The #Uttarakhand G...\n",
              "4                           Prayers for #Uttarakhand 🙏🙏\n",
              "...                                                 ...\n",
              "8141  😊\\n\\nHope everyone is fine, Prayers 🙏\\n#Uttara...\n",
              "8142  What a responsible PM would do in this Situati...\n",
              "8143  Scary scenes coming from #Uttarakhand \\n\\nPray...\n",
              "8144  ITBP jawans in search and rescue operation in ...\n",
              "8145  Sorry guys, I will not be able to tweet today,...\n",
              "\n",
              "[8146 rows x 1 columns]"
            ]
          },
          "metadata": {
            "tags": []
          },
          "execution_count": 143
        }
      ]
    },
    {
      "cell_type": "code",
      "metadata": {
        "id": "fXFXG_NdXhLm"
      },
      "source": [
        "li=[]\n",
        "st = \"Horrible in Utta\"\n",
        "li.append(st)"
      ],
      "execution_count": null,
      "outputs": []
    },
    {
      "cell_type": "code",
      "metadata": {
        "colab": {
          "base_uri": "https://localhost:8080/"
        },
        "id": "Uv9qYiwhb_Nl",
        "outputId": "b8733be6-e343-4a45-aed7-f6adae1d8e11"
      },
      "source": [
        "li"
      ],
      "execution_count": null,
      "outputs": [
        {
          "output_type": "execute_result",
          "data": {
            "text/plain": [
              "['Horrible in Utta']"
            ]
          },
          "metadata": {
            "tags": []
          },
          "execution_count": 147
        }
      ]
    },
    {
      "cell_type": "code",
      "metadata": {
        "colab": {
          "base_uri": "https://localhost:8080/",
          "height": 272
        },
        "id": "FFuZVCMWfNUl",
        "outputId": "f292c313-37e1-4430-b054-b355bc9e3c5f"
      },
      "source": [
        "df_test['tweet'] = df_test['tweet'].replace(lambda x:{x:[x]}))"
      ],
      "execution_count": null,
      "outputs": [
        {
          "output_type": "error",
          "ename": "TypeError",
          "evalue": "ignored",
          "traceback": [
            "\u001b[0;31m---------------------------------------------------------------------------\u001b[0m",
            "\u001b[0;31mTypeError\u001b[0m                                 Traceback (most recent call last)",
            "\u001b[0;32m<ipython-input-156-0afc99486c94>\u001b[0m in \u001b[0;36m<module>\u001b[0;34m()\u001b[0m\n\u001b[0;32m----> 1\u001b[0;31m \u001b[0mdf_test\u001b[0m\u001b[0;34m[\u001b[0m\u001b[0;34m'tweet'\u001b[0m\u001b[0;34m]\u001b[0m \u001b[0;34m=\u001b[0m \u001b[0mdf_test\u001b[0m\u001b[0;34m[\u001b[0m\u001b[0;34m'tweet'\u001b[0m\u001b[0;34m]\u001b[0m\u001b[0;34m.\u001b[0m\u001b[0mapply\u001b[0m\u001b[0;34m(\u001b[0m\u001b[0;32mlambda\u001b[0m \u001b[0mx\u001b[0m\u001b[0;34m:\u001b[0m \u001b[0mx\u001b[0m\u001b[0;34m.\u001b[0m\u001b[0mreplace\u001b[0m\u001b[0;34m(\u001b[0m\u001b[0;34m{\u001b[0m\u001b[0mx\u001b[0m\u001b[0;34m:\u001b[0m\u001b[0;34m[\u001b[0m\u001b[0mx\u001b[0m\u001b[0;34m]\u001b[0m\u001b[0;34m}\u001b[0m\u001b[0;34m)\u001b[0m\u001b[0;34m)\u001b[0m\u001b[0;34m\u001b[0m\u001b[0;34m\u001b[0m\u001b[0m\n\u001b[0m",
            "\u001b[0;32m/usr/local/lib/python3.7/dist-packages/pandas/core/series.py\u001b[0m in \u001b[0;36mapply\u001b[0;34m(self, func, convert_dtype, args, **kwds)\u001b[0m\n\u001b[1;32m   4036\u001b[0m             \u001b[0;32melse\u001b[0m\u001b[0;34m:\u001b[0m\u001b[0;34m\u001b[0m\u001b[0;34m\u001b[0m\u001b[0m\n\u001b[1;32m   4037\u001b[0m                 \u001b[0mvalues\u001b[0m \u001b[0;34m=\u001b[0m \u001b[0mself\u001b[0m\u001b[0;34m.\u001b[0m\u001b[0mastype\u001b[0m\u001b[0;34m(\u001b[0m\u001b[0mobject\u001b[0m\u001b[0;34m)\u001b[0m\u001b[0;34m.\u001b[0m\u001b[0mvalues\u001b[0m\u001b[0;34m\u001b[0m\u001b[0;34m\u001b[0m\u001b[0m\n\u001b[0;32m-> 4038\u001b[0;31m                 \u001b[0mmapped\u001b[0m \u001b[0;34m=\u001b[0m \u001b[0mlib\u001b[0m\u001b[0;34m.\u001b[0m\u001b[0mmap_infer\u001b[0m\u001b[0;34m(\u001b[0m\u001b[0mvalues\u001b[0m\u001b[0;34m,\u001b[0m \u001b[0mf\u001b[0m\u001b[0;34m,\u001b[0m \u001b[0mconvert\u001b[0m\u001b[0;34m=\u001b[0m\u001b[0mconvert_dtype\u001b[0m\u001b[0;34m)\u001b[0m\u001b[0;34m\u001b[0m\u001b[0;34m\u001b[0m\u001b[0m\n\u001b[0m\u001b[1;32m   4039\u001b[0m \u001b[0;34m\u001b[0m\u001b[0m\n\u001b[1;32m   4040\u001b[0m         \u001b[0;32mif\u001b[0m \u001b[0mlen\u001b[0m\u001b[0;34m(\u001b[0m\u001b[0mmapped\u001b[0m\u001b[0;34m)\u001b[0m \u001b[0;32mand\u001b[0m \u001b[0misinstance\u001b[0m\u001b[0;34m(\u001b[0m\u001b[0mmapped\u001b[0m\u001b[0;34m[\u001b[0m\u001b[0;36m0\u001b[0m\u001b[0;34m]\u001b[0m\u001b[0;34m,\u001b[0m \u001b[0mSeries\u001b[0m\u001b[0;34m)\u001b[0m\u001b[0;34m:\u001b[0m\u001b[0;34m\u001b[0m\u001b[0;34m\u001b[0m\u001b[0m\n",
            "\u001b[0;32mpandas/_libs/lib.pyx\u001b[0m in \u001b[0;36mpandas._libs.lib.map_infer\u001b[0;34m()\u001b[0m\n",
            "\u001b[0;32m<ipython-input-156-0afc99486c94>\u001b[0m in \u001b[0;36m<lambda>\u001b[0;34m(x)\u001b[0m\n\u001b[0;32m----> 1\u001b[0;31m \u001b[0mdf_test\u001b[0m\u001b[0;34m[\u001b[0m\u001b[0;34m'tweet'\u001b[0m\u001b[0;34m]\u001b[0m \u001b[0;34m=\u001b[0m \u001b[0mdf_test\u001b[0m\u001b[0;34m[\u001b[0m\u001b[0;34m'tweet'\u001b[0m\u001b[0;34m]\u001b[0m\u001b[0;34m.\u001b[0m\u001b[0mapply\u001b[0m\u001b[0;34m(\u001b[0m\u001b[0;32mlambda\u001b[0m \u001b[0mx\u001b[0m\u001b[0;34m:\u001b[0m \u001b[0mx\u001b[0m\u001b[0;34m.\u001b[0m\u001b[0mreplace\u001b[0m\u001b[0;34m(\u001b[0m\u001b[0;34m{\u001b[0m\u001b[0mx\u001b[0m\u001b[0;34m:\u001b[0m\u001b[0;34m[\u001b[0m\u001b[0mx\u001b[0m\u001b[0;34m]\u001b[0m\u001b[0;34m}\u001b[0m\u001b[0;34m)\u001b[0m\u001b[0;34m)\u001b[0m\u001b[0;34m\u001b[0m\u001b[0;34m\u001b[0m\u001b[0m\n\u001b[0m",
            "\u001b[0;31mTypeError\u001b[0m: replace() takes at least 2 arguments (1 given)"
          ]
        }
      ]
    },
    {
      "cell_type": "code",
      "metadata": {
        "id": "b3CToKgmhAbs"
      },
      "source": [
        "st=[]\n",
        "\n",
        "for i in range(0,8146):\n",
        "  va =[]\n",
        "  va.append(df_test['tweet'].iloc[i])\n",
        "  st.append(va)"
      ],
      "execution_count": null,
      "outputs": []
    },
    {
      "cell_type": "code",
      "metadata": {
        "id": "FAMAUWYGoCIA"
      },
      "source": [
        "df_test['paragraphs'] = st"
      ],
      "execution_count": null,
      "outputs": []
    },
    {
      "cell_type": "code",
      "metadata": {
        "colab": {
          "base_uri": "https://localhost:8080/",
          "height": 1000
        },
        "id": "imx6o-orhwJ1",
        "outputId": "fa209a4d-3c42-48c6-b7cd-b2a4d9fd19fd"
      },
      "source": [
        "df_test"
      ],
      "execution_count": null,
      "outputs": [
        {
          "output_type": "execute_result",
          "data": {
            "text/html": [
              "<div>\n",
              "<style scoped>\n",
              "    .dataframe tbody tr th:only-of-type {\n",
              "        vertical-align: middle;\n",
              "    }\n",
              "\n",
              "    .dataframe tbody tr th {\n",
              "        vertical-align: top;\n",
              "    }\n",
              "\n",
              "    .dataframe thead th {\n",
              "        text-align: right;\n",
              "    }\n",
              "</style>\n",
              "<table border=\"1\" class=\"dataframe\">\n",
              "  <thead>\n",
              "    <tr style=\"text-align: right;\">\n",
              "      <th></th>\n",
              "      <th>tweet</th>\n",
              "      <th>paragraphs</th>\n",
              "    </tr>\n",
              "  </thead>\n",
              "  <tbody>\n",
              "    <tr>\n",
              "      <th>0</th>\n",
              "      <td>Horrible news out of #Uttarakhand</td>\n",
              "      <td>[Horrible news out of #Uttarakhand]</td>\n",
              "    </tr>\n",
              "    <tr>\n",
              "      <th>1</th>\n",
              "      <td>Prayer for #Uttarakhand 🙏🙏</td>\n",
              "      <td>[Prayer for #Uttarakhand 🙏🙏]</td>\n",
              "    </tr>\n",
              "    <tr>\n",
              "      <th>2</th>\n",
              "      <td>Ohhh God Please Save #Uttarakhand</td>\n",
              "      <td>[Ohhh God Please Save #Uttarakhand]</td>\n",
              "    </tr>\n",
              "    <tr>\n",
              "      <th>3</th>\n",
              "      <td>Extremely Sad To Hear About The #Uttarakhand G...</td>\n",
              "      <td>[Extremely Sad To Hear About The #Uttarakhand ...</td>\n",
              "    </tr>\n",
              "    <tr>\n",
              "      <th>4</th>\n",
              "      <td>Prayers for #Uttarakhand 🙏🙏</td>\n",
              "      <td>[Prayers for #Uttarakhand 🙏🙏]</td>\n",
              "    </tr>\n",
              "    <tr>\n",
              "      <th>5</th>\n",
              "      <td>Prayer for #Uttarakhand.\\n🙏🙏</td>\n",
              "      <td>[Prayer for #Uttarakhand.\\n🙏🙏]</td>\n",
              "    </tr>\n",
              "    <tr>\n",
              "      <th>6</th>\n",
              "      <td>ALERT 🚨 #Uttarakhand \\n\\nEmergency 🆘 numbers 1...</td>\n",
              "      <td>[ALERT 🚨 #Uttarakhand \\n\\nEmergency 🆘 numbers ...</td>\n",
              "    </tr>\n",
              "    <tr>\n",
              "      <th>7</th>\n",
              "      <td>Heavy Devastation Due To Glacier breakage in C...</td>\n",
              "      <td>[Heavy Devastation Due To Glacier breakage in ...</td>\n",
              "    </tr>\n",
              "    <tr>\n",
              "      <th>8</th>\n",
              "      <td>I wish everyone stay safe in  Uttarakhand duri...</td>\n",
              "      <td>[I wish everyone stay safe in  Uttarakhand dur...</td>\n",
              "    </tr>\n",
              "    <tr>\n",
              "      <th>9</th>\n",
              "      <td>O Lord Shiva please save #Uttarakhand !</td>\n",
              "      <td>[O Lord Shiva please save #Uttarakhand !]</td>\n",
              "    </tr>\n",
              "    <tr>\n",
              "      <th>10</th>\n",
              "      <td>Distressing to hear about the glacier breaking...</td>\n",
              "      <td>[Distressing to hear about the glacier breakin...</td>\n",
              "    </tr>\n",
              "    <tr>\n",
              "      <th>11</th>\n",
              "      <td>#Uttarakhand tragic events unfolding .. https:...</td>\n",
              "      <td>[#Uttarakhand tragic events unfolding .. https...</td>\n",
              "    </tr>\n",
              "    <tr>\n",
              "      <th>12</th>\n",
              "      <td>Praying for safety of all #Uttarakhand 🙏</td>\n",
              "      <td>[Praying for safety of all #Uttarakhand 🙏]</td>\n",
              "    </tr>\n",
              "    <tr>\n",
              "      <th>13</th>\n",
              "      <td>What's happening ? This is so scary.. My praye...</td>\n",
              "      <td>[What's happening ? This is so scary.. My pray...</td>\n",
              "    </tr>\n",
              "    <tr>\n",
              "      <th>14</th>\n",
              "      <td>Pray for #Uttarakhand 🙏</td>\n",
              "      <td>[Pray for #Uttarakhand 🙏]</td>\n",
              "    </tr>\n",
              "    <tr>\n",
              "      <th>15</th>\n",
              "      <td>Pray for the Uttarakhand \\n#Uttarakhand</td>\n",
              "      <td>[Pray for the Uttarakhand \\n#Uttarakhand]</td>\n",
              "    </tr>\n",
              "    <tr>\n",
              "      <th>16</th>\n",
              "      <td>This is so sad news pray for labors\\n\\n#Uttara...</td>\n",
              "      <td>[This is so sad news pray for labors\\n\\n#Uttar...</td>\n",
              "    </tr>\n",
              "    <tr>\n",
              "      <th>17</th>\n",
              "      <td>@kktotlani Prayers for #Uttarakhand 🙏🏻</td>\n",
              "      <td>[@kktotlani Prayers for #Uttarakhand 🙏🏻]</td>\n",
              "    </tr>\n",
              "    <tr>\n",
              "      <th>18</th>\n",
              "      <td>Pray for #Uttarakhand people that have mahadev</td>\n",
              "      <td>[Pray for #Uttarakhand people that have mahadev]</td>\n",
              "    </tr>\n",
              "    <tr>\n",
              "      <th>19</th>\n",
              "      <td>Prayering for lives there at devbhumi #Uttarak...</td>\n",
              "      <td>[Prayering for lives there at devbhumi #Uttara...</td>\n",
              "    </tr>\n",
              "    <tr>\n",
              "      <th>20</th>\n",
              "      <td>Scary news coming from #Uttarakhand \\n\\nPrayin...</td>\n",
              "      <td>[Scary news coming from #Uttarakhand \\n\\nPrayi...</td>\n",
              "    </tr>\n",
              "    <tr>\n",
              "      <th>21</th>\n",
              "      <td>Scary visuals\\n#Uttarakhand \\n#Haridwar\\nhttps...</td>\n",
              "      <td>[Scary visuals\\n#Uttarakhand \\n#Haridwar\\nhttp...</td>\n",
              "    </tr>\n",
              "    <tr>\n",
              "      <th>22</th>\n",
              "      <td>@ANI Such a horrific tragedy in #Uttarakhand a...</td>\n",
              "      <td>[@ANI Such a horrific tragedy in #Uttarakhand ...</td>\n",
              "    </tr>\n",
              "    <tr>\n",
              "      <th>23</th>\n",
              "      <td>We pray for the people who are affected in thi...</td>\n",
              "      <td>[We pray for the people who are affected in th...</td>\n",
              "    </tr>\n",
              "    <tr>\n",
              "      <th>24</th>\n",
              "      <td>God bless #Uttarakhand</td>\n",
              "      <td>[God bless #Uttarakhand]</td>\n",
              "    </tr>\n",
              "    <tr>\n",
              "      <th>25</th>\n",
              "      <td>🙏Pray for #Uttarakhand</td>\n",
              "      <td>[🙏Pray for #Uttarakhand]</td>\n",
              "    </tr>\n",
              "    <tr>\n",
              "      <th>26</th>\n",
              "      <td>Floods in Uttarakhand due to Glacial burst is ...</td>\n",
              "      <td>[Floods in Uttarakhand due to Glacial burst is...</td>\n",
              "    </tr>\n",
              "    <tr>\n",
              "      <th>27</th>\n",
              "      <td>Prayers for #Uttarakhand 🙏\\nMy State #Uttarakhand</td>\n",
              "      <td>[Prayers for #Uttarakhand 🙏\\nMy State #Uttarak...</td>\n",
              "    </tr>\n",
              "    <tr>\n",
              "      <th>28</th>\n",
              "      <td>Respected indians \\nLet pray for the  people a...</td>\n",
              "      <td>[Respected indians \\nLet pray for the  people ...</td>\n",
              "    </tr>\n",
              "    <tr>\n",
              "      <th>29</th>\n",
              "      <td>Let's pray for Uttarakhand. 🙏🙏 Eventually it w...</td>\n",
              "      <td>[Let's pray for Uttarakhand. 🙏🙏 Eventually it ...</td>\n",
              "    </tr>\n",
              "    <tr>\n",
              "      <th>...</th>\n",
              "      <td>...</td>\n",
              "      <td>...</td>\n",
              "    </tr>\n",
              "    <tr>\n",
              "      <th>8116</th>\n",
              "      <td>Terrible news . \\nPrayers with people of #Utta...</td>\n",
              "      <td>[Terrible news . \\nPrayers with people of #Utt...</td>\n",
              "    </tr>\n",
              "    <tr>\n",
              "      <th>8117</th>\n",
              "      <td>Prayers for \\n#Uttarakhand. \\nHare Krishna 🙏</td>\n",
              "      <td>[Prayers for \\n#Uttarakhand. \\nHare Krishna 🙏]</td>\n",
              "    </tr>\n",
              "    <tr>\n",
              "      <th>8118</th>\n",
              "      <td>If you thought #ClimateCrisis is only for fore...</td>\n",
              "      <td>[If you thought #ClimateCrisis is only for for...</td>\n",
              "    </tr>\n",
              "    <tr>\n",
              "      <th>8119</th>\n",
              "      <td>.@ITBP_official personnel rescuing labourers w...</td>\n",
              "      <td>[.@ITBP_official personnel rescuing labourers ...</td>\n",
              "    </tr>\n",
              "    <tr>\n",
              "      <th>8120</th>\n",
              "      <td>Prayers for #Uttarakhand \\n🙏🙏</td>\n",
              "      <td>[Prayers for #Uttarakhand \\n🙏🙏]</td>\n",
              "    </tr>\n",
              "    <tr>\n",
              "      <th>8121</th>\n",
              "      <td>Prayers for #Uttarakhand People\\n\\nGod Please ...</td>\n",
              "      <td>[Prayers for #Uttarakhand People\\n\\nGod Please...</td>\n",
              "    </tr>\n",
              "    <tr>\n",
              "      <th>8122</th>\n",
              "      <td>In my view , \\n\\nAn Eye for Eye or Hand for Ha...</td>\n",
              "      <td>[In my view , \\n\\nAn Eye for Eye or Hand for H...</td>\n",
              "    </tr>\n",
              "    <tr>\n",
              "      <th>8123</th>\n",
              "      <td>@vijaita @ITBP_official Praying for the well b...</td>\n",
              "      <td>[@vijaita @ITBP_official Praying for the well ...</td>\n",
              "    </tr>\n",
              "    <tr>\n",
              "      <th>8124</th>\n",
              "      <td>Such a big disaster has come in #Uttarakhand a...</td>\n",
              "      <td>[Such a big disaster has come in #Uttarakhand ...</td>\n",
              "    </tr>\n",
              "    <tr>\n",
              "      <th>8125</th>\n",
              "      <td>#Chamoli News is so sad. Lets pray for All and...</td>\n",
              "      <td>[#Chamoli News is so sad. Lets pray for All an...</td>\n",
              "    </tr>\n",
              "    <tr>\n",
              "      <th>8126</th>\n",
              "      <td>Every calamity sends a wave of pain that is fe...</td>\n",
              "      <td>[Every calamity sends a wave of pain that is f...</td>\n",
              "    </tr>\n",
              "    <tr>\n",
              "      <th>8127</th>\n",
              "      <td>Tapovan hydro project damaged by Uttarakhand g...</td>\n",
              "      <td>[Tapovan hydro project damaged by Uttarakhand ...</td>\n",
              "    </tr>\n",
              "    <tr>\n",
              "      <th>8128</th>\n",
              "      <td>🔸#Uttarakhand #GlacierBurst Update\\n🔸@NDRFHQ t...</td>\n",
              "      <td>[🔸#Uttarakhand #GlacierBurst Update\\n🔸@NDRFHQ ...</td>\n",
              "    </tr>\n",
              "    <tr>\n",
              "      <th>8129</th>\n",
              "      <td>My prayers are with the people of #Uttarakhand...</td>\n",
              "      <td>[My prayers are with the people of #Uttarakhan...</td>\n",
              "    </tr>\n",
              "    <tr>\n",
              "      <th>8130</th>\n",
              "      <td>ITBP the real Himveer or India proud of you #h...</td>\n",
              "      <td>[ITBP the real Himveer or India proud of you #...</td>\n",
              "    </tr>\n",
              "    <tr>\n",
              "      <th>8131</th>\n",
              "      <td>The Happiness of being alive 😍😍👏🏼👏🏼..\\n\\n#Utta...</td>\n",
              "      <td>[The Happiness of being alive 😍😍👏🏼👏🏼..\\n\\n#Utt...</td>\n",
              "    </tr>\n",
              "    <tr>\n",
              "      <th>8132</th>\n",
              "      <td>Prayers for #Uttarakhand. \\nStay strong Stay s...</td>\n",
              "      <td>[Prayers for #Uttarakhand. \\nStay strong Stay ...</td>\n",
              "    </tr>\n",
              "    <tr>\n",
              "      <th>8133</th>\n",
              "      <td>May all be safe #Uttarakhand #Chamoli</td>\n",
              "      <td>[May all be safe #Uttarakhand #Chamoli]</td>\n",
              "    </tr>\n",
              "    <tr>\n",
              "      <th>8134</th>\n",
              "      <td>My prayers for the people of  #Uttarakhand 🙏 h...</td>\n",
              "      <td>[My prayers for the people of  #Uttarakhand 🙏 ...</td>\n",
              "    </tr>\n",
              "    <tr>\n",
              "      <th>8135</th>\n",
              "      <td>#Uttarakhand #UttarakhandDisaster #Uttarakhand...</td>\n",
              "      <td>[#Uttarakhand #UttarakhandDisaster #Uttarakhan...</td>\n",
              "    </tr>\n",
              "    <tr>\n",
              "      <th>8136</th>\n",
              "      <td>Rescue operations are on full swing in Chamoli...</td>\n",
              "      <td>[Rescue operations are on full swing in Chamol...</td>\n",
              "    </tr>\n",
              "    <tr>\n",
              "      <th>8137</th>\n",
              "      <td>We bow to our brave Jawans of ITBP and NDRF fo...</td>\n",
              "      <td>[We bow to our brave Jawans of ITBP and NDRF f...</td>\n",
              "    </tr>\n",
              "    <tr>\n",
              "      <th>8138</th>\n",
              "      <td>Prayers for Devbhoomi \\n\\n#Chamoli  #Uttarakhand</td>\n",
              "      <td>[Prayers for Devbhoomi \\n\\n#Chamoli  #Uttarakh...</td>\n",
              "    </tr>\n",
              "    <tr>\n",
              "      <th>8139</th>\n",
              "      <td>#GodMorningSunday\\nSupreme Saint Rampal Ji Mah...</td>\n",
              "      <td>[#GodMorningSunday\\nSupreme Saint Rampal Ji Ma...</td>\n",
              "    </tr>\n",
              "    <tr>\n",
              "      <th>8140</th>\n",
              "      <td>May the God force be with you #Uttarakhand</td>\n",
              "      <td>[May the God force be with you #Uttarakhand]</td>\n",
              "    </tr>\n",
              "    <tr>\n",
              "      <th>8141</th>\n",
              "      <td>😊\\n\\nHope everyone is fine, Prayers 🙏\\n#Uttara...</td>\n",
              "      <td>[😊\\n\\nHope everyone is fine, Prayers 🙏\\n#Uttar...</td>\n",
              "    </tr>\n",
              "    <tr>\n",
              "      <th>8142</th>\n",
              "      <td>What a responsible PM would do in this Situati...</td>\n",
              "      <td>[What a responsible PM would do in this Situat...</td>\n",
              "    </tr>\n",
              "    <tr>\n",
              "      <th>8143</th>\n",
              "      <td>Scary scenes coming from #Uttarakhand \\n\\nPray...</td>\n",
              "      <td>[Scary scenes coming from #Uttarakhand \\n\\nPra...</td>\n",
              "    </tr>\n",
              "    <tr>\n",
              "      <th>8144</th>\n",
              "      <td>ITBP jawans in search and rescue operation in ...</td>\n",
              "      <td>[ITBP jawans in search and rescue operation in...</td>\n",
              "    </tr>\n",
              "    <tr>\n",
              "      <th>8145</th>\n",
              "      <td>Sorry guys, I will not be able to tweet today,...</td>\n",
              "      <td>[Sorry guys, I will not be able to tweet today...</td>\n",
              "    </tr>\n",
              "  </tbody>\n",
              "</table>\n",
              "<p>8146 rows × 2 columns</p>\n",
              "</div>"
            ],
            "text/plain": [
              "                                                  tweet                                         paragraphs\n",
              "0                     Horrible news out of #Uttarakhand                [Horrible news out of #Uttarakhand]\n",
              "1                            Prayer for #Uttarakhand 🙏🙏                       [Prayer for #Uttarakhand 🙏🙏]\n",
              "2                     Ohhh God Please Save #Uttarakhand                [Ohhh God Please Save #Uttarakhand]\n",
              "3     Extremely Sad To Hear About The #Uttarakhand G...  [Extremely Sad To Hear About The #Uttarakhand ...\n",
              "4                           Prayers for #Uttarakhand 🙏🙏                      [Prayers for #Uttarakhand 🙏🙏]\n",
              "...                                                 ...                                                ...\n",
              "8141  😊\\n\\nHope everyone is fine, Prayers 🙏\\n#Uttara...  [😊\\n\\nHope everyone is fine, Prayers 🙏\\n#Uttar...\n",
              "8142  What a responsible PM would do in this Situati...  [What a responsible PM would do in this Situat...\n",
              "8143  Scary scenes coming from #Uttarakhand \\n\\nPray...  [Scary scenes coming from #Uttarakhand \\n\\nPra...\n",
              "8144  ITBP jawans in search and rescue operation in ...  [ITBP jawans in search and rescue operation in...\n",
              "8145  Sorry guys, I will not be able to tweet today,...  [Sorry guys, I will not be able to tweet today...\n",
              "\n",
              "[8146 rows x 2 columns]"
            ]
          },
          "metadata": {
            "tags": []
          },
          "execution_count": 204
        }
      ]
    },
    {
      "cell_type": "code",
      "metadata": {
        "colab": {
          "base_uri": "https://localhost:8080/"
        },
        "id": "UIM5StdKn1PT",
        "outputId": "b4369b71-7a81-4bd4-d616-5eac2c5de39f"
      },
      "source": [
        "df_test.shape"
      ],
      "execution_count": null,
      "outputs": [
        {
          "output_type": "execute_result",
          "data": {
            "text/plain": [
              "(8146, 1)"
            ]
          },
          "metadata": {
            "tags": []
          },
          "execution_count": 196
        }
      ]
    },
    {
      "cell_type": "code",
      "metadata": {
        "id": "XLRwGN9Ti6Sl"
      },
      "source": [
        "ls = [df_test['tweet']]"
      ],
      "execution_count": null,
      "outputs": []
    },
    {
      "cell_type": "code",
      "metadata": {
        "id": "4llp1Cv2k1-B"
      },
      "source": [
        "sty=df_test['tweet'].iloc[3]"
      ],
      "execution_count": null,
      "outputs": []
    },
    {
      "cell_type": "code",
      "metadata": {
        "colab": {
          "base_uri": "https://localhost:8080/",
          "height": 35
        },
        "id": "L6yy0hZOlfKX",
        "outputId": "74abf30c-0521-482b-f03b-ef04b96e237b"
      },
      "source": [
        "sty"
      ],
      "execution_count": null,
      "outputs": [
        {
          "output_type": "execute_result",
          "data": {
            "application/vnd.google.colaboratory.intrinsic+json": {
              "type": "string"
            },
            "text/plain": [
              "'Extremely Sad To Hear About The #Uttarakhand Glacier Break, Praying For The Safety Of Missing People... 🙏\\n\\nHelpline… https://t.co/a8HXQ6Y3Hb'"
            ]
          },
          "metadata": {
            "tags": []
          },
          "execution_count": 188
        }
      ]
    },
    {
      "cell_type": "code",
      "metadata": {
        "colab": {
          "base_uri": "https://localhost:8080/",
          "height": 35
        },
        "id": "LalpPnGelm1F",
        "outputId": "14b041ce-3ece-4cee-b668-e369442ae113"
      },
      "source": [
        ""
      ],
      "execution_count": null,
      "outputs": [
        {
          "output_type": "execute_result",
          "data": {
            "application/vnd.google.colaboratory.intrinsic+json": {
              "type": "string"
            },
            "text/plain": [
              "'tweet    Extremely Sad To Hear About The #Uttarakhand G...\\nName: 3, dtype: object'"
            ]
          },
          "metadata": {
            "tags": []
          },
          "execution_count": 183
        }
      ]
    },
    {
      "cell_type": "code",
      "metadata": {
        "colab": {
          "base_uri": "https://localhost:8080/"
        },
        "id": "e_PNYkJXh_RB",
        "outputId": "1d309fc9-9b7b-452e-b858-0e7725fafc27"
      },
      "source": [
        "for i in range(1,10):\n",
        "  print(df_test['tweet'])"
      ],
      "execution_count": null,
      "outputs": [
        {
          "output_type": "stream",
          "text": [
            "0                       Horrible news out of #Uttarakhand\n",
            "1                              Prayer for #Uttarakhand 🙏🙏\n",
            "2                       Ohhh God Please Save #Uttarakhand\n",
            "3       Extremely Sad To Hear About The #Uttarakhand G...\n",
            "4                             Prayers for #Uttarakhand 🙏🙏\n",
            "                              ...                        \n",
            "8141    😊\\n\\nHope everyone is fine, Prayers 🙏\\n#Uttara...\n",
            "8142    What a responsible PM would do in this Situati...\n",
            "8143    Scary scenes coming from #Uttarakhand \\n\\nPray...\n",
            "8144    ITBP jawans in search and rescue operation in ...\n",
            "8145    Sorry guys, I will not be able to tweet today,...\n",
            "Name: tweet, Length: 8146, dtype: object\n",
            "0                       Horrible news out of #Uttarakhand\n",
            "1                              Prayer for #Uttarakhand 🙏🙏\n",
            "2                       Ohhh God Please Save #Uttarakhand\n",
            "3       Extremely Sad To Hear About The #Uttarakhand G...\n",
            "4                             Prayers for #Uttarakhand 🙏🙏\n",
            "                              ...                        \n",
            "8141    😊\\n\\nHope everyone is fine, Prayers 🙏\\n#Uttara...\n",
            "8142    What a responsible PM would do in this Situati...\n",
            "8143    Scary scenes coming from #Uttarakhand \\n\\nPray...\n",
            "8144    ITBP jawans in search and rescue operation in ...\n",
            "8145    Sorry guys, I will not be able to tweet today,...\n",
            "Name: tweet, Length: 8146, dtype: object\n",
            "0                       Horrible news out of #Uttarakhand\n",
            "1                              Prayer for #Uttarakhand 🙏🙏\n",
            "2                       Ohhh God Please Save #Uttarakhand\n",
            "3       Extremely Sad To Hear About The #Uttarakhand G...\n",
            "4                             Prayers for #Uttarakhand 🙏🙏\n",
            "                              ...                        \n",
            "8141    😊\\n\\nHope everyone is fine, Prayers 🙏\\n#Uttara...\n",
            "8142    What a responsible PM would do in this Situati...\n",
            "8143    Scary scenes coming from #Uttarakhand \\n\\nPray...\n",
            "8144    ITBP jawans in search and rescue operation in ...\n",
            "8145    Sorry guys, I will not be able to tweet today,...\n",
            "Name: tweet, Length: 8146, dtype: object\n",
            "0                       Horrible news out of #Uttarakhand\n",
            "1                              Prayer for #Uttarakhand 🙏🙏\n",
            "2                       Ohhh God Please Save #Uttarakhand\n",
            "3       Extremely Sad To Hear About The #Uttarakhand G...\n",
            "4                             Prayers for #Uttarakhand 🙏🙏\n",
            "                              ...                        \n",
            "8141    😊\\n\\nHope everyone is fine, Prayers 🙏\\n#Uttara...\n",
            "8142    What a responsible PM would do in this Situati...\n",
            "8143    Scary scenes coming from #Uttarakhand \\n\\nPray...\n",
            "8144    ITBP jawans in search and rescue operation in ...\n",
            "8145    Sorry guys, I will not be able to tweet today,...\n",
            "Name: tweet, Length: 8146, dtype: object\n",
            "0                       Horrible news out of #Uttarakhand\n",
            "1                              Prayer for #Uttarakhand 🙏🙏\n",
            "2                       Ohhh God Please Save #Uttarakhand\n",
            "3       Extremely Sad To Hear About The #Uttarakhand G...\n",
            "4                             Prayers for #Uttarakhand 🙏🙏\n",
            "                              ...                        \n",
            "8141    😊\\n\\nHope everyone is fine, Prayers 🙏\\n#Uttara...\n",
            "8142    What a responsible PM would do in this Situati...\n",
            "8143    Scary scenes coming from #Uttarakhand \\n\\nPray...\n",
            "8144    ITBP jawans in search and rescue operation in ...\n",
            "8145    Sorry guys, I will not be able to tweet today,...\n",
            "Name: tweet, Length: 8146, dtype: object\n",
            "0                       Horrible news out of #Uttarakhand\n",
            "1                              Prayer for #Uttarakhand 🙏🙏\n",
            "2                       Ohhh God Please Save #Uttarakhand\n",
            "3       Extremely Sad To Hear About The #Uttarakhand G...\n",
            "4                             Prayers for #Uttarakhand 🙏🙏\n",
            "                              ...                        \n",
            "8141    😊\\n\\nHope everyone is fine, Prayers 🙏\\n#Uttara...\n",
            "8142    What a responsible PM would do in this Situati...\n",
            "8143    Scary scenes coming from #Uttarakhand \\n\\nPray...\n",
            "8144    ITBP jawans in search and rescue operation in ...\n",
            "8145    Sorry guys, I will not be able to tweet today,...\n",
            "Name: tweet, Length: 8146, dtype: object\n",
            "0                       Horrible news out of #Uttarakhand\n",
            "1                              Prayer for #Uttarakhand 🙏🙏\n",
            "2                       Ohhh God Please Save #Uttarakhand\n",
            "3       Extremely Sad To Hear About The #Uttarakhand G...\n",
            "4                             Prayers for #Uttarakhand 🙏🙏\n",
            "                              ...                        \n",
            "8141    😊\\n\\nHope everyone is fine, Prayers 🙏\\n#Uttara...\n",
            "8142    What a responsible PM would do in this Situati...\n",
            "8143    Scary scenes coming from #Uttarakhand \\n\\nPray...\n",
            "8144    ITBP jawans in search and rescue operation in ...\n",
            "8145    Sorry guys, I will not be able to tweet today,...\n",
            "Name: tweet, Length: 8146, dtype: object\n",
            "0                       Horrible news out of #Uttarakhand\n",
            "1                              Prayer for #Uttarakhand 🙏🙏\n",
            "2                       Ohhh God Please Save #Uttarakhand\n",
            "3       Extremely Sad To Hear About The #Uttarakhand G...\n",
            "4                             Prayers for #Uttarakhand 🙏🙏\n",
            "                              ...                        \n",
            "8141    😊\\n\\nHope everyone is fine, Prayers 🙏\\n#Uttara...\n",
            "8142    What a responsible PM would do in this Situati...\n",
            "8143    Scary scenes coming from #Uttarakhand \\n\\nPray...\n",
            "8144    ITBP jawans in search and rescue operation in ...\n",
            "8145    Sorry guys, I will not be able to tweet today,...\n",
            "Name: tweet, Length: 8146, dtype: object\n",
            "0                       Horrible news out of #Uttarakhand\n",
            "1                              Prayer for #Uttarakhand 🙏🙏\n",
            "2                       Ohhh God Please Save #Uttarakhand\n",
            "3       Extremely Sad To Hear About The #Uttarakhand G...\n",
            "4                             Prayers for #Uttarakhand 🙏🙏\n",
            "                              ...                        \n",
            "8141    😊\\n\\nHope everyone is fine, Prayers 🙏\\n#Uttara...\n",
            "8142    What a responsible PM would do in this Situati...\n",
            "8143    Scary scenes coming from #Uttarakhand \\n\\nPray...\n",
            "8144    ITBP jawans in search and rescue operation in ...\n",
            "8145    Sorry guys, I will not be able to tweet today,...\n",
            "Name: tweet, Length: 8146, dtype: object\n"
          ],
          "name": "stdout"
        }
      ]
    },
    {
      "cell_type": "code",
      "metadata": {
        "colab": {
          "base_uri": "https://localhost:8080/",
          "height": 204
        },
        "id": "EbRsTc7Eb_QO",
        "outputId": "192944bf-c528-4c56-9c55-acbbe8343282"
      },
      "source": [
        "df_test.head()"
      ],
      "execution_count": null,
      "outputs": [
        {
          "output_type": "execute_result",
          "data": {
            "text/html": [
              "<div>\n",
              "<style scoped>\n",
              "    .dataframe tbody tr th:only-of-type {\n",
              "        vertical-align: middle;\n",
              "    }\n",
              "\n",
              "    .dataframe tbody tr th {\n",
              "        vertical-align: top;\n",
              "    }\n",
              "\n",
              "    .dataframe thead th {\n",
              "        text-align: right;\n",
              "    }\n",
              "</style>\n",
              "<table border=\"1\" class=\"dataframe\">\n",
              "  <thead>\n",
              "    <tr style=\"text-align: right;\">\n",
              "      <th></th>\n",
              "      <th>tweet</th>\n",
              "    </tr>\n",
              "  </thead>\n",
              "  <tbody>\n",
              "    <tr>\n",
              "      <th>0</th>\n",
              "      <td>Horrible news out of #Uttarakhand</td>\n",
              "    </tr>\n",
              "    <tr>\n",
              "      <th>1</th>\n",
              "      <td>Prayer for #Uttarakhand 🙏🙏</td>\n",
              "    </tr>\n",
              "    <tr>\n",
              "      <th>2</th>\n",
              "      <td>Ohhh God Please Save #Uttarakhand</td>\n",
              "    </tr>\n",
              "    <tr>\n",
              "      <th>3</th>\n",
              "      <td>Extremely Sad To Hear About The #Uttarakhand G...</td>\n",
              "    </tr>\n",
              "    <tr>\n",
              "      <th>4</th>\n",
              "      <td>Prayers for #Uttarakhand 🙏🙏</td>\n",
              "    </tr>\n",
              "  </tbody>\n",
              "</table>\n",
              "</div>"
            ],
            "text/plain": [
              "                                               tweet\n",
              "0                  Horrible news out of #Uttarakhand\n",
              "1                         Prayer for #Uttarakhand 🙏🙏\n",
              "2                  Ohhh God Please Save #Uttarakhand\n",
              "3  Extremely Sad To Hear About The #Uttarakhand G...\n",
              "4                        Prayers for #Uttarakhand 🙏🙏"
            ]
          },
          "metadata": {
            "tags": []
          },
          "execution_count": 151
        }
      ]
    },
    {
      "cell_type": "code",
      "metadata": {
        "id": "N5x4IUBqb_S_"
      },
      "source": [
        ""
      ],
      "execution_count": null,
      "outputs": []
    },
    {
      "cell_type": "code",
      "metadata": {
        "id": "-vsCBP6Jb_VP"
      },
      "source": [
        ""
      ],
      "execution_count": null,
      "outputs": []
    },
    {
      "cell_type": "code",
      "metadata": {
        "id": "d0PPqwOrb_XE"
      },
      "source": [
        ""
      ],
      "execution_count": null,
      "outputs": []
    },
    {
      "cell_type": "code",
      "metadata": {
        "id": "wgFKb8eLb_Y-"
      },
      "source": [
        "import ast\n",
        "df_test['tweet'] = df_test['tweet'].apply(lambda x: x.split(\" \"))"
      ],
      "execution_count": null,
      "outputs": []
    },
    {
      "cell_type": "code",
      "metadata": {
        "colab": {
          "base_uri": "https://localhost:8080/",
          "height": 1000
        },
        "id": "PYDigUGlXhOK",
        "outputId": "c6073d15-1e44-408e-9ebd-b06468b8045f"
      },
      "source": [
        "df_test"
      ],
      "execution_count": null,
      "outputs": [
        {
          "output_type": "execute_result",
          "data": {
            "text/html": [
              "<div>\n",
              "<style scoped>\n",
              "    .dataframe tbody tr th:only-of-type {\n",
              "        vertical-align: middle;\n",
              "    }\n",
              "\n",
              "    .dataframe tbody tr th {\n",
              "        vertical-align: top;\n",
              "    }\n",
              "\n",
              "    .dataframe thead th {\n",
              "        text-align: right;\n",
              "    }\n",
              "</style>\n",
              "<table border=\"1\" class=\"dataframe\">\n",
              "  <thead>\n",
              "    <tr style=\"text-align: right;\">\n",
              "      <th></th>\n",
              "      <th>tweet</th>\n",
              "    </tr>\n",
              "  </thead>\n",
              "  <tbody>\n",
              "    <tr>\n",
              "      <th>0</th>\n",
              "      <td>[Horrible, news, out, of, #Uttarakhand]</td>\n",
              "    </tr>\n",
              "    <tr>\n",
              "      <th>1</th>\n",
              "      <td>[Prayer, for, #Uttarakhand, 🙏🙏]</td>\n",
              "    </tr>\n",
              "    <tr>\n",
              "      <th>2</th>\n",
              "      <td>[Ohhh, God, Please, Save, #Uttarakhand]</td>\n",
              "    </tr>\n",
              "    <tr>\n",
              "      <th>3</th>\n",
              "      <td>[Extremely, Sad, To, Hear, About, The, #Uttara...</td>\n",
              "    </tr>\n",
              "    <tr>\n",
              "      <th>4</th>\n",
              "      <td>[Prayers, for, #Uttarakhand, 🙏🙏]</td>\n",
              "    </tr>\n",
              "    <tr>\n",
              "      <th>5</th>\n",
              "      <td>[Prayer, for, #Uttarakhand.\\n🙏🙏]</td>\n",
              "    </tr>\n",
              "    <tr>\n",
              "      <th>6</th>\n",
              "      <td>[ALERT, 🚨, #Uttarakhand, \\n\\nEmergency, 🆘, num...</td>\n",
              "    </tr>\n",
              "    <tr>\n",
              "      <th>7</th>\n",
              "      <td>[Heavy, Devastation, Due, To, Glacier, breakag...</td>\n",
              "    </tr>\n",
              "    <tr>\n",
              "      <th>8</th>\n",
              "      <td>[I, wish, everyone, stay, safe, in, , Uttarakh...</td>\n",
              "    </tr>\n",
              "    <tr>\n",
              "      <th>9</th>\n",
              "      <td>[O, Lord, Shiva, please, save, #Uttarakhand, !]</td>\n",
              "    </tr>\n",
              "    <tr>\n",
              "      <th>10</th>\n",
              "      <td>[Distressing, to, hear, about, the, glacier, b...</td>\n",
              "    </tr>\n",
              "    <tr>\n",
              "      <th>11</th>\n",
              "      <td>[#Uttarakhand, tragic, events, unfolding, .., ...</td>\n",
              "    </tr>\n",
              "    <tr>\n",
              "      <th>12</th>\n",
              "      <td>[Praying, for, safety, of, all, #Uttarakhand, 🙏]</td>\n",
              "    </tr>\n",
              "    <tr>\n",
              "      <th>13</th>\n",
              "      <td>[What's, happening, ?, This, is, so, scary.., ...</td>\n",
              "    </tr>\n",
              "    <tr>\n",
              "      <th>14</th>\n",
              "      <td>[Pray, for, #Uttarakhand, 🙏]</td>\n",
              "    </tr>\n",
              "    <tr>\n",
              "      <th>15</th>\n",
              "      <td>[Pray, for, the, Uttarakhand, \\n#Uttarakhand]</td>\n",
              "    </tr>\n",
              "    <tr>\n",
              "      <th>16</th>\n",
              "      <td>[This, is, so, sad, news, pray, for, labors\\n\\...</td>\n",
              "    </tr>\n",
              "    <tr>\n",
              "      <th>17</th>\n",
              "      <td>[@kktotlani, Prayers, for, #Uttarakhand, 🙏🏻]</td>\n",
              "    </tr>\n",
              "    <tr>\n",
              "      <th>18</th>\n",
              "      <td>[Pray, for, #Uttarakhand, people, that, have, ...</td>\n",
              "    </tr>\n",
              "    <tr>\n",
              "      <th>19</th>\n",
              "      <td>[Prayering, for, lives, there, at, devbhumi, #...</td>\n",
              "    </tr>\n",
              "    <tr>\n",
              "      <th>20</th>\n",
              "      <td>[Scary, news, coming, from, #Uttarakhand, \\n\\n...</td>\n",
              "    </tr>\n",
              "    <tr>\n",
              "      <th>21</th>\n",
              "      <td>[Scary, visuals\\n#Uttarakhand, \\n#Haridwar\\nht...</td>\n",
              "    </tr>\n",
              "    <tr>\n",
              "      <th>22</th>\n",
              "      <td>[@ANI, Such, a, horrific, tragedy, in, #Uttara...</td>\n",
              "    </tr>\n",
              "    <tr>\n",
              "      <th>23</th>\n",
              "      <td>[We, pray, for, the, people, who, are, affecte...</td>\n",
              "    </tr>\n",
              "    <tr>\n",
              "      <th>24</th>\n",
              "      <td>[God, bless, #Uttarakhand]</td>\n",
              "    </tr>\n",
              "    <tr>\n",
              "      <th>25</th>\n",
              "      <td>[🙏Pray, for, #Uttarakhand]</td>\n",
              "    </tr>\n",
              "    <tr>\n",
              "      <th>26</th>\n",
              "      <td>[Floods, in, Uttarakhand, due, to, Glacial, bu...</td>\n",
              "    </tr>\n",
              "    <tr>\n",
              "      <th>27</th>\n",
              "      <td>[Prayers, for, #Uttarakhand, 🙏\\nMy, State, #Ut...</td>\n",
              "    </tr>\n",
              "    <tr>\n",
              "      <th>28</th>\n",
              "      <td>[Respected, indians, \\nLet, pray, for, the, , ...</td>\n",
              "    </tr>\n",
              "    <tr>\n",
              "      <th>29</th>\n",
              "      <td>[Let's, pray, for, Uttarakhand., 🙏🙏, Eventuall...</td>\n",
              "    </tr>\n",
              "    <tr>\n",
              "      <th>...</th>\n",
              "      <td>...</td>\n",
              "    </tr>\n",
              "    <tr>\n",
              "      <th>8116</th>\n",
              "      <td>[Terrible, news, ., \\nPrayers, with, people, o...</td>\n",
              "    </tr>\n",
              "    <tr>\n",
              "      <th>8117</th>\n",
              "      <td>[Prayers, for, \\n#Uttarakhand., \\nHare, Krishn...</td>\n",
              "    </tr>\n",
              "    <tr>\n",
              "      <th>8118</th>\n",
              "      <td>[If, you, thought, #ClimateCrisis, is, only, f...</td>\n",
              "    </tr>\n",
              "    <tr>\n",
              "      <th>8119</th>\n",
              "      <td>[.@ITBP_official, personnel, rescuing, laboure...</td>\n",
              "    </tr>\n",
              "    <tr>\n",
              "      <th>8120</th>\n",
              "      <td>[Prayers, for, #Uttarakhand, \\n🙏🙏]</td>\n",
              "    </tr>\n",
              "    <tr>\n",
              "      <th>8121</th>\n",
              "      <td>[Prayers, for, #Uttarakhand, People\\n\\nGod, Pl...</td>\n",
              "    </tr>\n",
              "    <tr>\n",
              "      <th>8122</th>\n",
              "      <td>[In, my, view, ,, \\n\\nAn, Eye, for, Eye, or, H...</td>\n",
              "    </tr>\n",
              "    <tr>\n",
              "      <th>8123</th>\n",
              "      <td>[@vijaita, @ITBP_official, Praying, for, the, ...</td>\n",
              "    </tr>\n",
              "    <tr>\n",
              "      <th>8124</th>\n",
              "      <td>[Such, a, big, disaster, has, come, in, #Uttar...</td>\n",
              "    </tr>\n",
              "    <tr>\n",
              "      <th>8125</th>\n",
              "      <td>[#Chamoli, News, is, so, sad., Lets, pray, for...</td>\n",
              "    </tr>\n",
              "    <tr>\n",
              "      <th>8126</th>\n",
              "      <td>[Every, calamity, sends, a, wave, of, pain, th...</td>\n",
              "    </tr>\n",
              "    <tr>\n",
              "      <th>8127</th>\n",
              "      <td>[Tapovan, hydro, project, damaged, by, Uttarak...</td>\n",
              "    </tr>\n",
              "    <tr>\n",
              "      <th>8128</th>\n",
              "      <td>[🔸#Uttarakhand, #GlacierBurst, Update\\n🔸@NDRFH...</td>\n",
              "    </tr>\n",
              "    <tr>\n",
              "      <th>8129</th>\n",
              "      <td>[My, prayers, are, with, the, people, of, #Utt...</td>\n",
              "    </tr>\n",
              "    <tr>\n",
              "      <th>8130</th>\n",
              "      <td>[ITBP, the, real, Himveer, or, India, proud, o...</td>\n",
              "    </tr>\n",
              "    <tr>\n",
              "      <th>8131</th>\n",
              "      <td>[The, Happiness, of, being, alive, 😍😍👏🏼👏🏼..\\n\\...</td>\n",
              "    </tr>\n",
              "    <tr>\n",
              "      <th>8132</th>\n",
              "      <td>[Prayers, for, #Uttarakhand., \\nStay, strong, ...</td>\n",
              "    </tr>\n",
              "    <tr>\n",
              "      <th>8133</th>\n",
              "      <td>[May, all, be, safe, #Uttarakhand, #Chamoli]</td>\n",
              "    </tr>\n",
              "    <tr>\n",
              "      <th>8134</th>\n",
              "      <td>[My, prayers, for, the, people, of, , #Uttarak...</td>\n",
              "    </tr>\n",
              "    <tr>\n",
              "      <th>8135</th>\n",
              "      <td>[#Uttarakhand, #UttarakhandDisaster, #Uttarakh...</td>\n",
              "    </tr>\n",
              "    <tr>\n",
              "      <th>8136</th>\n",
              "      <td>[Rescue, operations, are, on, full, swing, in,...</td>\n",
              "    </tr>\n",
              "    <tr>\n",
              "      <th>8137</th>\n",
              "      <td>[We, bow, to, our, brave, Jawans, of, ITBP, an...</td>\n",
              "    </tr>\n",
              "    <tr>\n",
              "      <th>8138</th>\n",
              "      <td>[Prayers, for, Devbhoomi, \\n\\n#Chamoli, , #Utt...</td>\n",
              "    </tr>\n",
              "    <tr>\n",
              "      <th>8139</th>\n",
              "      <td>[#GodMorningSunday\\nSupreme, Saint, Rampal, Ji...</td>\n",
              "    </tr>\n",
              "    <tr>\n",
              "      <th>8140</th>\n",
              "      <td>[May, the, God, force, be, with, you, #Uttarak...</td>\n",
              "    </tr>\n",
              "    <tr>\n",
              "      <th>8141</th>\n",
              "      <td>[😊\\n\\nHope, everyone, is, fine,, Prayers, 🙏\\n#...</td>\n",
              "    </tr>\n",
              "    <tr>\n",
              "      <th>8142</th>\n",
              "      <td>[What, a, responsible, PM, would, do, in, this...</td>\n",
              "    </tr>\n",
              "    <tr>\n",
              "      <th>8143</th>\n",
              "      <td>[Scary, scenes, coming, from, #Uttarakhand, \\n...</td>\n",
              "    </tr>\n",
              "    <tr>\n",
              "      <th>8144</th>\n",
              "      <td>[ITBP, jawans, in, search, and, rescue, operat...</td>\n",
              "    </tr>\n",
              "    <tr>\n",
              "      <th>8145</th>\n",
              "      <td>[Sorry, guys,, I, will, not, be, able, to, twe...</td>\n",
              "    </tr>\n",
              "  </tbody>\n",
              "</table>\n",
              "<p>8146 rows × 1 columns</p>\n",
              "</div>"
            ],
            "text/plain": [
              "                                                  tweet\n",
              "0               [Horrible, news, out, of, #Uttarakhand]\n",
              "1                       [Prayer, for, #Uttarakhand, 🙏🙏]\n",
              "2               [Ohhh, God, Please, Save, #Uttarakhand]\n",
              "3     [Extremely, Sad, To, Hear, About, The, #Uttara...\n",
              "4                      [Prayers, for, #Uttarakhand, 🙏🙏]\n",
              "...                                                 ...\n",
              "8141  [😊\\n\\nHope, everyone, is, fine,, Prayers, 🙏\\n#...\n",
              "8142  [What, a, responsible, PM, would, do, in, this...\n",
              "8143  [Scary, scenes, coming, from, #Uttarakhand, \\n...\n",
              "8144  [ITBP, jawans, in, search, and, rescue, operat...\n",
              "8145  [Sorry, guys,, I, will, not, be, able, to, twe...\n",
              "\n",
              "[8146 rows x 1 columns]"
            ]
          },
          "metadata": {
            "tags": []
          },
          "execution_count": 131
        }
      ]
    },
    {
      "cell_type": "code",
      "metadata": {
        "id": "M3Y-eQyrFOrb"
      },
      "source": [
        " df_test = df_test.rename(columns={'tweet': 'paragraphs'})"
      ],
      "execution_count": null,
      "outputs": []
    },
    {
      "cell_type": "code",
      "metadata": {
        "id": "K3NZORNUB6dQ"
      },
      "source": [
        "title = []\n",
        "for i in range(1,df_test.shape[0]+1):\n",
        "  title.append(\"tweet\"+str(i))"
      ],
      "execution_count": null,
      "outputs": []
    },
    {
      "cell_type": "code",
      "metadata": {
        "id": "OfX775cwB6fT"
      },
      "source": [
        "df_test['title']=title"
      ],
      "execution_count": null,
      "outputs": []
    },
    {
      "cell_type": "code",
      "metadata": {
        "id": "y9UKefBaCFmz"
      },
      "source": [
        "df_test = df_test[['title','paragraphs']]"
      ],
      "execution_count": null,
      "outputs": []
    },
    {
      "cell_type": "code",
      "metadata": {
        "colab": {
          "base_uri": "https://localhost:8080/",
          "height": 1000
        },
        "id": "Lf2g6o4gCFpd",
        "outputId": "a9b3c3f0-c41d-46ab-c5a0-a1ef69731bf2"
      },
      "source": [
        "df_test\n"
      ],
      "execution_count": null,
      "outputs": [
        {
          "output_type": "execute_result",
          "data": {
            "text/html": [
              "<div>\n",
              "<style scoped>\n",
              "    .dataframe tbody tr th:only-of-type {\n",
              "        vertical-align: middle;\n",
              "    }\n",
              "\n",
              "    .dataframe tbody tr th {\n",
              "        vertical-align: top;\n",
              "    }\n",
              "\n",
              "    .dataframe thead th {\n",
              "        text-align: right;\n",
              "    }\n",
              "</style>\n",
              "<table border=\"1\" class=\"dataframe\">\n",
              "  <thead>\n",
              "    <tr style=\"text-align: right;\">\n",
              "      <th></th>\n",
              "      <th>title</th>\n",
              "      <th>paragraphs</th>\n",
              "    </tr>\n",
              "  </thead>\n",
              "  <tbody>\n",
              "    <tr>\n",
              "      <th>0</th>\n",
              "      <td>tweet1</td>\n",
              "      <td>[Horrible news out of #Uttarakhand]</td>\n",
              "    </tr>\n",
              "    <tr>\n",
              "      <th>1</th>\n",
              "      <td>tweet2</td>\n",
              "      <td>[Prayer for #Uttarakhand 🙏🙏]</td>\n",
              "    </tr>\n",
              "    <tr>\n",
              "      <th>2</th>\n",
              "      <td>tweet3</td>\n",
              "      <td>[Ohhh God Please Save #Uttarakhand]</td>\n",
              "    </tr>\n",
              "    <tr>\n",
              "      <th>3</th>\n",
              "      <td>tweet4</td>\n",
              "      <td>[Extremely Sad To Hear About The #Uttarakhand ...</td>\n",
              "    </tr>\n",
              "    <tr>\n",
              "      <th>4</th>\n",
              "      <td>tweet5</td>\n",
              "      <td>[Prayers for #Uttarakhand 🙏🙏]</td>\n",
              "    </tr>\n",
              "    <tr>\n",
              "      <th>5</th>\n",
              "      <td>tweet6</td>\n",
              "      <td>[Prayer for #Uttarakhand.\\n🙏🙏]</td>\n",
              "    </tr>\n",
              "    <tr>\n",
              "      <th>6</th>\n",
              "      <td>tweet7</td>\n",
              "      <td>[ALERT 🚨 #Uttarakhand \\n\\nEmergency 🆘 numbers ...</td>\n",
              "    </tr>\n",
              "    <tr>\n",
              "      <th>7</th>\n",
              "      <td>tweet8</td>\n",
              "      <td>[Heavy Devastation Due To Glacier breakage in ...</td>\n",
              "    </tr>\n",
              "    <tr>\n",
              "      <th>8</th>\n",
              "      <td>tweet9</td>\n",
              "      <td>[I wish everyone stay safe in  Uttarakhand dur...</td>\n",
              "    </tr>\n",
              "    <tr>\n",
              "      <th>9</th>\n",
              "      <td>tweet10</td>\n",
              "      <td>[O Lord Shiva please save #Uttarakhand !]</td>\n",
              "    </tr>\n",
              "    <tr>\n",
              "      <th>10</th>\n",
              "      <td>tweet11</td>\n",
              "      <td>[Distressing to hear about the glacier breakin...</td>\n",
              "    </tr>\n",
              "    <tr>\n",
              "      <th>11</th>\n",
              "      <td>tweet12</td>\n",
              "      <td>[#Uttarakhand tragic events unfolding .. https...</td>\n",
              "    </tr>\n",
              "    <tr>\n",
              "      <th>12</th>\n",
              "      <td>tweet13</td>\n",
              "      <td>[Praying for safety of all #Uttarakhand 🙏]</td>\n",
              "    </tr>\n",
              "    <tr>\n",
              "      <th>13</th>\n",
              "      <td>tweet14</td>\n",
              "      <td>[What's happening ? This is so scary.. My pray...</td>\n",
              "    </tr>\n",
              "    <tr>\n",
              "      <th>14</th>\n",
              "      <td>tweet15</td>\n",
              "      <td>[Pray for #Uttarakhand 🙏]</td>\n",
              "    </tr>\n",
              "    <tr>\n",
              "      <th>15</th>\n",
              "      <td>tweet16</td>\n",
              "      <td>[Pray for the Uttarakhand \\n#Uttarakhand]</td>\n",
              "    </tr>\n",
              "    <tr>\n",
              "      <th>16</th>\n",
              "      <td>tweet17</td>\n",
              "      <td>[This is so sad news pray for labors\\n\\n#Uttar...</td>\n",
              "    </tr>\n",
              "    <tr>\n",
              "      <th>17</th>\n",
              "      <td>tweet18</td>\n",
              "      <td>[@kktotlani Prayers for #Uttarakhand 🙏🏻]</td>\n",
              "    </tr>\n",
              "    <tr>\n",
              "      <th>18</th>\n",
              "      <td>tweet19</td>\n",
              "      <td>[Pray for #Uttarakhand people that have mahadev]</td>\n",
              "    </tr>\n",
              "    <tr>\n",
              "      <th>19</th>\n",
              "      <td>tweet20</td>\n",
              "      <td>[Prayering for lives there at devbhumi #Uttara...</td>\n",
              "    </tr>\n",
              "    <tr>\n",
              "      <th>20</th>\n",
              "      <td>tweet21</td>\n",
              "      <td>[Scary news coming from #Uttarakhand \\n\\nPrayi...</td>\n",
              "    </tr>\n",
              "    <tr>\n",
              "      <th>21</th>\n",
              "      <td>tweet22</td>\n",
              "      <td>[Scary visuals\\n#Uttarakhand \\n#Haridwar\\nhttp...</td>\n",
              "    </tr>\n",
              "    <tr>\n",
              "      <th>22</th>\n",
              "      <td>tweet23</td>\n",
              "      <td>[@ANI Such a horrific tragedy in #Uttarakhand ...</td>\n",
              "    </tr>\n",
              "    <tr>\n",
              "      <th>23</th>\n",
              "      <td>tweet24</td>\n",
              "      <td>[We pray for the people who are affected in th...</td>\n",
              "    </tr>\n",
              "    <tr>\n",
              "      <th>24</th>\n",
              "      <td>tweet25</td>\n",
              "      <td>[God bless #Uttarakhand]</td>\n",
              "    </tr>\n",
              "    <tr>\n",
              "      <th>25</th>\n",
              "      <td>tweet26</td>\n",
              "      <td>[🙏Pray for #Uttarakhand]</td>\n",
              "    </tr>\n",
              "    <tr>\n",
              "      <th>26</th>\n",
              "      <td>tweet27</td>\n",
              "      <td>[Floods in Uttarakhand due to Glacial burst is...</td>\n",
              "    </tr>\n",
              "    <tr>\n",
              "      <th>27</th>\n",
              "      <td>tweet28</td>\n",
              "      <td>[Prayers for #Uttarakhand 🙏\\nMy State #Uttarak...</td>\n",
              "    </tr>\n",
              "    <tr>\n",
              "      <th>28</th>\n",
              "      <td>tweet29</td>\n",
              "      <td>[Respected indians \\nLet pray for the  people ...</td>\n",
              "    </tr>\n",
              "    <tr>\n",
              "      <th>29</th>\n",
              "      <td>tweet30</td>\n",
              "      <td>[Let's pray for Uttarakhand. 🙏🙏 Eventually it ...</td>\n",
              "    </tr>\n",
              "    <tr>\n",
              "      <th>...</th>\n",
              "      <td>...</td>\n",
              "      <td>...</td>\n",
              "    </tr>\n",
              "    <tr>\n",
              "      <th>8116</th>\n",
              "      <td>tweet8117</td>\n",
              "      <td>[Terrible news . \\nPrayers with people of #Utt...</td>\n",
              "    </tr>\n",
              "    <tr>\n",
              "      <th>8117</th>\n",
              "      <td>tweet8118</td>\n",
              "      <td>[Prayers for \\n#Uttarakhand. \\nHare Krishna 🙏]</td>\n",
              "    </tr>\n",
              "    <tr>\n",
              "      <th>8118</th>\n",
              "      <td>tweet8119</td>\n",
              "      <td>[If you thought #ClimateCrisis is only for for...</td>\n",
              "    </tr>\n",
              "    <tr>\n",
              "      <th>8119</th>\n",
              "      <td>tweet8120</td>\n",
              "      <td>[.@ITBP_official personnel rescuing labourers ...</td>\n",
              "    </tr>\n",
              "    <tr>\n",
              "      <th>8120</th>\n",
              "      <td>tweet8121</td>\n",
              "      <td>[Prayers for #Uttarakhand \\n🙏🙏]</td>\n",
              "    </tr>\n",
              "    <tr>\n",
              "      <th>8121</th>\n",
              "      <td>tweet8122</td>\n",
              "      <td>[Prayers for #Uttarakhand People\\n\\nGod Please...</td>\n",
              "    </tr>\n",
              "    <tr>\n",
              "      <th>8122</th>\n",
              "      <td>tweet8123</td>\n",
              "      <td>[In my view , \\n\\nAn Eye for Eye or Hand for H...</td>\n",
              "    </tr>\n",
              "    <tr>\n",
              "      <th>8123</th>\n",
              "      <td>tweet8124</td>\n",
              "      <td>[@vijaita @ITBP_official Praying for the well ...</td>\n",
              "    </tr>\n",
              "    <tr>\n",
              "      <th>8124</th>\n",
              "      <td>tweet8125</td>\n",
              "      <td>[Such a big disaster has come in #Uttarakhand ...</td>\n",
              "    </tr>\n",
              "    <tr>\n",
              "      <th>8125</th>\n",
              "      <td>tweet8126</td>\n",
              "      <td>[#Chamoli News is so sad. Lets pray for All an...</td>\n",
              "    </tr>\n",
              "    <tr>\n",
              "      <th>8126</th>\n",
              "      <td>tweet8127</td>\n",
              "      <td>[Every calamity sends a wave of pain that is f...</td>\n",
              "    </tr>\n",
              "    <tr>\n",
              "      <th>8127</th>\n",
              "      <td>tweet8128</td>\n",
              "      <td>[Tapovan hydro project damaged by Uttarakhand ...</td>\n",
              "    </tr>\n",
              "    <tr>\n",
              "      <th>8128</th>\n",
              "      <td>tweet8129</td>\n",
              "      <td>[🔸#Uttarakhand #GlacierBurst Update\\n🔸@NDRFHQ ...</td>\n",
              "    </tr>\n",
              "    <tr>\n",
              "      <th>8129</th>\n",
              "      <td>tweet8130</td>\n",
              "      <td>[My prayers are with the people of #Uttarakhan...</td>\n",
              "    </tr>\n",
              "    <tr>\n",
              "      <th>8130</th>\n",
              "      <td>tweet8131</td>\n",
              "      <td>[ITBP the real Himveer or India proud of you #...</td>\n",
              "    </tr>\n",
              "    <tr>\n",
              "      <th>8131</th>\n",
              "      <td>tweet8132</td>\n",
              "      <td>[The Happiness of being alive 😍😍👏🏼👏🏼..\\n\\n#Utt...</td>\n",
              "    </tr>\n",
              "    <tr>\n",
              "      <th>8132</th>\n",
              "      <td>tweet8133</td>\n",
              "      <td>[Prayers for #Uttarakhand. \\nStay strong Stay ...</td>\n",
              "    </tr>\n",
              "    <tr>\n",
              "      <th>8133</th>\n",
              "      <td>tweet8134</td>\n",
              "      <td>[May all be safe #Uttarakhand #Chamoli]</td>\n",
              "    </tr>\n",
              "    <tr>\n",
              "      <th>8134</th>\n",
              "      <td>tweet8135</td>\n",
              "      <td>[My prayers for the people of  #Uttarakhand 🙏 ...</td>\n",
              "    </tr>\n",
              "    <tr>\n",
              "      <th>8135</th>\n",
              "      <td>tweet8136</td>\n",
              "      <td>[#Uttarakhand #UttarakhandDisaster #Uttarakhan...</td>\n",
              "    </tr>\n",
              "    <tr>\n",
              "      <th>8136</th>\n",
              "      <td>tweet8137</td>\n",
              "      <td>[Rescue operations are on full swing in Chamol...</td>\n",
              "    </tr>\n",
              "    <tr>\n",
              "      <th>8137</th>\n",
              "      <td>tweet8138</td>\n",
              "      <td>[We bow to our brave Jawans of ITBP and NDRF f...</td>\n",
              "    </tr>\n",
              "    <tr>\n",
              "      <th>8138</th>\n",
              "      <td>tweet8139</td>\n",
              "      <td>[Prayers for Devbhoomi \\n\\n#Chamoli  #Uttarakh...</td>\n",
              "    </tr>\n",
              "    <tr>\n",
              "      <th>8139</th>\n",
              "      <td>tweet8140</td>\n",
              "      <td>[#GodMorningSunday\\nSupreme Saint Rampal Ji Ma...</td>\n",
              "    </tr>\n",
              "    <tr>\n",
              "      <th>8140</th>\n",
              "      <td>tweet8141</td>\n",
              "      <td>[May the God force be with you #Uttarakhand]</td>\n",
              "    </tr>\n",
              "    <tr>\n",
              "      <th>8141</th>\n",
              "      <td>tweet8142</td>\n",
              "      <td>[😊\\n\\nHope everyone is fine, Prayers 🙏\\n#Uttar...</td>\n",
              "    </tr>\n",
              "    <tr>\n",
              "      <th>8142</th>\n",
              "      <td>tweet8143</td>\n",
              "      <td>[What a responsible PM would do in this Situat...</td>\n",
              "    </tr>\n",
              "    <tr>\n",
              "      <th>8143</th>\n",
              "      <td>tweet8144</td>\n",
              "      <td>[Scary scenes coming from #Uttarakhand \\n\\nPra...</td>\n",
              "    </tr>\n",
              "    <tr>\n",
              "      <th>8144</th>\n",
              "      <td>tweet8145</td>\n",
              "      <td>[ITBP jawans in search and rescue operation in...</td>\n",
              "    </tr>\n",
              "    <tr>\n",
              "      <th>8145</th>\n",
              "      <td>tweet8146</td>\n",
              "      <td>[Sorry guys, I will not be able to tweet today...</td>\n",
              "    </tr>\n",
              "  </tbody>\n",
              "</table>\n",
              "<p>8146 rows × 2 columns</p>\n",
              "</div>"
            ],
            "text/plain": [
              "          title                                         paragraphs\n",
              "0        tweet1                [Horrible news out of #Uttarakhand]\n",
              "1        tweet2                       [Prayer for #Uttarakhand 🙏🙏]\n",
              "2        tweet3                [Ohhh God Please Save #Uttarakhand]\n",
              "3        tweet4  [Extremely Sad To Hear About The #Uttarakhand ...\n",
              "4        tweet5                      [Prayers for #Uttarakhand 🙏🙏]\n",
              "...         ...                                                ...\n",
              "8141  tweet8142  [😊\\n\\nHope everyone is fine, Prayers 🙏\\n#Uttar...\n",
              "8142  tweet8143  [What a responsible PM would do in this Situat...\n",
              "8143  tweet8144  [Scary scenes coming from #Uttarakhand \\n\\nPra...\n",
              "8144  tweet8145  [ITBP jawans in search and rescue operation in...\n",
              "8145  tweet8146  [Sorry guys, I will not be able to tweet today...\n",
              "\n",
              "[8146 rows x 2 columns]"
            ]
          },
          "metadata": {
            "tags": []
          },
          "execution_count": 208
        }
      ]
    },
    {
      "cell_type": "code",
      "metadata": {
        "colab": {
          "base_uri": "https://localhost:8080/"
        },
        "id": "T6IOdoXqCFrt",
        "outputId": "071e839e-ff0f-4896-c3af-6cd0ded1c6df"
      },
      "source": [
        "cdqa_pipeline = QAPipeline(reader='./models/bert_qa.joblib',max_df=1.0)\n",
        "cdqa_pipeline.fit_retriever(df=df_test)"
      ],
      "execution_count": null,
      "outputs": [
        {
          "output_type": "execute_result",
          "data": {
            "text/plain": [
              "QAPipeline(reader=BertQA(adam_epsilon=1e-08, bert_model='bert-base-uncased',\n",
              "                         do_lower_case=True, fp16=False,\n",
              "                         gradient_accumulation_steps=1, learning_rate=5e-05,\n",
              "                         local_rank=-1, loss_scale=0, max_answer_length=30,\n",
              "                         n_best_size=20, no_cuda=False,\n",
              "                         null_score_diff_threshold=0.0, num_train_epochs=3.0,\n",
              "                         output_dir=None, predict_batch_size=8, seed=42,\n",
              "                         server_ip='', server_po..._size=8,\n",
              "                         verbose_logging=False, version_2_with_negative=False,\n",
              "                         warmup_proportion=0.1, warmup_steps=0),\n",
              "           retrieve_by_doc=False,\n",
              "           retriever=BM25Retriever(b=0.75, floor=None, k1=2.0, lowercase=True,\n",
              "                                   max_df=1.0, min_df=2, ngram_range=(1, 2),\n",
              "                                   preprocessor=None, stop_words='english',\n",
              "                                   token_pattern='(?u)\\\\b\\\\w\\\\w+\\\\b',\n",
              "                                   tokenizer=None, top_n=20, verbose=False,\n",
              "                                   vocabulary=None))"
            ]
          },
          "metadata": {
            "tags": []
          },
          "execution_count": 209
        }
      ]
    },
    {
      "cell_type": "code",
      "metadata": {
        "colab": {
          "base_uri": "https://localhost:8080/"
        },
        "id": "r0XMJ6wfZurs",
        "outputId": "37c141d7-1a92-45f9-d63f-f86e7ac3ee7c"
      },
      "source": [
        "query = \"How many people feared to be drowned in flood after glacier bursts?\"\n",
        "prediction = cdqa_pipeline.predict(query,3)\n",
        "prediction"
      ],
      "execution_count": null,
      "outputs": [
        {
          "output_type": "execute_result",
          "data": {
            "text/plain": [
              "[('150',\n",
              "  'tweet289',\n",
              "  '150 people feared to be drowned in flood after glacier bursts, #Uttarakhand.\\n\\n#UttarakhandDisaster https://t.co/8z924Wcjy7',\n",
              "  23.103674447574697),\n",
              " ('100-150',\n",
              "  'tweet2315',\n",
              "  '#UPDATE: 100-150 feared dead as glacier bursts in #India https://t.co/c0hrQkukWR\\n\\n#Uttarakhand',\n",
              "  16.676401214075227),\n",
              " ('150',\n",
              "  'tweet1343',\n",
              "  '#Uttarakhand flood: Glacier bursts in Chamoli district, 150 people missing\\n#flood \\nhttps://t.co/grCJDIy6gi',\n",
              "  15.214420827372582)]"
            ]
          },
          "metadata": {
            "tags": []
          },
          "execution_count": 219
        }
      ]
    },
    {
      "cell_type": "code",
      "metadata": {
        "colab": {
          "base_uri": "https://localhost:8080/"
        },
        "id": "M3aHiby2ZuuP",
        "outputId": "028690cb-fe1f-4590-e922-7ff972a8416a"
      },
      "source": [
        ""
      ],
      "execution_count": null,
      "outputs": [
        {
          "output_type": "execute_result",
          "data": {
            "text/plain": [
              "[('150',\n",
              "  'tweet289',\n",
              "  '150 people feared to be drowned in flood after glacier bursts, #Uttarakhand.\\n\\n#UttarakhandDisaster https://t.co/8z924Wcjy7',\n",
              "  23.103674447574697),\n",
              " ('100-150',\n",
              "  'tweet2315',\n",
              "  '#UPDATE: 100-150 feared dead as glacier bursts in #India https://t.co/c0hrQkukWR\\n\\n#Uttarakhand',\n",
              "  16.676401214075227),\n",
              " ('150',\n",
              "  'tweet1343',\n",
              "  '#Uttarakhand flood: Glacier bursts in Chamoli district, 150 people missing\\n#flood \\nhttps://t.co/grCJDIy6gi',\n",
              "  15.214420827372582)]"
            ]
          },
          "metadata": {
            "tags": []
          },
          "execution_count": 213
        }
      ]
    },
    {
      "cell_type": "code",
      "metadata": {
        "colab": {
          "base_uri": "https://localhost:8080/"
        },
        "id": "0iU3EQH4Zuwp",
        "outputId": "55691881-3399-4167-84ab-28c23813e407"
      },
      "source": [
        "query = \"What is the water level at Rishikesh?\"\n",
        "prediction = cdqa_pipeline.predict(query,3)\n",
        "prediction"
      ],
      "execution_count": null,
      "outputs": [
        {
          "output_type": "execute_result",
          "data": {
            "text/plain": [
              "[('340.50 m',\n",
              "  'tweet2865',\n",
              "  '@aviral_dwivedi_ @tsrawatbjp @PMOIndia @HMOIndia Water level at Rishikesh the water Level may rise to 340.50 m at 2… https://t.co/cztKX6LVFA',\n",
              "  15.525924821408863),\n",
              " ('340.50 m',\n",
              "  'tweet63',\n",
              "  'Water level at Rishikesh the water Level may rise to 340.50 m at 20:00 hrs and Haridwar the Water Level May Reach 2… https://t.co/ov9E79FYCe',\n",
              "  15.261280953121968),\n",
              " ('340.50 m',\n",
              "  'tweet281',\n",
              "  'Water level at Rishikesh the water Level may rise to 340.50 m at 20:00 hrs and Haridwar the Water Level May Reach 2… https://t.co/8MXDIbLF4W',\n",
              "  15.198351442051717)]"
            ]
          },
          "metadata": {
            "tags": []
          },
          "execution_count": 218
        }
      ]
    },
    {
      "cell_type": "code",
      "metadata": {
        "colab": {
          "base_uri": "https://localhost:8080/"
        },
        "id": "o0TmWr6gZu3U",
        "outputId": "166d83c1-9347-46ae-ac18-abf013949bb7"
      },
      "source": [
        "query = \"What is the helpline number?\"\n",
        "prediction = cdqa_pipeline.predict(query,3)\n",
        "prediction"
      ],
      "execution_count": null,
      "outputs": [
        {
          "output_type": "execute_result",
          "data": {
            "text/plain": [
              "[('9557444486',\n",
              "  'tweet1889',\n",
              "  'Helpline number for\\n#Uttarakhand \\n9557444486 https://t.co/CB12uQaWhe',\n",
              "  15.523602128372982),\n",
              " ('1070',\n",
              "  'tweet2784',\n",
              "  '#Uttarakhand \\nHelpline number-1070 https://t.co/otDBjvjXqv',\n",
              "  13.770097628432213),\n",
              " ('1070 or 9557444486',\n",
              "  'tweet5875',\n",
              "  '#Uttarakhand CM @tsrawatbjp shares the helpline number: 1070 or 9557444486 https://t.co/AvYsw9UxWc',\n",
              "  13.366570603795155)]"
            ]
          },
          "metadata": {
            "tags": []
          },
          "execution_count": 220
        }
      ]
    },
    {
      "cell_type": "code",
      "metadata": {
        "colab": {
          "base_uri": "https://localhost:8080/"
        },
        "id": "yHZ52KXxZu50",
        "outputId": "912adcf0-ae37-4a29-f40a-01c12268bbab"
      },
      "source": [
        "query = \"How many people are affected?\"\n",
        "prediction = cdqa_pipeline.predict(query,3)\n",
        "prediction"
      ],
      "execution_count": null,
      "outputs": [
        {
          "output_type": "execute_result",
          "data": {
            "text/plain": [
              "[('all the people',\n",
              "  'tweet8064',\n",
              "  \"My heart goes out to all the people affected by the #GlacierBurst in #Uttarakhand Prayers for everyone's safety🙏🙏🙏… https://t.co/NKsEmFCthw\",\n",
              "  8.417771877679428),\n",
              " ('all',\n",
              "  'tweet7375',\n",
              "  'Prayers for all the people who are affected due to glacier break off in #Uttarakhand. 🙏\\n#PrayForUttarakhand \\n@tsrawatbjp',\n",
              "  7.669218281787222),\n",
              " ('all',\n",
              "  'tweet2371',\n",
              "  'Scary visuals coming from #Uttarakhand, my prayers are with all the people affected',\n",
              "  7.210377068107661)]"
            ]
          },
          "metadata": {
            "tags": []
          },
          "execution_count": 221
        }
      ]
    },
    {
      "cell_type": "code",
      "metadata": {
        "colab": {
          "base_uri": "https://localhost:8080/"
        },
        "id": "BhAgkg9bCFtU",
        "outputId": "737605f3-2d48-4332-8b29-bdef74a5645e"
      },
      "source": [
        "query = \"How many personnel deployed on rescue mission?\"\n",
        "prediction = cdqa_pipeline.predict(query,3)\n",
        "prediction"
      ],
      "execution_count": null,
      "outputs": [
        {
          "output_type": "execute_result",
          "data": {
            "text/plain": [
              "[('250',\n",
              "  'tweet452',\n",
              "  '3 teams of @ITBP_official, comprising of 250 personnel deployed on rescue mission in #Uttarakhand \\n\\n@AsianetNewsEN',\n",
              "  23.220227867242734),\n",
              " ('Hundreds',\n",
              "  'tweet4781',\n",
              "  'Hundreds of ITBP personnel has been deployed for rescue of casualties in flood affected areas of #Chamoli district.… https://t.co/uYclwcWuTZ',\n",
              "  16.024853160123925),\n",
              " ('200',\n",
              "  'tweet4960',\n",
              "  '4 districts of #Uttarakhand on alert, 200 #ITBP personnel deployed for rescue operation #Joshimath #Chamoli… https://t.co/SQrcsHKKfQ',\n",
              "  14.60856583331118)]"
            ]
          },
          "metadata": {
            "tags": []
          },
          "execution_count": 222
        }
      ]
    },
    {
      "cell_type": "code",
      "metadata": {
        "colab": {
          "base_uri": "https://localhost:8080/"
        },
        "id": "Pfh5oEBrEeX6",
        "outputId": "c8567045-6ffd-4a36-a7ea-3bc8589539bd"
      },
      "source": [
        "query = \"How many casualties feared in the flash flood?\"\n",
        "prediction = cdqa_pipeline.predict(query,3)\n",
        "prediction"
      ],
      "execution_count": null,
      "outputs": [
        {
          "output_type": "execute_result",
          "data": {
            "text/plain": [
              "[('100-150',\n",
              "  'tweet2871',\n",
              "  '100-150 casualties feared in the flash flood : #Uttarakhand Chief Secretary',\n",
              "  20.627826261156528),\n",
              " ('100-150',\n",
              "  'tweet4523',\n",
              "  '100-150 casualties feared in the flash flood in Chamoli district.\\n\\n#Uttarakhand\\n\\nhttps://t.co/Hw5NfUVCWv',\n",
              "  20.280783108691686),\n",
              " ('100-150',\n",
              "  'tweet1535',\n",
              "  \"100-150 casualties feared in flash flood in Chamoli: U'khand Chief Secretary https://t.co/4C1nFUOZc5 via… https://t.co/ywD2L38jmF\",\n",
              "  20.17004812143277)]"
            ]
          },
          "metadata": {
            "tags": []
          },
          "execution_count": 224
        }
      ]
    },
    {
      "cell_type": "code",
      "metadata": {
        "colab": {
          "base_uri": "https://localhost:8080/"
        },
        "id": "dSgkgYWNGlqD",
        "outputId": "7622b2a4-558a-4617-ce0c-db6b8a487803"
      },
      "source": [
        "query = \"Who is Chief Secretary of Uttrakhand?\"\n",
        "prediction = cdqa_pipeline.predict(query,3)\n",
        "prediction"
      ],
      "execution_count": null,
      "outputs": [
        {
          "output_type": "execute_result",
          "data": {
            "text/plain": [
              "[('OM Prakash',\n",
              "  'tweet4414',\n",
              "  '#Uttarakhand - 100-150 casualties feared in the flash flood in #Chamoli district -  OM Prakash, Chief Secretary, Ut… https://t.co/beMIHJaKrn',\n",
              "  16.178528802074375),\n",
              " ('OM Prakash',\n",
              "  'tweet7125',\n",
              "  '100-150 casualties feared in the flash flood in #Chamoli district: #Uttarakhand Chief Secretary OM Prakash',\n",
              "  15.356839581254015),\n",
              " ('OM Prakash',\n",
              "  'tweet1637',\n",
              "  '100-150 casualties feared in the flash flood in #Chamoli district: #Uttarakhand Chief Secretary OM Prakash to #ANI',\n",
              "  15.238033616507892)]"
            ]
          },
          "metadata": {
            "tags": []
          },
          "execution_count": 225
        }
      ]
    },
    {
      "cell_type": "code",
      "metadata": {
        "colab": {
          "base_uri": "https://localhost:8080/"
        },
        "id": "r-WIf9CSG0gv",
        "outputId": "93a70b4f-6377-41a6-82df-20a72925af67"
      },
      "source": [
        "query = \"glacier burst at which village?\"\n",
        "prediction = cdqa_pipeline.predict(query,3)\n",
        "prediction"
      ],
      "execution_count": null,
      "outputs": [
        {
          "output_type": "execute_result",
          "data": {
            "text/plain": [
              "[('Reni',\n",
              "  'tweet7199',\n",
              "  'Very disturbing news:\\nA glacier burst at the Reni village of Chamoli district in #Uttarakhand has triggered a massi… https://t.co/qPMEulT2ar',\n",
              "  14.387650362341112),\n",
              " ('Alaknanda valley',\n",
              "  'tweet6036',\n",
              "  'Amateur video. This morning’s episode. Glacier burst in Alaknanda valley. Please verify #naturaldisaster #glacier… https://t.co/Z7hwVKH4Jp',\n",
              "  13.943567251113306),\n",
              " ('Chamoli',\n",
              "  'tweet1161',\n",
              "  'this is apocalyptical \\n\\n#Uttarakhand glacier burst in #Chamoli \\n\\nvia @Vimalbhai11 \\n\\nhttps://t.co/Cb6I2zQgBG',\n",
              "  13.837375398504868)]"
            ]
          },
          "metadata": {
            "tags": []
          },
          "execution_count": 226
        }
      ]
    },
    {
      "cell_type": "code",
      "metadata": {
        "colab": {
          "base_uri": "https://localhost:8080/"
        },
        "id": "jvzXl_E9HKpP",
        "outputId": "647844fc-104f-473f-a1ba-f785fceddf9a"
      },
      "source": [
        "query = \"Why there is floods in Uttrakhand?\"\n",
        "prediction = cdqa_pipeline.predict(query,3)\n",
        "prediction"
      ],
      "execution_count": null,
      "outputs": [
        {
          "output_type": "execute_result",
          "data": {
            "text/plain": [
              "[('melting of a Glacier',\n",
              "  'tweet549',\n",
              "  'Flash Floods in #Uttarakhand due to melting of a Glacier.\\nUnprecedented floods in #Hyderabad last  year\\nAll are sig… https://t.co/XqGCg8o2VO',\n",
              "  9.504687458283342),\n",
              " ('glacier burst',\n",
              "  'tweet2392',\n",
              "  'Massive floods in #Uttarakhand due to #glacier burst. Pray God that the lives be saved. #Chamoli #Uttrakhand',\n",
              "  8.508718047825873),\n",
              " ('deep trouble',\n",
              "  'tweet3902',\n",
              "  'Uttrakhand is in deep trouble. Pray for #Uttarakhand',\n",
              "  1.75774861409816)]"
            ]
          },
          "metadata": {
            "tags": []
          },
          "execution_count": 229
        }
      ]
    },
    {
      "cell_type": "code",
      "metadata": {
        "colab": {
          "base_uri": "https://localhost:8080/"
        },
        "id": "3EOt2ndEHQMe",
        "outputId": "6aef63b8-61a9-4ff6-ee2a-f9f05d8ce9b9"
      },
      "source": [
        "query = \"Flood in which river?\"\n",
        "prediction = cdqa_pipeline.predict(query,3)\n",
        "prediction"
      ],
      "execution_count": null,
      "outputs": [
        {
          "output_type": "execute_result",
          "data": {
            "text/plain": [
              "[('Dhauliganga River',\n",
              "  'tweet6019',\n",
              "  'Scary videos coming in from Uttarakhand. Massive flood in the Dhauliganga River. \\n\\n#Uttarakhand #Flood https://t.co/EpTaAIUGrY',\n",
              "  14.551887157301769),\n",
              " ('Dhauliganga river',\n",
              "  'tweet5030',\n",
              "  'A massive #flood in the Dhauliganga river was reported near a village in #Uttarakhand’s #Chamoli district https://t.co/J5Py52sah4',\n",
              "  13.981476395989771),\n",
              " ('Dhauliganga river',\n",
              "  'tweet4066',\n",
              "  \"A massive flood has been reported from Uttarakhand's Chamoli district, water level in the Dhauliganga river suddenl… https://t.co/vGywOWeFuW\",\n",
              "  13.864322938959928)]"
            ]
          },
          "metadata": {
            "tags": []
          },
          "execution_count": 230
        }
      ]
    },
    {
      "cell_type": "code",
      "metadata": {
        "colab": {
          "base_uri": "https://localhost:8080/"
        },
        "id": "9soohe-fKE0i",
        "outputId": "8db58652-15b4-4246-b0b8-41d3991c058b"
      },
      "source": [
        "query = \"Who is the prime minister?\"\n",
        "prediction = cdqa_pipeline.predict(query,3)\n",
        "prediction"
      ],
      "execution_count": null,
      "outputs": [
        {
          "output_type": "execute_result",
          "data": {
            "text/plain": [
              "[('NarendraModi',\n",
              "  'tweet1323',\n",
              "  'Prime Minister #NarendraModi and Union Home Minister #AmitShah on Sunday spoke to #Uttarakhand Chief Minister… https://t.co/UFPsF7oofg',\n",
              "  15.100840858559428),\n",
              " ('Narendra Modi',\n",
              "  'tweet2106',\n",
              "  'Prime Minister Narendra Modi said, \"I am constantly monitoring unfortunate situation in Uttarakhand. India stands w… https://t.co/Ai92EKyXLR',\n",
              "  14.654296721761257),\n",
              " ('Shri @narendramodi',\n",
              "  'tweet1676',\n",
              "  'Prime Minister Shri @narendramodi speaks to Uttarakhand CM Shri @tsrawatbjp ; reviews unfortunate situation in… https://t.co/DbEq55wKfY',\n",
              "  13.778878030621843)]"
            ]
          },
          "metadata": {
            "tags": []
          },
          "execution_count": 231
        }
      ]
    },
    {
      "cell_type": "code",
      "metadata": {
        "colab": {
          "base_uri": "https://localhost:8080/"
        },
        "id": "pXKeY2q0KHG1",
        "outputId": "ab370bdc-ce7a-446c-edf8-ab5ce7432630"
      },
      "source": [
        "query = \"Who is the home minister?\"\n",
        "prediction = cdqa_pipeline.predict(query,3)\n",
        "prediction"
      ],
      "execution_count": null,
      "outputs": [
        {
          "output_type": "execute_result",
          "data": {
            "text/plain": [
              "[('Amit Shah',\n",
              "  'tweet7650',\n",
              "  'WATCH: Uttarakhand glacier burst: Union Home Minister Amit Shah assures assistance\\n\\nhttps://t.co/weA2A3i6fQ… https://t.co/U0URKe7qbI',\n",
              "  15.827060778932786),\n",
              " ('Amit Shah',\n",
              "  'tweet2742',\n",
              "  'Home Minister Amit Shah says \"Modi Sarkaar\" is with the people of #Uttarakhand &amp; taking all possible relief and res… https://t.co/25qckuN9fb',\n",
              "  15.475015672044968),\n",
              " ('AmitShah',\n",
              "  'tweet1323',\n",
              "  'Prime Minister #NarendraModi and Union Home Minister #AmitShah on Sunday spoke to #Uttarakhand Chief Minister… https://t.co/UFPsF7oofg',\n",
              "  12.579470134810666)]"
            ]
          },
          "metadata": {
            "tags": []
          },
          "execution_count": 232
        }
      ]
    },
    {
      "cell_type": "code",
      "metadata": {
        "colab": {
          "base_uri": "https://localhost:8080/"
        },
        "id": "2kCKIzoNKKV2",
        "outputId": "4d0a3650-67a6-41fc-b81e-1ceef7cf63c3"
      },
      "source": [
        "query = \"Which helicopter is on standby for search?\"\n",
        "prediction = cdqa_pipeline.predict(query,3)\n",
        "prediction"
      ],
      "execution_count": null,
      "outputs": [
        {
          "output_type": "execute_result",
          "data": {
            "text/plain": [
              "[('Chinook',\n",
              "  'tweet7573',\n",
              "  'IAF Mi-17 &amp; Chinook helicopters from Chandigarh and elsewhere on standby for search &amp; rescue ops in #Uttarakhand. W… https://t.co/y7mqlMYV2a',\n",
              "  15.715216452254236),\n",
              " ('Chinook',\n",
              "  'tweet1913',\n",
              "  'IAF Mi-17 &amp; Chinook helicopters from Chandigarh and elsewhere on standby for search &amp; rescue ops in #Uttarakhand. W… https://t.co/ImgjjZFzaS',\n",
              "  15.659592944754543),\n",
              " ('Chinook',\n",
              "  'tweet7619',\n",
              "  'IAF Mi-17 &amp; Chinook helicopters from Chandigarh and elsewhere on standby for search &amp; rescue ops in #Uttarakhand. W… https://t.co/aXJbQA4l1a',\n",
              "  15.64145470298666)]"
            ]
          },
          "metadata": {
            "tags": []
          },
          "execution_count": 233
        }
      ]
    },
    {
      "cell_type": "code",
      "metadata": {
        "colab": {
          "base_uri": "https://localhost:8080/"
        },
        "id": "2VPk45JzKNtt",
        "outputId": "67d9870b-1a30-4c86-ac26-37ce7b6ec063"
      },
      "source": [
        "query = \"What is the helpline number of Uttrakhand government?\"\n",
        "prediction = cdqa_pipeline.predict(query,3)\n",
        "prediction"
      ],
      "execution_count": null,
      "outputs": [
        {
          "output_type": "execute_result",
          "data": {
            "text/plain": [
              "[('9557444486',\n",
              "  'tweet1889',\n",
              "  'Helpline number for\\n#Uttarakhand \\n9557444486 https://t.co/CB12uQaWhe',\n",
              "  14.776001644478633),\n",
              " ('1070',\n",
              "  'tweet411',\n",
              "  'Natural disaster in Uttarakhand!\\nLet all our pray for Uttrakhand .🙏🙏\\nGovernment has issued helpline numbers - 1070… https://t.co/QkLcwA6x8U',\n",
              "  14.033116107564979),\n",
              " ('₹25000 Thousand',\n",
              "  'tweet580',\n",
              "  '#Uttarakhand I Am Happy To Announce That I Help Uttrakhand Government To Give ₹25000 Thousand To Uttrakhand Governm… https://t.co/Tc5jn5qOny',\n",
              "  13.660619219443868)]"
            ]
          },
          "metadata": {
            "tags": []
          },
          "execution_count": 234
        }
      ]
    },
    {
      "cell_type": "code",
      "metadata": {
        "colab": {
          "base_uri": "https://localhost:8080/"
        },
        "id": "Bu3E2obdU47B",
        "outputId": "1a80b71d-ac7c-4cc7-adb9-c834defe81eb"
      },
      "source": [
        "query = \"Who is the UP CM?\"\n",
        "prediction = cdqa_pipeline.predict(query,3)\n",
        "prediction"
      ],
      "execution_count": null,
      "outputs": [
        {
          "output_type": "execute_result",
          "data": {
            "text/plain": [
              "[('Rawat',\n",
              "  'tweet1331',\n",
              "  '#Uttarakhandflood: Modi, Shah assure CM Rawat of all help \\n\\n#Uttarakhand #chamoli \\nhttps://t.co/PYSgAhBMDV',\n",
              "  11.388969237135658),\n",
              " ('Vijay Rupani',\n",
              "  'tweet2453',\n",
              "  '#Gujarat: CM Vijay Rupani has spoken to  CM of #Uttarakhand has requested for immediate help and rescue relief to t… https://t.co/TXjHgfVCaC',\n",
              "  11.128906645413899),\n",
              " ('Trivendr',\n",
              "  'tweet6186',\n",
              "  '#Uttarakhand  CM @tsrawatbjp  said, \"I request my siblings to make better use of this loan.\"Uttarakhand CM Trivendr… https://t.co/1TSWS6HNZd',\n",
              "  11.125594222373369)]"
            ]
          },
          "metadata": {
            "tags": []
          },
          "execution_count": 236
        }
      ]
    },
    {
      "cell_type": "code",
      "metadata": {
        "colab": {
          "base_uri": "https://localhost:8080/"
        },
        "id": "dSM1EBeBVAdF",
        "outputId": "d37f3b8e-5d22-4704-a60c-52af2cde9efc"
      },
      "source": [
        "query = \"From when Classes 6-11 will resume?\"\n",
        "prediction = cdqa_pipeline.predict(query,3)\n",
        "prediction"
      ],
      "execution_count": null,
      "outputs": [
        {
          "output_type": "execute_result",
          "data": {
            "text/plain": [
              "[('Feb 8',\n",
              "  'tweet6287',\n",
              "  'Classes 6-11 To Resume From Feb 8 In Uttarakhand #Uttarakhand #COVID19 #Education https://t.co/JozGU4VzO5',\n",
              "  17.223065404389136),\n",
              " ('8th February',\n",
              "  'tweet6412',\n",
              "  '#Uttarakhand Govt issues directions as classes for students of std 6-11 resumes in the state from 8th February.… https://t.co/C34XUYarnF',\n",
              "  11.015616110442),\n",
              " ('Feb 8',\n",
              "  'tweet6744',\n",
              "  'Schools For Classes 6 To 12 In Uttarakhand To Reopen From Feb 8 #Schools #Uttarakhand #Cvid19 #MGNREGA https://t.co/CjvvFBM3Sx',\n",
              "  11.005179021073584)]"
            ]
          },
          "metadata": {
            "tags": []
          },
          "execution_count": 237
        }
      ]
    },
    {
      "cell_type": "code",
      "metadata": {
        "colab": {
          "base_uri": "https://localhost:8080/"
        },
        "id": "XyGmgojSVyiT",
        "outputId": "7cb86535-ddf1-4c5f-fecd-e04a08ef5212"
      },
      "source": [
        "query = \"How many health care workers were vaccinated?\"\n",
        "prediction = cdqa_pipeline.predict(query,3)\n",
        "prediction"
      ],
      "execution_count": null,
      "outputs": [
        {
          "output_type": "execute_result",
          "data": {
            "text/plain": [
              "[('8705',\n",
              "  'tweet6418',\n",
              "  '8705 health care workers vaccinated today in #Uttarakhand. Maximum in Dehradun (2076), Pauri Garhwal (1083) and Har… https://t.co/h8R9IGOej7',\n",
              "  21.81127773623723),\n",
              " ('73,562',\n",
              "  'tweet6174',\n",
              "  '#SDCVaccineTracker\\n\\n3470 beneficiaries vaccinated today in #Uttarakhand. In total 73,562 beneficiaries have been va… https://t.co/rMB8lGLzPi',\n",
              "  12.185915493908986),\n",
              " ('10K',\n",
              "  'tweet6494',\n",
              "  'Yesterday 10K Doses given to Health Workers of UK\\n#Dehradun #Uttarakhand https://t.co/GurzzJXXSx',\n",
              "  6.786547257988284)]"
            ]
          },
          "metadata": {
            "tags": []
          },
          "execution_count": 239
        }
      ]
    },
    {
      "cell_type": "code",
      "metadata": {
        "id": "ZJhiO65fV8-D"
      },
      "source": [
        "df_test['paragraphs']=df_test.apply(lambda x: [x])"
      ],
      "execution_count": null,
      "outputs": []
    },
    {
      "cell_type": "code",
      "metadata": {
        "colab": {
          "base_uri": "https://localhost:8080/",
          "height": 173
        },
        "id": "eEwApckxWuUR",
        "outputId": "ea065641-4147-4ec1-95e4-af1a23c7c65a"
      },
      "source": [
        "df_test"
      ],
      "execution_count": null,
      "outputs": [
        {
          "output_type": "execute_result",
          "data": {
            "text/html": [
              "<div>\n",
              "<style scoped>\n",
              "    .dataframe tbody tr th:only-of-type {\n",
              "        vertical-align: middle;\n",
              "    }\n",
              "\n",
              "    .dataframe tbody tr th {\n",
              "        vertical-align: top;\n",
              "    }\n",
              "\n",
              "    .dataframe thead th {\n",
              "        text-align: right;\n",
              "    }\n",
              "</style>\n",
              "<table border=\"1\" class=\"dataframe\">\n",
              "  <thead>\n",
              "    <tr style=\"text-align: right;\">\n",
              "      <th></th>\n",
              "      <th>paragraphs</th>\n",
              "    </tr>\n",
              "  </thead>\n",
              "  <tbody>\n",
              "    <tr>\n",
              "      <th>0</th>\n",
              "      <td>NaN</td>\n",
              "    </tr>\n",
              "    <tr>\n",
              "      <th>1</th>\n",
              "      <td>NaN</td>\n",
              "    </tr>\n",
              "    <tr>\n",
              "      <th>2</th>\n",
              "      <td>NaN</td>\n",
              "    </tr>\n",
              "    <tr>\n",
              "      <th>3</th>\n",
              "      <td>NaN</td>\n",
              "    </tr>\n",
              "  </tbody>\n",
              "</table>\n",
              "</div>"
            ],
            "text/plain": [
              "  paragraphs\n",
              "0        NaN\n",
              "1        NaN\n",
              "2        NaN\n",
              "3        NaN"
            ]
          },
          "metadata": {
            "tags": []
          },
          "execution_count": 101
        }
      ]
    },
    {
      "cell_type": "code",
      "metadata": {
        "id": "XJuA0z98WwFI"
      },
      "source": [
        ""
      ],
      "execution_count": null,
      "outputs": []
    }
  ]
}